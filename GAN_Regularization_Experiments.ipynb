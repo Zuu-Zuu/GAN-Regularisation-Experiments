{
  "nbformat": 4,
  "nbformat_minor": 0,
  "metadata": {
    "colab": {
      "provenance": [],
      "machine_shape": "hm",
      "gpuType": "T4"
    },
    "kernelspec": {
      "name": "python3",
      "display_name": "Python 3"
    },
    "language_info": {
      "name": "python"
    },
    "accelerator": "GPU"
  },
  "cells": [
    {
      "cell_type": "code",
      "execution_count": null,
      "metadata": {
        "colab": {
          "base_uri": "https://localhost:8080/"
        },
        "id": "k0LL8iForVf2",
        "outputId": "4de5d9e2-ada5-42bb-fa4e-b0bf43b53bcc"
      },
      "outputs": [
        {
          "output_type": "stream",
          "name": "stdout",
          "text": [
            "\u001b[2K   \u001b[90m━━━━━━━━━━━━━━━━━━━━━━━━━━━━━━━━━━━━━━━━\u001b[0m \u001b[32m363.4/363.4 MB\u001b[0m \u001b[31m3.2 MB/s\u001b[0m eta \u001b[36m0:00:00\u001b[0m\n",
            "\u001b[2K   \u001b[90m━━━━━━━━━━━━━━━━━━━━━━━━━━━━━━━━━━━━━━━━\u001b[0m \u001b[32m13.8/13.8 MB\u001b[0m \u001b[31m124.8 MB/s\u001b[0m eta \u001b[36m0:00:00\u001b[0m\n",
            "\u001b[2K   \u001b[90m━━━━━━━━━━━━━━━━━━━━━━━━━━━━━━━━━━━━━━━━\u001b[0m \u001b[32m24.6/24.6 MB\u001b[0m \u001b[31m103.5 MB/s\u001b[0m eta \u001b[36m0:00:00\u001b[0m\n",
            "\u001b[2K   \u001b[90m━━━━━━━━━━━━━━━━━━━━━━━━━━━━━━━━━━━━━━━━\u001b[0m \u001b[32m883.7/883.7 kB\u001b[0m \u001b[31m60.3 MB/s\u001b[0m eta \u001b[36m0:00:00\u001b[0m\n",
            "\u001b[2K   \u001b[90m━━━━━━━━━━━━━━━━━━━━━━━━━━━━━━━━━━━━━━━━\u001b[0m \u001b[32m664.8/664.8 MB\u001b[0m \u001b[31m2.1 MB/s\u001b[0m eta \u001b[36m0:00:00\u001b[0m\n",
            "\u001b[2K   \u001b[90m━━━━━━━━━━━━━━━━━━━━━━━━━━━━━━━━━━━━━━━━\u001b[0m \u001b[32m211.5/211.5 MB\u001b[0m \u001b[31m4.8 MB/s\u001b[0m eta \u001b[36m0:00:00\u001b[0m\n",
            "\u001b[2K   \u001b[90m━━━━━━━━━━━━━━━━━━━━━━━━━━━━━━━━━━━━━━━━\u001b[0m \u001b[32m56.3/56.3 MB\u001b[0m \u001b[31m45.5 MB/s\u001b[0m eta \u001b[36m0:00:00\u001b[0m\n",
            "\u001b[2K   \u001b[90m━━━━━━━━━━━━━━━━━━━━━━━━━━━━━━━━━━━━━━━━\u001b[0m \u001b[32m127.9/127.9 MB\u001b[0m \u001b[31m20.4 MB/s\u001b[0m eta \u001b[36m0:00:00\u001b[0m\n",
            "\u001b[2K   \u001b[90m━━━━━━━━━━━━━━━━━━━━━━━━━━━━━━━━━━━━━━━━\u001b[0m \u001b[32m207.5/207.5 MB\u001b[0m \u001b[31m4.3 MB/s\u001b[0m eta \u001b[36m0:00:00\u001b[0m\n",
            "\u001b[2K   \u001b[90m━━━━━━━━━━━━━━━━━━━━━━━━━━━━━━━━━━━━━━━━\u001b[0m \u001b[32m21.1/21.1 MB\u001b[0m \u001b[31m116.2 MB/s\u001b[0m eta \u001b[36m0:00:00\u001b[0m\n",
            "\u001b[2K   \u001b[90m━━━━━━━━━━━━━━━━━━━━━━━━━━━━━━━━━━━━━━━━\u001b[0m \u001b[32m981.9/981.9 kB\u001b[0m \u001b[31m66.0 MB/s\u001b[0m eta \u001b[36m0:00:00\u001b[0m\n",
            "\u001b[?25h\u001b[33mWARNING: Skipping torch-fidelity as it is not installed.\u001b[0m\u001b[33m\n",
            "\u001b[0m"
          ]
        }
      ],
      "source": [
        "# Install required packages (Colab environment setup)\n",
        "!pip install torch torchvision torchmetrics --quiet\n",
        "!pip uninstall -y torch-fidelity -q\n",
        "!pip install torch-fidelity==0.3.0 --quiet\n",
        "!pip install matplotlib tqdm --quiet"
      ]
    },
    {
      "cell_type": "code",
      "source": [
        "# Imports and reproducibility\n",
        "import os\n",
        "import time\n",
        "import random\n",
        "import numpy as np\n",
        "import torch\n",
        "import torch.nn as nn\n",
        "import torch.optim as optim\n",
        "import torch.backends.cudnn as cudnn\n",
        "from torch.utils.data import DataLoader\n",
        "from torchvision import datasets, transforms, utils as vutils\n",
        "from torchvision.utils import save_image\n",
        "import matplotlib.pyplot as plt\n",
        "from tqdm import tqdm\n",
        "\n",
        "# For evaluation metrics\n",
        "from torchvision.datasets import CIFAR10\n",
        "from torchvision.models.inception import inception_v3\n",
        "import torch.nn.functional as F\n",
        "from PIL import Image\n",
        "from torch_fidelity import calculate_metrics\n",
        "from scipy.stats import entropy\n",
        "import pandas as pd\n",
        "from torchvision import transforms"
      ],
      "metadata": {
        "id": "BbfzcSWyrV01"
      },
      "execution_count": null,
      "outputs": []
    },
    {
      "cell_type": "code",
      "source": [
        "# Set random seed for reproducibility of results\n",
        "SEED = 42\n",
        "random.seed(SEED)\n",
        "np.random.seed(SEED)\n",
        "torch.manual_seed(SEED)\n",
        "torch.cuda.manual_seed_all(SEED)\n",
        "cudnn.deterministic = True\n",
        "cudnn.benchmark = False"
      ],
      "metadata": {
        "id": "98CCJTvBrV3P"
      },
      "execution_count": null,
      "outputs": []
    },
    {
      "cell_type": "code",
      "source": [
        "# Mount Google Drive for storing experiment results\n",
        "from google.colab import drive\n",
        "drive.mount('/content/drive')"
      ],
      "metadata": {
        "colab": {
          "base_uri": "https://localhost:8080/"
        },
        "id": "KBzUeu2DrV5u",
        "outputId": "75a18ca5-e709-43d4-ba85-69e2e279ef55"
      },
      "execution_count": null,
      "outputs": [
        {
          "output_type": "stream",
          "name": "stdout",
          "text": [
            "Mounted at /content/drive\n"
          ]
        }
      ]
    },
    {
      "cell_type": "markdown",
      "source": [
        "### E1_Baseline"
      ],
      "metadata": {
        "id": "P74zAbmPrwca"
      }
    },
    {
      "cell_type": "code",
      "source": [
        "# Experiment configuration (E1 baseline)\n",
        "experiment_id = \"E1_Baseline\"\n",
        "\n",
        "config = {\n",
        "    \"experiment_id\": experiment_id,     # Experiment ID matches report table\n",
        "    \"model\": \"DCGAN\",                   # Architecture used\n",
        "    \"regularization_type\": None,        # No regularization in baseline\n",
        "    \"regularization_lambda_L1\": 0.0,\n",
        "    \"regularization_lambda_L2\": 0.0,\n",
        "    \"regularization_placement\": None,   # No placement since no regularization\n",
        "    \"dataset\": \"CIFAR-10\",\n",
        "    \"image_size\": 32,\n",
        "    \"latent_dim\": 100,                  # Dimensionality of noise vector z\n",
        "    \"num_epochs\": 100,\n",
        "    \"batch_size\": 128,\n",
        "    \"optimizer\": \"Adam\",\n",
        "    \"learning_rate\": 0.0002,\n",
        "    \"beta1\": 0.5,\n",
        "    \"fid_samples\": 10000,               # Number of images for FID/IS eval\n",
        "    \"save_images_every\": 10,            # Save sample grid every N epochs\n",
        "    \"timestamp\": time.strftime(\"%Y-%m-%d %H:%M:%S\"),\n",
        "    \"pytorch_version\": torch.__version__,\n",
        "    \"cuda_version\": torch.version.cuda if torch.cuda.is_available() else \"None\",\n",
        "    \"device\": torch.device(\"cuda\" if torch.cuda.is_available() else \"cpu\").type\n",
        "}"
      ],
      "metadata": {
        "id": "Kj0h3s_JrV8G"
      },
      "execution_count": null,
      "outputs": []
    },
    {
      "cell_type": "code",
      "source": [
        "# Create experiment output folders in Drive\n",
        "ROOT_DIR = \"/content/drive/MyDrive/GAN_Research/\"\n",
        "exp_path = os.path.join(ROOT_DIR, experiment_id)\n",
        "\n",
        "for subfolder in [\"images\", \"metrics\", \"eval_data/real\", \"eval_data/fake\"]:\n",
        "    os.makedirs(os.path.join(exp_path, subfolder), exist_ok=True)"
      ],
      "metadata": {
        "id": "8WrgklVfrV-K"
      },
      "execution_count": null,
      "outputs": []
    },
    {
      "cell_type": "code",
      "source": [
        "# Save config file for full traceability\n",
        "config_path = os.path.join(exp_path, \"config_manual.txt\")\n",
        "with open(config_path, \"w\") as f:\n",
        "    for k, v in config.items():\n",
        "        f.write(f\"{k}: {v}\\n\")\n",
        "print(f\"Configuration saved: {config_path}\")"
      ],
      "metadata": {
        "colab": {
          "base_uri": "https://localhost:8080/"
        },
        "id": "rKiIM7d9rWAk",
        "outputId": "06b178c2-db53-4f54-cfb5-3e14cc65a04a"
      },
      "execution_count": null,
      "outputs": [
        {
          "output_type": "stream",
          "name": "stdout",
          "text": [
            "Configuration saved: /content/drive/MyDrive/GAN_Research/E1_Baseline/config_manual.txt\n"
          ]
        }
      ]
    },
    {
      "cell_type": "code",
      "source": [
        "# Prepare fixed noise for sample images\n",
        "num_fixed_samples = 64\n",
        "latent_dim = config[\"latent_dim\"]\n",
        "device = torch.device(config[\"device\"])\n",
        "fixed_noise = torch.randn(num_fixed_samples, latent_dim, 1, 1, device=device)\n",
        "noise_path = os.path.join(exp_path, \"fixed_noise.pt\")\n",
        "torch.save(fixed_noise, noise_path)"
      ],
      "metadata": {
        "id": "dAVDnl9rrWDP"
      },
      "execution_count": null,
      "outputs": []
    },
    {
      "cell_type": "code",
      "source": [
        "# Load CIFAR-10 dataset\n",
        "transform = transforms.Compose([\n",
        "    transforms.Resize(config[\"image_size\"]),\n",
        "    transforms.ToTensor(),\n",
        "    transforms.Normalize([0.5]*3, [0.5]*3)     # Normalization to [-1, 1]\n",
        "])\n",
        "dataset = datasets.CIFAR10(root=\"./data\", train=True, transform=transform, download=True)\n",
        "dataloader = DataLoader(dataset, batch_size=config[\"batch_size\"], shuffle=True, num_workers=2, pin_memory=True)\n",
        "print(f\"CIFAR-10 loaded: {len(dataset)} images, Batch size: {config['batch_size']}\")"
      ],
      "metadata": {
        "colab": {
          "base_uri": "https://localhost:8080/"
        },
        "id": "eTrnlJQ1rWFm",
        "outputId": "ad4521ec-e7ea-4e8f-b10d-5ad7211ddc96"
      },
      "execution_count": null,
      "outputs": [
        {
          "output_type": "stream",
          "name": "stderr",
          "text": [
            "100%|██████████| 170M/170M [00:13<00:00, 13.1MB/s]\n"
          ]
        },
        {
          "output_type": "stream",
          "name": "stdout",
          "text": [
            "CIFAR-10 loaded: 50000 images, Batch size: 128\n"
          ]
        }
      ]
    },
    {
      "cell_type": "code",
      "source": [
        "# Define Generator and Discriminator (DCGAN)\n",
        "class Generator(nn.Module):\n",
        "    def __init__(self, latent_dim=100, feature_maps=64, out_channels=3):\n",
        "        super(Generator, self).__init__()\n",
        "        self.main = nn.Sequential(\n",
        "            # First layer: fully-connected transpose conv from noise\n",
        "            nn.ConvTranspose2d(latent_dim, feature_maps * 8, 4, 1, 0, bias=False),\n",
        "            nn.BatchNorm2d(feature_maps * 8),\n",
        "            nn.ReLU(True),\n",
        "\n",
        "            # Upsampling layers\n",
        "            nn.ConvTranspose2d(feature_maps * 8, feature_maps * 4, 4, 2, 1, bias=False),\n",
        "            nn.BatchNorm2d(feature_maps * 4),\n",
        "            nn.ReLU(True),\n",
        "\n",
        "            nn.ConvTranspose2d(feature_maps * 4, feature_maps * 2, 4, 2, 1, bias=False),\n",
        "            nn.BatchNorm2d(feature_maps * 2),\n",
        "            nn.ReLU(True),\n",
        "\n",
        "            nn.ConvTranspose2d(feature_maps * 2, feature_maps, 4, 2, 1, bias=False),\n",
        "            nn.BatchNorm2d(feature_maps),\n",
        "            nn.ReLU(True),\n",
        "\n",
        "            # Output RGB image with Tanh to match normalization\n",
        "            nn.ConvTranspose2d(feature_maps, out_channels, 3, 1, 1, bias=False),\n",
        "            nn.Tanh()\n",
        "        )\n",
        "\n",
        "    def forward(self, z):\n",
        "        return self.main(z)\n",
        "\n",
        "class Discriminator(nn.Module):\n",
        "    def __init__(self, in_channels=3, feature_maps=64):\n",
        "        super(Discriminator, self).__init__()\n",
        "        self.main = nn.Sequential(\n",
        "\n",
        "            # Downsampling conv layers\n",
        "            nn.Conv2d(in_channels, feature_maps, 4, 2, 1, bias=False),\n",
        "            nn.LeakyReLU(0.2, inplace=True),\n",
        "\n",
        "            nn.Conv2d(feature_maps, feature_maps * 2, 4, 2, 1, bias=False),\n",
        "            nn.BatchNorm2d(feature_maps * 2),\n",
        "            nn.LeakyReLU(0.2, inplace=True),\n",
        "\n",
        "            nn.Conv2d(feature_maps * 2, feature_maps * 4, 4, 2, 1, bias=False),\n",
        "            nn.BatchNorm2d(feature_maps * 4),\n",
        "            nn.LeakyReLU(0.2, inplace=True),\n",
        "\n",
        "            nn.Conv2d(feature_maps * 4, feature_maps * 8, 4, 2, 1, bias=False),\n",
        "            nn.BatchNorm2d(feature_maps * 8),\n",
        "            nn.LeakyReLU(0.2, inplace=True),\n",
        "\n",
        "            # Output single probability via Sigmoid\n",
        "            nn.Conv2d(feature_maps * 8, 1, 2, 1, 0, bias=False),\n",
        "            nn.Sigmoid()\n",
        "        )\n",
        "\n",
        "    def forward(self, img):\n",
        "        return self.main(img).view(-1, 1)"
      ],
      "metadata": {
        "id": "XoTMEu6SrWIH"
      },
      "execution_count": null,
      "outputs": []
    },
    {
      "cell_type": "code",
      "source": [
        "# Initialize models and apply DCGAN weight init\n",
        "G = Generator(latent_dim=latent_dim).to(device)\n",
        "D = Discriminator().to(device)\n",
        "\n",
        "def weights_init(m):\n",
        "    classname = m.__class__.__name__\n",
        "    if classname.find(\"Conv\") != -1 or classname.find(\"BatchNorm\") != -1:\n",
        "        nn.init.normal_(m.weight.data, 0.0, 0.02)\n",
        "\n",
        "G.apply(weights_init)\n",
        "D.apply(weights_init)\n",
        "print(\"Generator and Discriminator initialized.\")"
      ],
      "metadata": {
        "colab": {
          "base_uri": "https://localhost:8080/"
        },
        "id": "DNMzx42drWMy",
        "outputId": "67069875-7128-4378-c02a-093bc01ffcec"
      },
      "execution_count": null,
      "outputs": [
        {
          "output_type": "stream",
          "name": "stdout",
          "text": [
            "Generator and Discriminator initialized.\n"
          ]
        }
      ]
    },
    {
      "cell_type": "code",
      "source": [
        "# Loss and optimizers\n",
        "criterion = nn.BCELoss()\n",
        "optimizer_G = optim.Adam(G.parameters(), lr=config[\"learning_rate\"], betas=(config[\"beta1\"], 0.999))\n",
        "optimizer_D = optim.Adam(D.parameters(), lr=config[\"learning_rate\"], betas=(config[\"beta1\"], 0.999))"
      ],
      "metadata": {
        "id": "EJ_tcCBErWPe"
      },
      "execution_count": null,
      "outputs": []
    },
    {
      "cell_type": "code",
      "source": [
        "# Checkpointing\n",
        "checkpoint_path = os.path.join(exp_path, \"checkpoint.pt\")\n",
        "start_epoch = 1\n",
        "\n",
        "if os.path.exists(checkpoint_path):\n",
        "    checkpoint = torch.load(checkpoint_path, map_location=device)\n",
        "    G.load_state_dict(checkpoint[\"G_state_dict\"])\n",
        "    D.load_state_dict(checkpoint[\"D_state_dict\"])\n",
        "    optimizer_G.load_state_dict(checkpoint[\"optimizer_G\"])\n",
        "    optimizer_D.load_state_dict(checkpoint[\"optimizer_D\"])\n",
        "    start_epoch = checkpoint[\"epoch\"] + 1\n",
        "    print(f\"Resumed from checkpoint epoch {checkpoint['epoch']}\")\n",
        "else:\n",
        "    print(\"Starting from scratch.\")"
      ],
      "metadata": {
        "colab": {
          "base_uri": "https://localhost:8080/"
        },
        "id": "S3VVKaeLrWRt",
        "outputId": "309969b7-2703-417a-9ec7-0b271c599bb8"
      },
      "execution_count": null,
      "outputs": [
        {
          "output_type": "stream",
          "name": "stdout",
          "text": [
            "Starting from scratch.\n"
          ]
        }
      ]
    },
    {
      "cell_type": "code",
      "source": [
        "# Training loop\n",
        "metrics_path = os.path.join(exp_path, \"metrics\", \"losses.csv\")\n",
        "loss_D_log = []\n",
        "loss_G_log = []\n",
        "\n",
        "# Load previous loss logs (for continuation in Colab runtime)\n",
        "if os.path.exists(metrics_path):\n",
        "    df_prev = pd.read_csv(metrics_path)\n",
        "    loss_D_log = list(df_prev[\"loss_D\"])\n",
        "    loss_G_log = list(df_prev[\"loss_G\"])\n",
        "    print(f\"Loaded previous loss logs for {len(loss_D_log)} epochs.\")\n",
        "else:\n",
        "    print(\"No previous loss logs found. Starting fresh.\")\n",
        "\n",
        "training_start_time = time.time()\n",
        "\n",
        "for epoch in range(start_epoch, config[\"num_epochs\"] + 1):\n",
        "    loss_D_epoch = 0.0\n",
        "    loss_G_epoch = 0.0\n",
        "\n",
        "    for real_imgs, _ in dataloader:\n",
        "        real_imgs = real_imgs.to(device)\n",
        "        batch_size = real_imgs.size(0)\n",
        "\n",
        "        # Train Discriminator\n",
        "        optimizer_D.zero_grad()\n",
        "        real_labels = torch.full((batch_size,), 1.0, dtype=torch.float, device=device)\n",
        "        fake_labels = torch.full((batch_size,), 0.0, dtype=torch.float, device=device)\n",
        "\n",
        "        # Real images\n",
        "        output_real = D(real_imgs).view(-1)\n",
        "        loss_real = criterion(output_real, real_labels)\n",
        "\n",
        "        # Fake images\n",
        "        noise = torch.randn(batch_size, config[\"latent_dim\"], 1, 1, device=device)\n",
        "        fake_imgs = G(noise).detach()\n",
        "        output_fake = D(fake_imgs).view(-1)\n",
        "        loss_fake = criterion(output_fake, fake_labels)\n",
        "\n",
        "        # Train D loss\n",
        "        loss_D = loss_real + loss_fake\n",
        "        loss_D.backward()\n",
        "        optimizer_D.step()\n",
        "\n",
        "        # Train Generator\n",
        "        optimizer_G.zero_grad()\n",
        "        noise = torch.randn(batch_size, config[\"latent_dim\"], 1, 1, device=device)\n",
        "        fake_imgs = G(noise)\n",
        "        output = D(fake_imgs).view(-1)\n",
        "        loss_G = criterion(output, real_labels)\n",
        "        loss_G.backward()\n",
        "        optimizer_G.step()\n",
        "\n",
        "        loss_D_epoch += loss_D.item()\n",
        "        loss_G_epoch += loss_G.item()\n",
        "\n",
        "    # Save images\n",
        "    if epoch % config[\"save_images_every\"] == 0 or epoch == 1:\n",
        "        with torch.no_grad():\n",
        "            sample_imgs = G(fixed_noise).detach().cpu()\n",
        "            img_path = os.path.join(exp_path, \"images\", f\"epoch_{epoch:03}.png\")\n",
        "            vutils.save_image(sample_imgs, img_path, normalize=True, nrow=8)\n",
        "\n",
        "    # Save checkpoint\n",
        "    if epoch % 10 == 0 or epoch == config[\"num_epochs\"]:\n",
        "        checkpoint = {\n",
        "            \"epoch\": epoch,\n",
        "            \"G_state_dict\": G.state_dict(),\n",
        "            \"D_state_dict\": D.state_dict(),\n",
        "            \"optimizer_G\": optimizer_G.state_dict(),\n",
        "            \"optimizer_D\": optimizer_D.state_dict(),\n",
        "        }\n",
        "        torch.save(checkpoint, checkpoint_path)\n",
        "\n",
        "    # Log average losses\n",
        "    avg_D = loss_D_epoch / len(dataloader)\n",
        "    avg_G = loss_G_epoch / len(dataloader)\n",
        "    loss_D_log.append(avg_D)\n",
        "    loss_G_log.append(avg_G)\n",
        "\n",
        "    print(f\"[Epoch {epoch}/{config['num_epochs']}] Loss_D: {avg_D:.4f}, Loss_G: {avg_G:.4f}\")\n",
        "\n",
        "    # Save losses to CSV\n",
        "    with open(metrics_path, \"w\") as f:\n",
        "        f.write(\"epoch,loss_D,loss_G\\n\")\n",
        "        for i in range(len(loss_D_log)):\n",
        "            f.write(f\"{i+1},{loss_D_log[i]},{loss_G_log[i]}\\n\")\n",
        "\n",
        "# Save total training time\n",
        "total_sec = time.time() - training_start_time\n",
        "mins, secs = int(total_sec // 60), int(total_sec % 60)\n",
        "with open(os.path.join(exp_path, \"training_time.txt\"), \"w\") as f:\n",
        "    f.write(f\"Total training time: {mins} min {secs} sec\\n\")\n",
        "print(f\"Training completed in {mins} min {secs} sec.\")"
      ],
      "metadata": {
        "colab": {
          "base_uri": "https://localhost:8080/"
        },
        "id": "XpmWTPfXrWUC",
        "outputId": "1b8868d2-d3c7-43ae-fde7-84acffc3521c"
      },
      "execution_count": null,
      "outputs": [
        {
          "output_type": "stream",
          "name": "stdout",
          "text": [
            "No previous loss logs found. Starting fresh.\n",
            "[Epoch 1/100] Loss_D: 0.6829, Loss_G: 2.2611\n",
            "[Epoch 2/100] Loss_D: 0.9266, Loss_G: 2.2772\n",
            "[Epoch 3/100] Loss_D: 0.9702, Loss_G: 2.0095\n",
            "[Epoch 4/100] Loss_D: 1.0438, Loss_G: 1.7816\n",
            "[Epoch 5/100] Loss_D: 1.1391, Loss_G: 1.4380\n",
            "[Epoch 6/100] Loss_D: 1.1416, Loss_G: 1.4816\n",
            "[Epoch 7/100] Loss_D: 1.0989, Loss_G: 1.4955\n",
            "[Epoch 8/100] Loss_D: 1.0283, Loss_G: 1.6086\n",
            "[Epoch 9/100] Loss_D: 1.0112, Loss_G: 1.7331\n",
            "[Epoch 10/100] Loss_D: 0.9764, Loss_G: 1.7657\n",
            "[Epoch 11/100] Loss_D: 0.9786, Loss_G: 1.7815\n",
            "[Epoch 12/100] Loss_D: 0.9785, Loss_G: 1.7551\n",
            "[Epoch 13/100] Loss_D: 0.9513, Loss_G: 1.7207\n",
            "[Epoch 14/100] Loss_D: 0.9293, Loss_G: 1.7766\n",
            "[Epoch 15/100] Loss_D: 0.8960, Loss_G: 1.8130\n",
            "[Epoch 16/100] Loss_D: 0.8931, Loss_G: 1.8299\n",
            "[Epoch 17/100] Loss_D: 0.8521, Loss_G: 1.8922\n",
            "[Epoch 18/100] Loss_D: 0.8193, Loss_G: 1.9639\n",
            "[Epoch 19/100] Loss_D: 0.8330, Loss_G: 1.9601\n",
            "[Epoch 20/100] Loss_D: 0.8032, Loss_G: 1.9797\n",
            "[Epoch 21/100] Loss_D: 0.7544, Loss_G: 2.0833\n",
            "[Epoch 22/100] Loss_D: 0.7408, Loss_G: 2.1063\n",
            "[Epoch 23/100] Loss_D: 0.7124, Loss_G: 2.1690\n",
            "[Epoch 24/100] Loss_D: 0.7182, Loss_G: 2.2394\n",
            "[Epoch 25/100] Loss_D: 0.6877, Loss_G: 2.2422\n",
            "[Epoch 26/100] Loss_D: 0.6619, Loss_G: 2.3906\n",
            "[Epoch 27/100] Loss_D: 0.6166, Loss_G: 2.4488\n",
            "[Epoch 28/100] Loss_D: 0.6204, Loss_G: 2.4623\n",
            "[Epoch 29/100] Loss_D: 0.5919, Loss_G: 2.5457\n",
            "[Epoch 30/100] Loss_D: 0.5713, Loss_G: 2.5999\n",
            "[Epoch 31/100] Loss_D: 0.5582, Loss_G: 2.6845\n",
            "[Epoch 32/100] Loss_D: 0.5815, Loss_G: 2.6418\n",
            "[Epoch 33/100] Loss_D: 0.5527, Loss_G: 2.7701\n",
            "[Epoch 34/100] Loss_D: 0.4956, Loss_G: 2.7649\n",
            "[Epoch 35/100] Loss_D: 0.4929, Loss_G: 2.8644\n",
            "[Epoch 36/100] Loss_D: 0.4906, Loss_G: 2.8654\n",
            "[Epoch 37/100] Loss_D: 0.4998, Loss_G: 2.8635\n",
            "[Epoch 38/100] Loss_D: 0.4652, Loss_G: 3.0950\n",
            "[Epoch 39/100] Loss_D: 0.4571, Loss_G: 2.9735\n",
            "[Epoch 40/100] Loss_D: 0.4664, Loss_G: 3.0305\n",
            "[Epoch 41/100] Loss_D: 0.4083, Loss_G: 3.0404\n",
            "[Epoch 42/100] Loss_D: 0.4341, Loss_G: 3.1670\n",
            "[Epoch 43/100] Loss_D: 0.3778, Loss_G: 3.1865\n",
            "[Epoch 44/100] Loss_D: 0.4679, Loss_G: 3.2528\n",
            "[Epoch 45/100] Loss_D: 0.4100, Loss_G: 3.2423\n",
            "[Epoch 46/100] Loss_D: 0.3744, Loss_G: 3.3077\n",
            "[Epoch 47/100] Loss_D: 0.4194, Loss_G: 3.3043\n",
            "[Epoch 48/100] Loss_D: 0.3505, Loss_G: 3.3691\n",
            "[Epoch 49/100] Loss_D: 0.3921, Loss_G: 3.3892\n",
            "[Epoch 50/100] Loss_D: 0.3751, Loss_G: 3.4360\n",
            "[Epoch 51/100] Loss_D: 0.3992, Loss_G: 3.4918\n",
            "[Epoch 52/100] Loss_D: 0.3656, Loss_G: 3.4505\n",
            "[Epoch 53/100] Loss_D: 0.3721, Loss_G: 3.5064\n",
            "[Epoch 54/100] Loss_D: 0.3485, Loss_G: 3.5978\n",
            "[Epoch 55/100] Loss_D: 0.3143, Loss_G: 3.6259\n",
            "[Epoch 56/100] Loss_D: 0.3281, Loss_G: 3.7517\n",
            "[Epoch 57/100] Loss_D: 0.3430, Loss_G: 3.6313\n",
            "[Epoch 58/100] Loss_D: 0.3501, Loss_G: 3.7940\n",
            "[Epoch 59/100] Loss_D: 0.2893, Loss_G: 3.7915\n",
            "[Epoch 60/100] Loss_D: 0.3183, Loss_G: 3.9285\n",
            "[Epoch 61/100] Loss_D: 0.3252, Loss_G: 3.7685\n",
            "[Epoch 62/100] Loss_D: 0.3082, Loss_G: 3.7975\n",
            "[Epoch 63/100] Loss_D: 0.2850, Loss_G: 3.8593\n",
            "[Epoch 64/100] Loss_D: 0.2948, Loss_G: 4.0060\n",
            "[Epoch 65/100] Loss_D: 0.3198, Loss_G: 3.8730\n",
            "[Epoch 66/100] Loss_D: 0.2741, Loss_G: 3.9429\n",
            "[Epoch 67/100] Loss_D: 0.3005, Loss_G: 3.9847\n",
            "[Epoch 68/100] Loss_D: 0.3053, Loss_G: 4.0412\n",
            "[Epoch 69/100] Loss_D: 0.2519, Loss_G: 4.1382\n",
            "[Epoch 70/100] Loss_D: 0.2437, Loss_G: 4.2054\n",
            "[Epoch 71/100] Loss_D: 0.2487, Loss_G: 4.3313\n",
            "[Epoch 72/100] Loss_D: 0.2907, Loss_G: 4.1217\n",
            "[Epoch 73/100] Loss_D: 0.2584, Loss_G: 4.2680\n",
            "[Epoch 74/100] Loss_D: 0.2469, Loss_G: 4.1281\n",
            "[Epoch 75/100] Loss_D: 0.2624, Loss_G: 4.2547\n",
            "[Epoch 76/100] Loss_D: 0.2866, Loss_G: 4.2453\n",
            "[Epoch 77/100] Loss_D: 0.2044, Loss_G: 4.4330\n",
            "[Epoch 78/100] Loss_D: 0.2622, Loss_G: 4.3469\n",
            "[Epoch 79/100] Loss_D: 0.2596, Loss_G: 4.2418\n",
            "[Epoch 80/100] Loss_D: 0.2213, Loss_G: 4.4002\n",
            "[Epoch 81/100] Loss_D: 0.2579, Loss_G: 4.3793\n",
            "[Epoch 82/100] Loss_D: 0.2455, Loss_G: 4.2719\n",
            "[Epoch 83/100] Loss_D: 0.2202, Loss_G: 4.5677\n",
            "[Epoch 84/100] Loss_D: 0.1765, Loss_G: 4.3812\n",
            "[Epoch 85/100] Loss_D: 0.2380, Loss_G: 4.6989\n",
            "[Epoch 86/100] Loss_D: 0.2285, Loss_G: 4.3951\n",
            "[Epoch 87/100] Loss_D: 0.2099, Loss_G: 4.3969\n",
            "[Epoch 88/100] Loss_D: 0.2313, Loss_G: 4.7338\n",
            "[Epoch 89/100] Loss_D: 0.2215, Loss_G: 4.4908\n",
            "[Epoch 90/100] Loss_D: 0.2201, Loss_G: 4.5217\n",
            "[Epoch 91/100] Loss_D: 0.1989, Loss_G: 4.8049\n",
            "[Epoch 92/100] Loss_D: 0.1680, Loss_G: 4.6828\n",
            "[Epoch 93/100] Loss_D: 0.2405, Loss_G: 4.7418\n",
            "[Epoch 94/100] Loss_D: 0.1718, Loss_G: 4.6837\n",
            "[Epoch 95/100] Loss_D: 0.2017, Loss_G: 4.7597\n",
            "[Epoch 96/100] Loss_D: 0.1928, Loss_G: 4.8555\n",
            "[Epoch 97/100] Loss_D: 0.1831, Loss_G: 4.8900\n",
            "[Epoch 98/100] Loss_D: 0.1998, Loss_G: 4.6454\n",
            "[Epoch 99/100] Loss_D: 0.1981, Loss_G: 4.7855\n",
            "[Epoch 100/100] Loss_D: 0.1633, Loss_G: 4.9466\n",
            "Training completed in 139 min 15 sec.\n"
          ]
        }
      ]
    },
    {
      "cell_type": "code",
      "source": [
        "# Plot and save loss curve\n",
        "metrics_path = os.path.join(exp_path, \"metrics\", \"losses.csv\")\n",
        "loss_D_log = []\n",
        "loss_G_log = []\n",
        "\n",
        "if os.path.exists(metrics_path):\n",
        "    import pandas as pd\n",
        "    df = pd.read_csv(metrics_path)\n",
        "    loss_D_log = list(df[\"loss_D\"])\n",
        "    loss_G_log = list(df[\"loss_G\"])\n",
        "    print(f\"Loaded loss logs for {len(loss_D_log)} epochs from {metrics_path}\")\n",
        "else:\n",
        "    print(\"No previous loss logs found. Starting fresh.\")\n",
        "\n",
        "epochs = list(range(1, len(loss_D_log) + 1))\n",
        "\n",
        "plt.figure(figsize=(10, 5))\n",
        "plt.plot(epochs, loss_D_log, label=\"Discriminator Loss\")\n",
        "plt.plot(epochs, loss_G_log, label=\"Generator Loss\")\n",
        "plt.xlabel(\"Epoch\", fontsize=12)\n",
        "plt.ylabel(\"Loss\", fontsize=12)\n",
        "plt.title(f\"Training Loss Curve ({experiment_id})\")\n",
        "plt.legend()\n",
        "plt.grid(True)\n",
        "plt.ylim(0, 7)\n",
        "plt.tight_layout()\n",
        "\n",
        "plot_path = os.path.join(exp_path, \"metrics\", \"loss_curve.png\")\n",
        "plt.savefig(plot_path)\n",
        "plt.close()\n",
        "print(f\"Loss curve saved: {plot_path}\")"
      ],
      "metadata": {
        "colab": {
          "base_uri": "https://localhost:8080/"
        },
        "id": "FAOPr5RmrWWS",
        "outputId": "de169f62-c8da-4c43-854c-914ab4c0f4f3"
      },
      "execution_count": null,
      "outputs": [
        {
          "output_type": "stream",
          "name": "stdout",
          "text": [
            "Loaded loss logs for 100 epochs from /content/drive/MyDrive/GAN_Research/E1_Baseline/metrics/losses.csv\n",
            "Loss curve saved: /content/drive/MyDrive/GAN_Research/E1_Baseline/metrics/loss_curve.png\n"
          ]
        }
      ]
    },
    {
      "cell_type": "code",
      "source": [
        "# Evaluation: Save images, calculate FID & Inception Score\n",
        "eval_batch_size = 128\n",
        "num_eval_images = config[\"fid_samples\"]\n",
        "eval_image_size = config[\"image_size\"]\n",
        "real_dir = os.path.join(exp_path, \"eval_data\", \"real\")\n",
        "fake_dir = os.path.join(exp_path, \"eval_data\", \"fake\")\n",
        "\n",
        "# Clean eval_data folders\n",
        "for dir_ in [real_dir, fake_dir]:\n",
        "    for f in os.listdir(dir_):\n",
        "        os.remove(os.path.join(dir_, f))\n",
        "\n",
        "# Save real images\n",
        "def save_real_images():\n",
        "    transform_eval = transforms.Compose([\n",
        "        transforms.Resize(eval_image_size),\n",
        "        transforms.CenterCrop(eval_image_size),\n",
        "        transforms.ToTensor(),\n",
        "        transforms.Normalize((0.5,) * 3, (0.5,) * 3)\n",
        "    ])\n",
        "    eval_dataset = datasets.CIFAR10(root=\"./data\", train=True, download=True, transform=transform_eval)\n",
        "    eval_loader = DataLoader(eval_dataset, batch_size=eval_batch_size, shuffle=False)\n",
        "    i = 0\n",
        "    for imgs, _ in eval_loader:\n",
        "        for img in imgs:\n",
        "            save_image(img, f\"{real_dir}/{i}.png\", normalize=True)\n",
        "            i += 1\n",
        "            if i >= num_eval_images:\n",
        "                return\n",
        "\n",
        "# Save fake images\n",
        "def save_fake_images(generator):\n",
        "    generator.eval()\n",
        "    i = 0\n",
        "    with torch.no_grad():\n",
        "        for _ in tqdm(range(0, num_eval_images, eval_batch_size), desc=\"Generating fake\"):\n",
        "            curr_batch = min(eval_batch_size, num_eval_images - i)\n",
        "            noise = torch.randn(curr_batch, config[\"latent_dim\"], 1, 1, device=device)\n",
        "            fake_imgs = generator(noise).cpu()\n",
        "            for img in fake_imgs:\n",
        "                save_image(img, f\"{fake_dir}/{i}.png\", normalize=True)\n",
        "                i += 1\n",
        "                if i >= num_eval_images:\n",
        "                    return\n",
        "\n",
        "save_real_images()\n",
        "save_fake_images(G)\n",
        "\n",
        "# FID calculation\n",
        "metrics = calculate_metrics(\n",
        "    input1=real_dir,\n",
        "    input2=fake_dir,\n",
        "    cuda=torch.cuda.is_available(),\n",
        "    isc=False,\n",
        "    fid=True,\n",
        "    kid=False,\n",
        "    verbose=False\n",
        ")\n",
        "fid = metrics[\"frechet_inception_distance\"]\n",
        "\n",
        "# Inception Score\n",
        "class PNGImageFolder(torch.utils.data.Dataset):\n",
        "    def __init__(self, folder, transform=None):\n",
        "        self.paths = [os.path.join(folder, f) for f in sorted(os.listdir(folder)) if f.endswith('.png')]\n",
        "        self.transform = transform\n",
        "    def __len__(self): return len(self.paths)\n",
        "    def __getitem__(self, idx):\n",
        "        img = Image.open(self.paths[idx]).convert(\"RGB\")\n",
        "        if self.transform: img = self.transform(img)\n",
        "        return img\n",
        "\n",
        "def compute_inception_score(image_folder, splits=10):\n",
        "    transform = transforms.Compose([\n",
        "        transforms.Resize((299, 299)),\n",
        "        transforms.ToTensor()\n",
        "    ])\n",
        "    dataset = PNGImageFolder(image_folder, transform)\n",
        "    loader = DataLoader(dataset, batch_size=64, shuffle=False)\n",
        "    model = inception_v3(pretrained=True, transform_input=False).to(device)\n",
        "    model.eval()\n",
        "    preds = []\n",
        "    for imgs in loader:\n",
        "        imgs = imgs.to(device)\n",
        "        with torch.no_grad():\n",
        "            pred = model(imgs)\n",
        "            pred = F.softmax(pred, dim=1).cpu().numpy()\n",
        "        preds.append(pred)\n",
        "    preds = np.concatenate(preds, axis=0)\n",
        "    split_scores = []\n",
        "    for k in range(splits):\n",
        "        part = preds[k * (len(preds) // splits): (k + 1) * (len(preds) // splits)]\n",
        "        py = np.mean(part, axis=0)\n",
        "        scores = [entropy(p, py) for p in part]\n",
        "        split_scores.append(np.exp(np.mean(scores)))\n",
        "    return float(np.mean(split_scores)), float(np.std(split_scores))\n",
        "\n",
        "mean_is, std_is = compute_inception_score(fake_dir)\n",
        "\n",
        "with open(os.path.join(exp_path, \"metrics\", \"eval_metrics.txt\"), \"w\") as f:\n",
        "    f.write(f\"FID: {fid:.4f}\\n\")\n",
        "    f.write(f\"Inception Score: {mean_is:.4f} ± {std_is:.4f}\\n\")\n",
        "\n",
        "print(f\"\\nFID: {fid:.4f}\")\n",
        "print(f\"Inception Score: {mean_is:.4f} ± {std_is:.4f}\")"
      ],
      "metadata": {
        "colab": {
          "base_uri": "https://localhost:8080/"
        },
        "id": "0pp3S8RrrWYk",
        "outputId": "dd81e779-49a6-4fc1-d4cd-16a2b5c236a9"
      },
      "execution_count": null,
      "outputs": [
        {
          "output_type": "stream",
          "name": "stderr",
          "text": [
            "Generating fake:  99%|█████████▊| 78/79 [00:52<00:00,  1.48it/s]\n",
            "Downloading: \"https://github.com/toshas/torch-fidelity/releases/download/v0.2.0/weights-inception-2015-12-05-6726825d.pth\" to /root/.cache/torch/hub/checkpoints/weights-inception-2015-12-05-6726825d.pth\n",
            "100%|██████████| 91.2M/91.2M [00:02<00:00, 32.2MB/s]\n",
            "/usr/local/lib/python3.11/dist-packages/torch_fidelity/datasets.py:16: UserWarning: TypedStorage is deprecated. It will be removed in the future and UntypedStorage will be the only storage class. This should only matter to you if you are using storages directly.  To access UntypedStorage directly, use tensor.untyped_storage() instead of tensor.storage()\n",
            "  img = torch.ByteTensor(torch.ByteStorage.from_buffer(img.tobytes())).view(height, width, 3)\n",
            "/usr/local/lib/python3.11/dist-packages/torchvision/models/_utils.py:208: UserWarning: The parameter 'pretrained' is deprecated since 0.13 and may be removed in the future, please use 'weights' instead.\n",
            "  warnings.warn(\n",
            "/usr/local/lib/python3.11/dist-packages/torchvision/models/_utils.py:223: UserWarning: Arguments other than a weight enum or `None` for 'weights' are deprecated since 0.13 and may be removed in the future. The current behavior is equivalent to passing `weights=Inception_V3_Weights.IMAGENET1K_V1`. You can also use `weights=Inception_V3_Weights.DEFAULT` to get the most up-to-date weights.\n",
            "  warnings.warn(msg)\n",
            "Downloading: \"https://download.pytorch.org/models/inception_v3_google-0cc3c7bd.pth\" to /root/.cache/torch/hub/checkpoints/inception_v3_google-0cc3c7bd.pth\n",
            "100%|██████████| 104M/104M [00:02<00:00, 39.7MB/s]\n"
          ]
        },
        {
          "output_type": "stream",
          "name": "stdout",
          "text": [
            "\n",
            "FID: 47.6336\n",
            "Inception Score: 3.5376 ± 0.0812\n"
          ]
        }
      ]
    },
    {
      "cell_type": "markdown",
      "source": [
        "### E2_L1_GenOut"
      ],
      "metadata": {
        "id": "NQJCgv26OpEe"
      }
    },
    {
      "cell_type": "code",
      "source": [
        "# E2: L1 Regularization on Generator Output\n",
        "\n",
        "# Experiment Configuration (E2)\n",
        "experiment_id = \"E2_L1_GenOut\"\n",
        "\n",
        "config = config.copy()\n",
        "config.update({\n",
        "    \"experiment_id\": experiment_id,\n",
        "    \"regularization_type\": \"L1\",                 # Type of regularisation used in this run\n",
        "    \"regularization_lambda_L1\": 0.0001,          # λ for L1 as per your experiment table\n",
        "    \"regularization_lambda_L2\": 0.0,\n",
        "    \"regularization_placement\": \"generator_output\",  # Apply penalty to G's output images\n",
        "})"
      ],
      "metadata": {
        "id": "UsbSYu48rWa3"
      },
      "execution_count": null,
      "outputs": []
    },
    {
      "cell_type": "code",
      "source": [
        "# Prepare experiment folders in Google Drive\n",
        "exp_path = os.path.join(ROOT_DIR, experiment_id)\n",
        "for subfolder in [\"images\", \"metrics\", \"eval_data/real\", \"eval_data/fake\"]:\n",
        "    os.makedirs(os.path.join(exp_path, subfolder), exist_ok=True)"
      ],
      "metadata": {
        "id": "voIfhvWdrWdi"
      },
      "execution_count": null,
      "outputs": []
    },
    {
      "cell_type": "code",
      "source": [
        "#  Save config file\n",
        "config_path = os.path.join(exp_path, \"config_manual.txt\")\n",
        "with open(config_path, \"w\") as f:\n",
        "    for k, v in config.items():\n",
        "        f.write(f\"{k}: {v}\\n\")\n",
        "print(f\"Configuration saved: {config_path}\")"
      ],
      "metadata": {
        "colab": {
          "base_uri": "https://localhost:8080/"
        },
        "id": "kzP_PL0ZrWgB",
        "outputId": "f9af812a-2e27-47eb-d384-c59aafd3304d"
      },
      "execution_count": null,
      "outputs": [
        {
          "output_type": "stream",
          "name": "stdout",
          "text": [
            "Configuration saved: /content/drive/MyDrive/GAN_Research/E2_L1_GenOut/config_manual.txt\n"
          ]
        }
      ]
    },
    {
      "cell_type": "code",
      "source": [
        "# Prepare fixed noise for sample images\n",
        "num_fixed_samples = 64\n",
        "latent_dim = config[\"latent_dim\"]\n",
        "device = torch.device(config[\"device\"])\n",
        "fixed_noise = torch.randn(num_fixed_samples, latent_dim, 1, 1, device=device)\n",
        "torch.save(fixed_noise, os.path.join(exp_path, \"fixed_noise.pt\"))"
      ],
      "metadata": {
        "id": "tUYekv1-rWic"
      },
      "execution_count": null,
      "outputs": []
    },
    {
      "cell_type": "code",
      "source": [
        "# Initialize models and apply DCGAN weight init\n",
        "G = Generator(latent_dim=latent_dim).to(device)\n",
        "D = Discriminator().to(device)\n",
        "G.apply(weights_init)\n",
        "D.apply(weights_init)\n",
        "print(\"Generator and Discriminator initialized for E2\")"
      ],
      "metadata": {
        "colab": {
          "base_uri": "https://localhost:8080/"
        },
        "id": "QVZBfv1JrWlA",
        "outputId": "4940cfd5-7788-407a-af87-0d9e02cc88af"
      },
      "execution_count": null,
      "outputs": [
        {
          "output_type": "stream",
          "name": "stdout",
          "text": [
            "Generator and Discriminator initialized for E2\n"
          ]
        }
      ]
    },
    {
      "cell_type": "code",
      "source": [
        "# Loss and optimizers\n",
        "criterion = nn.BCELoss()\n",
        "optimizer_G = optim.Adam(G.parameters(), lr=config[\"learning_rate\"], betas=(config[\"beta1\"], 0.999))\n",
        "optimizer_D = optim.Adam(D.parameters(), lr=config[\"learning_rate\"], betas=(config[\"beta1\"], 0.999))"
      ],
      "metadata": {
        "id": "rkXFAXPorWnV"
      },
      "execution_count": null,
      "outputs": []
    },
    {
      "cell_type": "code",
      "source": [
        "# Checkpointing\n",
        "checkpoint_path = os.path.join(exp_path, \"checkpoint.pt\")\n",
        "start_epoch = 1\n",
        "if os.path.exists(checkpoint_path):\n",
        "    checkpoint = torch.load(checkpoint_path, map_location=device)\n",
        "    G.load_state_dict(checkpoint[\"G_state_dict\"])\n",
        "    D.load_state_dict(checkpoint[\"D_state_dict\"])\n",
        "    optimizer_G.load_state_dict(checkpoint[\"optimizer_G\"])\n",
        "    optimizer_D.load_state_dict(checkpoint[\"optimizer_D\"])\n",
        "    start_epoch = checkpoint[\"epoch\"] + 1\n",
        "    print(f\"Resumed from checkpoint epoch {checkpoint['epoch']}\")\n",
        "else:\n",
        "    print(\"Starting from scratch.\")"
      ],
      "metadata": {
        "colab": {
          "base_uri": "https://localhost:8080/"
        },
        "id": "SG_xGNpBrWpz",
        "outputId": "5632c1a4-9fa5-4f77-8a42-bbda78375cb1"
      },
      "execution_count": null,
      "outputs": [
        {
          "output_type": "stream",
          "name": "stdout",
          "text": [
            "Starting from scratch.\n"
          ]
        }
      ]
    },
    {
      "cell_type": "code",
      "source": [
        "# Training loop\n",
        "metrics_path = os.path.join(exp_path, \"metrics\", \"losses.csv\")\n",
        "loss_D_log = []\n",
        "loss_G_log = []\n",
        "\n",
        "# Load previous loss logs (for continuation in Colab runtime)\n",
        "if os.path.exists(metrics_path):\n",
        "    df_prev = pd.read_csv(metrics_path)\n",
        "    loss_D_log = list(df_prev[\"loss_D\"])\n",
        "    loss_G_log = list(df_prev[\"loss_G\"])\n",
        "    print(f\"Loaded previous loss logs for {len(loss_D_log)} epochs.\")\n",
        "else:\n",
        "    print(\"No previous loss logs found. Starting fresh.\")\n",
        "\n",
        "training_start_time = time.time()\n",
        "\n",
        "for epoch in range(start_epoch, config[\"num_epochs\"] + 1):\n",
        "    loss_D_epoch = 0.0\n",
        "    loss_G_epoch = 0.0\n",
        "\n",
        "    for real_imgs, _ in dataloader:\n",
        "        real_imgs = real_imgs.to(device)\n",
        "        batch_size = real_imgs.size(0)\n",
        "\n",
        "        # Train Discriminator\n",
        "        optimizer_D.zero_grad()\n",
        "        real_labels = torch.full((batch_size,), 1.0, dtype=torch.float, device=device)\n",
        "        fake_labels = torch.full((batch_size,), 0.0, dtype=torch.float, device=device)\n",
        "\n",
        "        output_real = D(real_imgs).view(-1)\n",
        "        loss_real = criterion(output_real, real_labels)\n",
        "\n",
        "        noise = torch.randn(batch_size, config[\"latent_dim\"], 1, 1, device=device)\n",
        "        fake_imgs = G(noise).detach()     # Detach so D update doesn't backprop into G\n",
        "        output_fake = D(fake_imgs).view(-1)\n",
        "        loss_fake = criterion(output_fake, fake_labels)\n",
        "\n",
        "        loss_D = loss_real + loss_fake\n",
        "        loss_D.backward()\n",
        "        optimizer_D.step()\n",
        "\n",
        "        # Train Generator\n",
        "        optimizer_G.zero_grad()\n",
        "        noise = torch.randn(batch_size, config[\"latent_dim\"], 1, 1, device=device)\n",
        "        fake_imgs = G(noise)\n",
        "        output = D(fake_imgs).view(-1)\n",
        "        loss_G = criterion(output, real_labels)\n",
        "\n",
        "        # Add L1 regularization on generator output\n",
        "        # Penalize absolute pixel values of G(z)\n",
        "        if config[\"regularization_type\"] == \"L1\" and config[\"regularization_placement\"] == \"generator_output\":\n",
        "            l1_reg = config[\"regularization_lambda_L1\"] * torch.mean(torch.abs(fake_imgs))\n",
        "            loss_G += l1_reg\n",
        "\n",
        "        loss_G.backward()\n",
        "        optimizer_G.step()\n",
        "\n",
        "        loss_D_epoch += loss_D.item()\n",
        "        loss_G_epoch += loss_G.item()\n",
        "\n",
        "    # Save images\n",
        "    if epoch % config[\"save_images_every\"] == 0 or epoch == 1:\n",
        "        with torch.no_grad():\n",
        "            sample_imgs = G(fixed_noise).detach().cpu()\n",
        "            img_path = os.path.join(exp_path, \"images\", f\"epoch_{epoch:03}.png\")\n",
        "            vutils.save_image(sample_imgs, img_path, normalize=True, nrow=8)\n",
        "\n",
        "    # Save checkpoint\n",
        "    if epoch % 10 == 0 or epoch == config[\"num_epochs\"]:\n",
        "        checkpoint = {\n",
        "            \"epoch\": epoch,\n",
        "            \"G_state_dict\": G.state_dict(),\n",
        "            \"D_state_dict\": D.state_dict(),\n",
        "            \"optimizer_G\": optimizer_G.state_dict(),\n",
        "            \"optimizer_D\": optimizer_D.state_dict(),\n",
        "        }\n",
        "        torch.save(checkpoint, checkpoint_path)\n",
        "\n",
        "    # Log average losses\n",
        "    avg_D = loss_D_epoch / len(dataloader)\n",
        "    avg_G = loss_G_epoch / len(dataloader)\n",
        "    loss_D_log.append(avg_D)\n",
        "    loss_G_log.append(avg_G)\n",
        "\n",
        "    print(f\"[Epoch {epoch}/{config['num_epochs']}] Loss_D: {avg_D:.4f}, Loss_G: {avg_G:.4f}\")\n",
        "\n",
        "    # Write updated loss CSV\n",
        "    with open(metrics_path, \"w\") as f:\n",
        "        f.write(\"epoch,loss_D,loss_G\\n\")\n",
        "        for i in range(len(loss_D_log)):\n",
        "            f.write(f\"{i+1},{loss_D_log[i]},{loss_G_log[i]}\\n\")\n",
        "\n",
        "# Save total training time\n",
        "total_sec = time.time() - training_start_time\n",
        "mins, secs = int(total_sec // 60), int(total_sec % 60)\n",
        "with open(os.path.join(exp_path, \"training_time.txt\"), \"w\") as f:\n",
        "    f.write(f\"Total training time: {mins} min {secs} sec\\n\")\n",
        "print(f\"Training completed in {mins} min {secs} sec.\")"
      ],
      "metadata": {
        "colab": {
          "base_uri": "https://localhost:8080/"
        },
        "id": "E37YCl2PrWsR",
        "outputId": "7fd28b7b-f98e-4a08-871b-2964519ba513"
      },
      "execution_count": null,
      "outputs": [
        {
          "output_type": "stream",
          "name": "stdout",
          "text": [
            "No previous loss logs found. Starting fresh.\n",
            "[Epoch 1/100] Loss_D: 0.8005, Loss_G: 2.0051\n",
            "[Epoch 2/100] Loss_D: 0.9729, Loss_G: 2.1822\n",
            "[Epoch 3/100] Loss_D: 1.0951, Loss_G: 1.7652\n",
            "[Epoch 4/100] Loss_D: 1.0553, Loss_G: 1.7625\n",
            "[Epoch 5/100] Loss_D: 1.2033, Loss_G: 1.3583\n",
            "[Epoch 6/100] Loss_D: 1.1970, Loss_G: 1.3446\n",
            "[Epoch 7/100] Loss_D: 1.1838, Loss_G: 1.2788\n",
            "[Epoch 8/100] Loss_D: 1.1677, Loss_G: 1.3155\n",
            "[Epoch 9/100] Loss_D: 1.1648, Loss_G: 1.3173\n",
            "[Epoch 10/100] Loss_D: 1.1214, Loss_G: 1.3738\n",
            "[Epoch 11/100] Loss_D: 1.1266, Loss_G: 1.3891\n",
            "[Epoch 12/100] Loss_D: 1.1163, Loss_G: 1.4070\n",
            "[Epoch 13/100] Loss_D: 1.0986, Loss_G: 1.3891\n",
            "[Epoch 14/100] Loss_D: 1.0731, Loss_G: 1.4182\n",
            "[Epoch 15/100] Loss_D: 1.0731, Loss_G: 1.4332\n",
            "[Epoch 16/100] Loss_D: 1.0524, Loss_G: 1.4668\n",
            "[Epoch 17/100] Loss_D: 1.0134, Loss_G: 1.5229\n",
            "[Epoch 18/100] Loss_D: 0.9845, Loss_G: 1.5948\n",
            "[Epoch 19/100] Loss_D: 0.9558, Loss_G: 1.6014\n",
            "[Epoch 20/100] Loss_D: 0.9449, Loss_G: 1.6744\n",
            "[Epoch 21/100] Loss_D: 0.8989, Loss_G: 1.7096\n",
            "[Epoch 22/100] Loss_D: 0.8778, Loss_G: 1.7286\n",
            "[Epoch 23/100] Loss_D: 0.8630, Loss_G: 1.8531\n",
            "[Epoch 24/100] Loss_D: 0.8255, Loss_G: 1.8257\n",
            "[Epoch 25/100] Loss_D: 0.7874, Loss_G: 1.9415\n",
            "[Epoch 26/100] Loss_D: 0.7924, Loss_G: 1.9583\n",
            "[Epoch 27/100] Loss_D: 0.7889, Loss_G: 1.9686\n",
            "[Epoch 28/100] Loss_D: 0.7273, Loss_G: 2.0340\n",
            "[Epoch 29/100] Loss_D: 0.7488, Loss_G: 2.1361\n",
            "[Epoch 30/100] Loss_D: 0.6999, Loss_G: 2.1913\n",
            "[Epoch 31/100] Loss_D: 0.6838, Loss_G: 2.2417\n",
            "[Epoch 32/100] Loss_D: 0.6476, Loss_G: 2.2368\n",
            "[Epoch 33/100] Loss_D: 0.6339, Loss_G: 2.4377\n",
            "[Epoch 34/100] Loss_D: 0.6036, Loss_G: 2.4638\n",
            "[Epoch 35/100] Loss_D: 0.5827, Loss_G: 2.4754\n",
            "[Epoch 36/100] Loss_D: 0.5741, Loss_G: 2.5453\n",
            "[Epoch 37/100] Loss_D: 0.6063, Loss_G: 2.5423\n",
            "[Epoch 38/100] Loss_D: 0.5288, Loss_G: 2.6944\n",
            "[Epoch 39/100] Loss_D: 0.5285, Loss_G: 2.7817\n",
            "[Epoch 40/100] Loss_D: 0.5330, Loss_G: 2.7401\n",
            "[Epoch 41/100] Loss_D: 0.5409, Loss_G: 2.7300\n",
            "[Epoch 42/100] Loss_D: 0.4938, Loss_G: 2.7933\n",
            "[Epoch 43/100] Loss_D: 0.4878, Loss_G: 2.8294\n",
            "[Epoch 44/100] Loss_D: 0.4739, Loss_G: 2.8737\n",
            "[Epoch 45/100] Loss_D: 0.4696, Loss_G: 2.9726\n",
            "[Epoch 46/100] Loss_D: 0.4235, Loss_G: 2.9953\n",
            "[Epoch 47/100] Loss_D: 0.4199, Loss_G: 3.1656\n",
            "[Epoch 48/100] Loss_D: 0.4952, Loss_G: 3.0434\n",
            "[Epoch 49/100] Loss_D: 0.3998, Loss_G: 3.1830\n",
            "[Epoch 50/100] Loss_D: 0.3846, Loss_G: 3.1852\n",
            "[Epoch 51/100] Loss_D: 0.4116, Loss_G: 3.2830\n",
            "[Epoch 52/100] Loss_D: 0.3872, Loss_G: 3.3418\n",
            "[Epoch 53/100] Loss_D: 0.3764, Loss_G: 3.3449\n",
            "[Epoch 54/100] Loss_D: 0.3667, Loss_G: 3.4166\n",
            "[Epoch 55/100] Loss_D: 0.3691, Loss_G: 3.4727\n",
            "[Epoch 56/100] Loss_D: 0.3762, Loss_G: 3.5267\n",
            "[Epoch 57/100] Loss_D: 0.3593, Loss_G: 3.5912\n",
            "[Epoch 58/100] Loss_D: 0.3531, Loss_G: 3.5858\n",
            "[Epoch 59/100] Loss_D: 0.3163, Loss_G: 3.5703\n",
            "[Epoch 60/100] Loss_D: 0.3171, Loss_G: 3.6687\n",
            "[Epoch 61/100] Loss_D: 0.3458, Loss_G: 3.7519\n",
            "[Epoch 62/100] Loss_D: 0.2975, Loss_G: 3.6645\n",
            "[Epoch 63/100] Loss_D: 0.3037, Loss_G: 3.7928\n",
            "[Epoch 64/100] Loss_D: 0.3009, Loss_G: 3.7727\n",
            "[Epoch 65/100] Loss_D: 0.2986, Loss_G: 4.0001\n",
            "[Epoch 66/100] Loss_D: 0.3279, Loss_G: 3.8539\n",
            "[Epoch 67/100] Loss_D: 0.3022, Loss_G: 3.9391\n",
            "[Epoch 68/100] Loss_D: 0.2785, Loss_G: 4.0007\n",
            "[Epoch 69/100] Loss_D: 0.2880, Loss_G: 4.1404\n",
            "[Epoch 70/100] Loss_D: 0.2862, Loss_G: 3.8906\n",
            "[Epoch 71/100] Loss_D: 0.2866, Loss_G: 3.9992\n",
            "[Epoch 72/100] Loss_D: 0.2532, Loss_G: 4.1192\n",
            "[Epoch 73/100] Loss_D: 0.3046, Loss_G: 4.0244\n",
            "[Epoch 74/100] Loss_D: 0.2100, Loss_G: 4.0361\n",
            "[Epoch 75/100] Loss_D: 0.2920, Loss_G: 4.2092\n",
            "[Epoch 76/100] Loss_D: 0.2466, Loss_G: 4.1159\n",
            "[Epoch 77/100] Loss_D: 0.3005, Loss_G: 4.1644\n",
            "[Epoch 78/100] Loss_D: 0.2722, Loss_G: 4.2277\n",
            "[Epoch 79/100] Loss_D: 0.2455, Loss_G: 4.0388\n",
            "[Epoch 80/100] Loss_D: 0.2699, Loss_G: 4.4041\n",
            "[Epoch 81/100] Loss_D: 0.2882, Loss_G: 4.1289\n",
            "[Epoch 82/100] Loss_D: 0.2386, Loss_G: 4.2266\n",
            "[Epoch 83/100] Loss_D: 0.1931, Loss_G: 4.5708\n",
            "[Epoch 84/100] Loss_D: 0.2143, Loss_G: 4.4703\n",
            "[Epoch 85/100] Loss_D: 0.2476, Loss_G: 4.5122\n",
            "[Epoch 86/100] Loss_D: 0.1699, Loss_G: 4.5044\n",
            "[Epoch 87/100] Loss_D: 0.2405, Loss_G: 4.3647\n",
            "[Epoch 88/100] Loss_D: 0.1970, Loss_G: 4.6607\n",
            "[Epoch 89/100] Loss_D: 0.2528, Loss_G: 4.3816\n",
            "[Epoch 90/100] Loss_D: 0.2131, Loss_G: 4.5784\n",
            "[Epoch 91/100] Loss_D: 0.2260, Loss_G: 4.5234\n",
            "[Epoch 92/100] Loss_D: 0.2515, Loss_G: 4.4951\n",
            "[Epoch 93/100] Loss_D: 0.2087, Loss_G: 4.3517\n",
            "[Epoch 94/100] Loss_D: 0.1940, Loss_G: 4.5322\n",
            "[Epoch 95/100] Loss_D: 0.1837, Loss_G: 4.9812\n",
            "[Epoch 96/100] Loss_D: 0.1574, Loss_G: 4.7559\n",
            "[Epoch 97/100] Loss_D: 0.2702, Loss_G: 4.7216\n",
            "[Epoch 98/100] Loss_D: 0.2213, Loss_G: 4.6539\n",
            "[Epoch 99/100] Loss_D: 0.1489, Loss_G: 4.8920\n",
            "[Epoch 100/100] Loss_D: 0.2351, Loss_G: 4.6918\n",
            "Training completed in 140 min 1 sec.\n"
          ]
        }
      ]
    },
    {
      "cell_type": "code",
      "source": [
        "# Plot and save loss curve\n",
        "metrics_path = os.path.join(exp_path, \"metrics\", \"losses.csv\")\n",
        "loss_D_log = []\n",
        "loss_G_log = []\n",
        "\n",
        "if os.path.exists(metrics_path):\n",
        "    import pandas as pd\n",
        "    df = pd.read_csv(metrics_path)\n",
        "    loss_D_log = list(df[\"loss_D\"])\n",
        "    loss_G_log = list(df[\"loss_G\"])\n",
        "    print(f\"Loaded loss logs for {len(loss_D_log)} epochs from {metrics_path}\")\n",
        "else:\n",
        "    print(\"No previous loss logs found. Starting fresh.\")\n",
        "\n",
        "epochs = list(range(1, len(loss_D_log) + 1))\n",
        "plt.figure(figsize=(10, 5))\n",
        "plt.plot(epochs, loss_D_log, label=\"Discriminator Loss\")\n",
        "plt.plot(epochs, loss_G_log, label=\"Generator Loss\")\n",
        "plt.xlabel(\"Epoch\", fontsize=12)\n",
        "plt.ylabel(\"Loss\", fontsize=12)\n",
        "plt.title(f\"Training Loss Curve ({experiment_id})\")\n",
        "plt.legend()\n",
        "plt.grid(True)\n",
        "plt.ylim(0, 7)\n",
        "plt.tight_layout()\n",
        "\n",
        "# Save plot\n",
        "plot_path = os.path.join(exp_path, \"metrics\", \"loss_curve.png\")\n",
        "plt.savefig(plot_path)\n",
        "plt.close()\n",
        "print(f\"Loss curve saved: {plot_path}\")"
      ],
      "metadata": {
        "colab": {
          "base_uri": "https://localhost:8080/"
        },
        "id": "hJUwPh1urWuv",
        "outputId": "b0b20704-de6d-489c-d127-ee9c8047f6cc"
      },
      "execution_count": null,
      "outputs": [
        {
          "output_type": "stream",
          "name": "stdout",
          "text": [
            "Loaded loss logs for 100 epochs from /content/drive/MyDrive/GAN_Research/E2_L1_GenOut/metrics/losses.csv\n",
            "Loss curve saved: /content/drive/MyDrive/GAN_Research/E2_L1_GenOut/metrics/loss_curve.png\n"
          ]
        }
      ]
    },
    {
      "cell_type": "code",
      "source": [
        "# Evaluation: Save images, calculate FID & Inception Score\n",
        "eval_batch_size = 128\n",
        "num_eval_images = config[\"fid_samples\"]\n",
        "eval_image_size = config[\"image_size\"]\n",
        "real_dir = os.path.join(exp_path, \"eval_data\", \"real\")\n",
        "fake_dir = os.path.join(exp_path, \"eval_data\", \"fake\")\n",
        "\n",
        "# Clean eval_data folders\n",
        "for dir_ in [real_dir, fake_dir]:\n",
        "    for f in os.listdir(dir_):\n",
        "        os.remove(os.path.join(dir_, f))\n",
        "\n",
        "# Save real images\n",
        "def save_real_images():\n",
        "    transform_eval = transforms.Compose([\n",
        "        transforms.Resize(eval_image_size),\n",
        "        transforms.CenterCrop(eval_image_size),\n",
        "        transforms.ToTensor(),\n",
        "        transforms.Normalize((0.5,) * 3, (0.5,) * 3)\n",
        "    ])\n",
        "    eval_dataset = datasets.CIFAR10(root=\"./data\", train=True, download=True, transform=transform_eval)\n",
        "    eval_loader = DataLoader(eval_dataset, batch_size=eval_batch_size, shuffle=False)\n",
        "    i = 0\n",
        "    for imgs, _ in eval_loader:\n",
        "        for img in imgs:\n",
        "            save_image(img, f\"{real_dir}/{i}.png\", normalize=True)\n",
        "            i += 1\n",
        "            if i >= num_eval_images:\n",
        "                return\n",
        "\n",
        "# Save fake images\n",
        "def save_fake_images(generator):\n",
        "    generator.eval()\n",
        "    i = 0\n",
        "    with torch.no_grad():\n",
        "        for _ in tqdm(range(0, num_eval_images, eval_batch_size), desc=\"Generating fake\"):\n",
        "            curr_batch = min(eval_batch_size, num_eval_images - i)\n",
        "            noise = torch.randn(curr_batch, config[\"latent_dim\"], 1, 1, device=device)\n",
        "            fake_imgs = generator(noise).cpu()\n",
        "            for img in fake_imgs:\n",
        "                save_image(img, f\"{fake_dir}/{i}.png\", normalize=True)\n",
        "                i += 1\n",
        "                if i >= num_eval_images:\n",
        "                    return\n",
        "\n",
        "save_real_images()\n",
        "save_fake_images(G)\n",
        "\n",
        "# FID calculation\n",
        "metrics = calculate_metrics(\n",
        "    input1=real_dir,\n",
        "    input2=fake_dir,\n",
        "    cuda=torch.cuda.is_available(),\n",
        "    isc=False,\n",
        "    fid=True,\n",
        "    kid=False,\n",
        "    verbose=False\n",
        ")\n",
        "fid = metrics[\"frechet_inception_distance\"]\n",
        "\n",
        "# Inception Score\n",
        "class PNGImageFolder(torch.utils.data.Dataset):\n",
        "    def __init__(self, folder, transform=None):\n",
        "        self.paths = [os.path.join(folder, f) for f in sorted(os.listdir(folder)) if f.endswith('.png')]\n",
        "        self.transform = transform\n",
        "    def __len__(self): return len(self.paths)\n",
        "    def __getitem__(self, idx):\n",
        "        img = Image.open(self.paths[idx]).convert(\"RGB\")\n",
        "        if self.transform: img = self.transform(img)\n",
        "        return img\n",
        "\n",
        "def compute_inception_score(image_folder, splits=10):\n",
        "    transform = transforms.Compose([\n",
        "        transforms.Resize((299, 299)),\n",
        "        transforms.ToTensor()\n",
        "    ])\n",
        "    dataset = PNGImageFolder(image_folder, transform)\n",
        "    loader = DataLoader(dataset, batch_size=64, shuffle=False)\n",
        "    model = inception_v3(pretrained=True, transform_input=False).to(device)\n",
        "    model.eval()\n",
        "    preds = []\n",
        "    for imgs in loader:\n",
        "        imgs = imgs.to(device)\n",
        "        with torch.no_grad():\n",
        "            pred = model(imgs)\n",
        "            pred = F.softmax(pred, dim=1).cpu().numpy()\n",
        "        preds.append(pred)\n",
        "    preds = np.concatenate(preds, axis=0)\n",
        "    split_scores = []\n",
        "    for k in range(splits):\n",
        "        part = preds[k * (len(preds) // splits): (k + 1) * (len(preds) // splits)]\n",
        "        py = np.mean(part, axis=0)\n",
        "        scores = [entropy(p, py) for p in part]\n",
        "        split_scores.append(np.exp(np.mean(scores)))\n",
        "    return float(np.mean(split_scores)), float(np.std(split_scores))\n",
        "\n",
        "mean_is, std_is = compute_inception_score(fake_dir)\n",
        "\n",
        "with open(os.path.join(exp_path, \"metrics\", \"eval_metrics.txt\"), \"w\") as f:\n",
        "    f.write(f\"FID: {fid:.4f}\\n\")\n",
        "    f.write(f\"Inception Score: {mean_is:.4f} ± {std_is:.4f}\\n\")\n",
        "\n",
        "print(f\"\\nFID: {fid:.4f}\")\n",
        "print(f\"Inception Score: {mean_is:.4f} ± {std_is:.4f}\")"
      ],
      "metadata": {
        "colab": {
          "base_uri": "https://localhost:8080/"
        },
        "id": "-KIp_K2WrWxH",
        "outputId": "94bbf3a9-b3c6-4e0c-eee1-c26bdee210ad"
      },
      "execution_count": null,
      "outputs": [
        {
          "output_type": "stream",
          "name": "stderr",
          "text": [
            "Generating fake:  99%|█████████▊| 78/79 [00:53<00:00,  1.46it/s]\n",
            "/usr/local/lib/python3.11/dist-packages/torchvision/models/_utils.py:208: UserWarning: The parameter 'pretrained' is deprecated since 0.13 and may be removed in the future, please use 'weights' instead.\n",
            "  warnings.warn(\n",
            "/usr/local/lib/python3.11/dist-packages/torchvision/models/_utils.py:223: UserWarning: Arguments other than a weight enum or `None` for 'weights' are deprecated since 0.13 and may be removed in the future. The current behavior is equivalent to passing `weights=Inception_V3_Weights.IMAGENET1K_V1`. You can also use `weights=Inception_V3_Weights.DEFAULT` to get the most up-to-date weights.\n",
            "  warnings.warn(msg)\n"
          ]
        },
        {
          "output_type": "stream",
          "name": "stdout",
          "text": [
            "\n",
            "FID: 50.2813\n",
            "Inception Score: 3.4228 ± 0.0662\n"
          ]
        }
      ]
    },
    {
      "cell_type": "markdown",
      "source": [
        "### E2_L2_GenOut"
      ],
      "metadata": {
        "id": "crouExswshOU"
      }
    },
    {
      "cell_type": "code",
      "source": [
        "# E2_L2_GenOut: L2 Regularization on Generator Output\n",
        "\n",
        "# Experiment Configuration\n",
        "experiment_id = \"E2_L2_GenOut\"\n",
        "\n",
        "config = config.copy()\n",
        "config.update({\n",
        "    \"experiment_id\": experiment_id,\n",
        "    \"regularization_type\": \"L2\",\n",
        "    \"regularization_lambda_L1\": 0.0,\n",
        "    \"regularization_lambda_L2\": 0.001,     # λ for L2 penalty\n",
        "    \"regularization_placement\": \"generator_output\",\n",
        "})"
      ],
      "metadata": {
        "id": "eQYLVZPhrWzo"
      },
      "execution_count": null,
      "outputs": []
    },
    {
      "cell_type": "code",
      "source": [
        "# Prepare experiment folders in Google Drive\n",
        "exp_path = os.path.join(ROOT_DIR, experiment_id)\n",
        "for subfolder in [\"images\", \"metrics\", \"eval_data/real\", \"eval_data/fake\"]:\n",
        "    os.makedirs(os.path.join(exp_path, subfolder), exist_ok=True)"
      ],
      "metadata": {
        "id": "-4WhcRVTrW2h"
      },
      "execution_count": null,
      "outputs": []
    },
    {
      "cell_type": "code",
      "source": [
        "# Save config\n",
        "config_path = os.path.join(exp_path, \"config_manual.txt\")\n",
        "with open(config_path, \"w\") as f:\n",
        "    for k, v in config.items():\n",
        "        f.write(f\"{k}: {v}\\n\")\n",
        "print(f\"Configuration saved: {config_path}\")"
      ],
      "metadata": {
        "colab": {
          "base_uri": "https://localhost:8080/"
        },
        "id": "S_9qjt44rW5J",
        "outputId": "52d839bf-0c32-4011-d583-a515f634f609"
      },
      "execution_count": null,
      "outputs": [
        {
          "output_type": "stream",
          "name": "stdout",
          "text": [
            "Configuration saved: /content/drive/MyDrive/GAN_Research/E2_L2_GenOut/config_manual.txt\n"
          ]
        }
      ]
    },
    {
      "cell_type": "code",
      "source": [
        "# Prepare fixed noise\n",
        "num_fixed_samples = 64\n",
        "latent_dim = config[\"latent_dim\"]\n",
        "device = torch.device(config[\"device\"])\n",
        "fixed_noise = torch.randn(num_fixed_samples, latent_dim, 1, 1, device=device)\n",
        "torch.save(fixed_noise, os.path.join(exp_path, \"fixed_noise.pt\"))"
      ],
      "metadata": {
        "id": "_KOFF_R0rW7a"
      },
      "execution_count": null,
      "outputs": []
    },
    {
      "cell_type": "code",
      "source": [
        "# Initialize models and apply DCGAN weight init\n",
        "G = Generator(latent_dim=latent_dim).to(device)\n",
        "D = Discriminator().to(device)\n",
        "G.apply(weights_init)\n",
        "D.apply(weights_init)\n",
        "print(\"Generator and Discriminator initialized for E2_L2_GenOut\")"
      ],
      "metadata": {
        "colab": {
          "base_uri": "https://localhost:8080/"
        },
        "id": "uvGdHVF8rW9-",
        "outputId": "9f0a6d0a-8679-49f4-a933-0666ae0aec35"
      },
      "execution_count": null,
      "outputs": [
        {
          "output_type": "stream",
          "name": "stdout",
          "text": [
            "Generator and Discriminator initialized for E2_L2_GenOut\n"
          ]
        }
      ]
    },
    {
      "cell_type": "code",
      "source": [
        "# Loss and optimizers\n",
        "criterion = nn.BCELoss()\n",
        "optimizer_G = optim.Adam(G.parameters(), lr=config[\"learning_rate\"], betas=(config[\"beta1\"], 0.999))\n",
        "optimizer_D = optim.Adam(D.parameters(), lr=config[\"learning_rate\"], betas=(config[\"beta1\"], 0.999))"
      ],
      "metadata": {
        "id": "n28-YjAarXAm"
      },
      "execution_count": null,
      "outputs": []
    },
    {
      "cell_type": "code",
      "source": [
        "# Checkpointing\n",
        "checkpoint_path = os.path.join(exp_path, \"checkpoint.pt\")\n",
        "start_epoch = 1\n",
        "if os.path.exists(checkpoint_path):\n",
        "    checkpoint = torch.load(checkpoint_path, map_location=device)\n",
        "    G.load_state_dict(checkpoint[\"G_state_dict\"])\n",
        "    D.load_state_dict(checkpoint[\"D_state_dict\"])\n",
        "    optimizer_G.load_state_dict(checkpoint[\"optimizer_G\"])\n",
        "    optimizer_D.load_state_dict(checkpoint[\"optimizer_D\"])\n",
        "    start_epoch = checkpoint[\"epoch\"] + 1\n",
        "    print(f\"Resumed from checkpoint epoch {checkpoint['epoch']}\")\n",
        "else:\n",
        "    print(\"Starting from scratch.\")"
      ],
      "metadata": {
        "colab": {
          "base_uri": "https://localhost:8080/"
        },
        "id": "gV7zMkECrXDO",
        "outputId": "b04079c5-d17b-4c81-bc3a-d9dacdfdd9f9"
      },
      "execution_count": null,
      "outputs": [
        {
          "output_type": "stream",
          "name": "stdout",
          "text": [
            "Starting from scratch.\n"
          ]
        }
      ]
    },
    {
      "cell_type": "code",
      "source": [
        "# Training loop\n",
        "metrics_path = os.path.join(exp_path, \"metrics\", \"losses.csv\")\n",
        "loss_D_log = []\n",
        "loss_G_log = []\n",
        "\n",
        "# Load previous loss logs (for continuation in Colab runtime)\n",
        "if os.path.exists(metrics_path):\n",
        "    df_prev = pd.read_csv(metrics_path)\n",
        "    loss_D_log = list(df_prev[\"loss_D\"])\n",
        "    loss_G_log = list(df_prev[\"loss_G\"])\n",
        "    print(f\"Loaded previous loss logs for {len(loss_D_log)} epochs.\")\n",
        "else:\n",
        "    print(\"No previous loss logs found. Starting fresh.\")\n",
        "\n",
        "training_start_time = time.time()\n",
        "\n",
        "for epoch in range(start_epoch, config[\"num_epochs\"] + 1):\n",
        "    loss_D_epoch = 0.0\n",
        "    loss_G_epoch = 0.0\n",
        "\n",
        "    for real_imgs, _ in dataloader:\n",
        "        real_imgs = real_imgs.to(device)\n",
        "        batch_size = real_imgs.size(0)\n",
        "\n",
        "        # Train Discriminator\n",
        "        optimizer_D.zero_grad()\n",
        "        real_labels = torch.full((batch_size,), 1.0, dtype=torch.float, device=device)\n",
        "        fake_labels = torch.full((batch_size,), 0.0, dtype=torch.float, device=device)\n",
        "\n",
        "        output_real = D(real_imgs).view(-1)\n",
        "        loss_real = criterion(output_real, real_labels)\n",
        "\n",
        "        noise = torch.randn(batch_size, config[\"latent_dim\"], 1, 1, device=device)\n",
        "        fake_imgs = G(noise).detach()\n",
        "        output_fake = D(fake_imgs).view(-1)\n",
        "        loss_fake = criterion(output_fake, fake_labels)\n",
        "\n",
        "        loss_D = loss_real + loss_fake\n",
        "        loss_D.backward()\n",
        "        optimizer_D.step()\n",
        "\n",
        "        # Train Generator\n",
        "        optimizer_G.zero_grad()\n",
        "        noise = torch.randn(batch_size, config[\"latent_dim\"], 1, 1, device=device)\n",
        "        fake_imgs = G(noise)\n",
        "        output = D(fake_imgs).view(-1)\n",
        "        loss_G = criterion(output, real_labels)\n",
        "\n",
        "        # Add L2 regularization on generator output\n",
        "        # Penalize the mean squared pixel magnitude of G(z), weighted by λ\n",
        "        if config[\"regularization_type\"] == \"L2\" and config[\"regularization_placement\"] == \"generator_output\":\n",
        "            l2_reg = config[\"regularization_lambda_L2\"] * torch.mean(fake_imgs ** 2)\n",
        "            loss_G += l2_reg\n",
        "\n",
        "        loss_G.backward()\n",
        "        optimizer_G.step()\n",
        "\n",
        "        loss_D_epoch += loss_D.item()\n",
        "        loss_G_epoch += loss_G.item()\n",
        "\n",
        "    # Save images\n",
        "    if epoch % config[\"save_images_every\"] == 0 or epoch == 1:\n",
        "        with torch.no_grad():\n",
        "            sample_imgs = G(fixed_noise).detach().cpu()\n",
        "            img_path = os.path.join(exp_path, \"images\", f\"epoch_{epoch:03}.png\")\n",
        "            vutils.save_image(sample_imgs, img_path, normalize=True, nrow=8)\n",
        "\n",
        "    # Save checkpoint\n",
        "    if epoch % 10 == 0 or epoch == config[\"num_epochs\"]:\n",
        "        checkpoint = {\n",
        "            \"epoch\": epoch,\n",
        "            \"G_state_dict\": G.state_dict(),\n",
        "            \"D_state_dict\": D.state_dict(),\n",
        "            \"optimizer_G\": optimizer_G.state_dict(),\n",
        "            \"optimizer_D\": optimizer_D.state_dict(),\n",
        "        }\n",
        "        torch.save(checkpoint, checkpoint_path)\n",
        "\n",
        "    # Log average losses\n",
        "    avg_D = loss_D_epoch / len(dataloader)\n",
        "    avg_G = loss_G_epoch / len(dataloader)\n",
        "    loss_D_log.append(avg_D)\n",
        "    loss_G_log.append(avg_G)\n",
        "\n",
        "    print(f\"[Epoch {epoch}/{config['num_epochs']}] Loss_D: {avg_D:.4f}, Loss_G: {avg_G:.4f}\")\n",
        "\n",
        "    # Write updated loss CSV\n",
        "    with open(metrics_path, \"w\") as f:\n",
        "        f.write(\"epoch,loss_D,loss_G\\n\")\n",
        "        for i in range(len(loss_D_log)):\n",
        "            f.write(f\"{i+1},{loss_D_log[i]},{loss_G_log[i]}\\n\")\n",
        "\n",
        "# Save total training time\n",
        "total_sec = time.time() - training_start_time\n",
        "mins, secs = int(total_sec // 60), int(total_sec % 60)\n",
        "with open(os.path.join(exp_path, \"training_time.txt\"), \"w\") as f:\n",
        "    f.write(f\"Total training time: {mins} min {secs} sec\\n\")\n",
        "print(f\"Training completed in {mins} min {secs} sec.\")"
      ],
      "metadata": {
        "colab": {
          "base_uri": "https://localhost:8080/"
        },
        "id": "EeBS187ZrXFo",
        "outputId": "5c774eda-697c-493d-fd96-004ed8858f70"
      },
      "execution_count": null,
      "outputs": [
        {
          "output_type": "stream",
          "name": "stdout",
          "text": [
            "No previous loss logs found. Starting fresh.\n",
            "[Epoch 1/100] Loss_D: 0.6767, Loss_G: 2.1919\n",
            "[Epoch 2/100] Loss_D: 0.8573, Loss_G: 2.5960\n",
            "[Epoch 3/100] Loss_D: 1.0505, Loss_G: 1.9265\n",
            "[Epoch 4/100] Loss_D: 1.0378, Loss_G: 1.7756\n",
            "[Epoch 5/100] Loss_D: 1.1298, Loss_G: 1.5028\n",
            "[Epoch 6/100] Loss_D: 1.1546, Loss_G: 1.4251\n",
            "[Epoch 7/100] Loss_D: 1.1680, Loss_G: 1.4205\n",
            "[Epoch 8/100] Loss_D: 1.1155, Loss_G: 1.4915\n",
            "[Epoch 9/100] Loss_D: 1.1068, Loss_G: 1.4926\n",
            "[Epoch 10/100] Loss_D: 1.0709, Loss_G: 1.5466\n",
            "[Epoch 11/100] Loss_D: 1.0473, Loss_G: 1.5676\n",
            "[Epoch 12/100] Loss_D: 1.0533, Loss_G: 1.6191\n",
            "[Epoch 13/100] Loss_D: 1.0363, Loss_G: 1.5769\n",
            "[Epoch 14/100] Loss_D: 1.0203, Loss_G: 1.6400\n",
            "[Epoch 15/100] Loss_D: 1.0083, Loss_G: 1.6291\n",
            "[Epoch 16/100] Loss_D: 1.0020, Loss_G: 1.6083\n",
            "[Epoch 17/100] Loss_D: 0.9748, Loss_G: 1.6453\n",
            "[Epoch 18/100] Loss_D: 0.9392, Loss_G: 1.6680\n",
            "[Epoch 19/100] Loss_D: 0.9298, Loss_G: 1.7331\n",
            "[Epoch 20/100] Loss_D: 0.8848, Loss_G: 1.7921\n",
            "[Epoch 21/100] Loss_D: 0.8586, Loss_G: 1.8433\n",
            "[Epoch 22/100] Loss_D: 0.8420, Loss_G: 1.8965\n",
            "[Epoch 23/100] Loss_D: 0.8120, Loss_G: 1.9570\n",
            "[Epoch 24/100] Loss_D: 0.7661, Loss_G: 2.0964\n",
            "[Epoch 25/100] Loss_D: 0.7565, Loss_G: 2.0655\n",
            "[Epoch 26/100] Loss_D: 0.7280, Loss_G: 2.1198\n",
            "[Epoch 27/100] Loss_D: 0.7155, Loss_G: 2.2106\n",
            "[Epoch 28/100] Loss_D: 0.6703, Loss_G: 2.2946\n",
            "[Epoch 29/100] Loss_D: 0.6645, Loss_G: 2.2725\n",
            "[Epoch 30/100] Loss_D: 0.6520, Loss_G: 2.4265\n",
            "[Epoch 31/100] Loss_D: 0.6180, Loss_G: 2.4476\n",
            "[Epoch 32/100] Loss_D: 0.6003, Loss_G: 2.4360\n",
            "[Epoch 33/100] Loss_D: 0.6063, Loss_G: 2.4957\n",
            "[Epoch 34/100] Loss_D: 0.5615, Loss_G: 2.6017\n",
            "[Epoch 35/100] Loss_D: 0.5542, Loss_G: 2.5588\n",
            "[Epoch 36/100] Loss_D: 0.5542, Loss_G: 2.6992\n",
            "[Epoch 37/100] Loss_D: 0.5115, Loss_G: 2.6875\n",
            "[Epoch 38/100] Loss_D: 0.5112, Loss_G: 2.9375\n",
            "[Epoch 39/100] Loss_D: 0.5061, Loss_G: 2.8371\n",
            "[Epoch 40/100] Loss_D: 0.4926, Loss_G: 2.8909\n",
            "[Epoch 41/100] Loss_D: 0.4576, Loss_G: 2.9409\n",
            "[Epoch 42/100] Loss_D: 0.4700, Loss_G: 2.9927\n",
            "[Epoch 43/100] Loss_D: 0.4309, Loss_G: 3.0132\n",
            "[Epoch 44/100] Loss_D: 0.4351, Loss_G: 3.0922\n",
            "[Epoch 45/100] Loss_D: 0.4221, Loss_G: 3.2211\n",
            "[Epoch 46/100] Loss_D: 0.3947, Loss_G: 3.2669\n",
            "[Epoch 47/100] Loss_D: 0.4255, Loss_G: 3.2440\n",
            "[Epoch 48/100] Loss_D: 0.3901, Loss_G: 3.2817\n",
            "[Epoch 49/100] Loss_D: 0.4227, Loss_G: 3.3000\n",
            "[Epoch 50/100] Loss_D: 0.3687, Loss_G: 3.3526\n",
            "[Epoch 51/100] Loss_D: 0.3844, Loss_G: 3.4175\n",
            "[Epoch 52/100] Loss_D: 0.3540, Loss_G: 3.3848\n",
            "[Epoch 53/100] Loss_D: 0.3291, Loss_G: 3.4539\n",
            "[Epoch 54/100] Loss_D: 0.3808, Loss_G: 3.5887\n",
            "[Epoch 55/100] Loss_D: 0.3734, Loss_G: 3.4713\n",
            "[Epoch 56/100] Loss_D: 0.3631, Loss_G: 3.4706\n",
            "[Epoch 57/100] Loss_D: 0.3233, Loss_G: 3.6152\n",
            "[Epoch 58/100] Loss_D: 0.3604, Loss_G: 3.6766\n",
            "[Epoch 59/100] Loss_D: 0.2865, Loss_G: 3.8059\n",
            "[Epoch 60/100] Loss_D: 0.3021, Loss_G: 3.9263\n",
            "[Epoch 61/100] Loss_D: 0.2742, Loss_G: 3.8777\n",
            "[Epoch 62/100] Loss_D: 0.3274, Loss_G: 4.0328\n",
            "[Epoch 63/100] Loss_D: 0.3088, Loss_G: 4.0110\n",
            "[Epoch 64/100] Loss_D: 0.2872, Loss_G: 3.7688\n",
            "[Epoch 65/100] Loss_D: 0.2871, Loss_G: 4.0446\n",
            "[Epoch 66/100] Loss_D: 0.3084, Loss_G: 3.9189\n",
            "[Epoch 67/100] Loss_D: 0.2854, Loss_G: 3.9384\n",
            "[Epoch 68/100] Loss_D: 0.2695, Loss_G: 4.0716\n",
            "[Epoch 69/100] Loss_D: 0.3136, Loss_G: 4.1351\n",
            "[Epoch 70/100] Loss_D: 0.2385, Loss_G: 4.0436\n",
            "[Epoch 71/100] Loss_D: 0.2472, Loss_G: 4.1942\n",
            "[Epoch 72/100] Loss_D: 0.2902, Loss_G: 4.0711\n",
            "[Epoch 73/100] Loss_D: 0.2107, Loss_G: 4.2544\n",
            "[Epoch 74/100] Loss_D: 0.2925, Loss_G: 4.1649\n",
            "[Epoch 75/100] Loss_D: 0.2541, Loss_G: 4.1633\n",
            "[Epoch 76/100] Loss_D: 0.2871, Loss_G: 4.1318\n",
            "[Epoch 77/100] Loss_D: 0.2090, Loss_G: 4.3163\n",
            "[Epoch 78/100] Loss_D: 0.2486, Loss_G: 4.2064\n",
            "[Epoch 79/100] Loss_D: 0.2282, Loss_G: 4.4261\n",
            "[Epoch 80/100] Loss_D: 0.2320, Loss_G: 4.3252\n",
            "[Epoch 81/100] Loss_D: 0.2447, Loss_G: 4.5789\n",
            "[Epoch 82/100] Loss_D: 0.2704, Loss_G: 4.2195\n",
            "[Epoch 83/100] Loss_D: 0.1731, Loss_G: 4.5875\n",
            "[Epoch 84/100] Loss_D: 0.2157, Loss_G: 4.5442\n",
            "[Epoch 85/100] Loss_D: 0.2554, Loss_G: 4.3999\n",
            "[Epoch 86/100] Loss_D: 0.2260, Loss_G: 4.5103\n",
            "[Epoch 87/100] Loss_D: 0.2114, Loss_G: 4.6078\n",
            "[Epoch 88/100] Loss_D: 0.2632, Loss_G: 4.6597\n",
            "[Epoch 89/100] Loss_D: 0.2143, Loss_G: 4.5302\n",
            "[Epoch 90/100] Loss_D: 0.1740, Loss_G: 4.5447\n",
            "[Epoch 91/100] Loss_D: 0.2101, Loss_G: 4.6678\n",
            "[Epoch 92/100] Loss_D: 0.2286, Loss_G: 4.9171\n",
            "[Epoch 93/100] Loss_D: 0.1530, Loss_G: 4.7303\n",
            "[Epoch 94/100] Loss_D: 0.2302, Loss_G: 4.8934\n",
            "[Epoch 95/100] Loss_D: 0.2098, Loss_G: 4.5142\n",
            "[Epoch 96/100] Loss_D: 0.1645, Loss_G: 4.6337\n",
            "[Epoch 97/100] Loss_D: 0.2123, Loss_G: 4.5143\n",
            "[Epoch 98/100] Loss_D: 0.2280, Loss_G: 4.6045\n",
            "[Epoch 99/100] Loss_D: 0.1961, Loss_G: 4.6613\n",
            "[Epoch 100/100] Loss_D: 0.1490, Loss_G: 4.8501\n",
            "Training completed in 140 min 31 sec.\n"
          ]
        }
      ]
    },
    {
      "cell_type": "code",
      "source": [
        "# Plot and save loss curve\n",
        "metrics_path = os.path.join(exp_path, \"metrics\", \"losses.csv\")\n",
        "loss_D_log = []\n",
        "loss_G_log = []\n",
        "\n",
        "if os.path.exists(metrics_path):\n",
        "    import pandas as pd\n",
        "    df = pd.read_csv(metrics_path)\n",
        "    loss_D_log = list(df[\"loss_D\"])\n",
        "    loss_G_log = list(df[\"loss_G\"])\n",
        "    print(f\"Loaded loss logs for {len(loss_D_log)} epochs from {metrics_path}\")\n",
        "else:\n",
        "    print(\"No previous loss logs found. Starting fresh.\")\n",
        "\n",
        "epochs = list(range(1, len(loss_D_log) + 1))\n",
        "plt.figure(figsize=(10, 5))\n",
        "plt.plot(epochs, loss_D_log, label=\"Discriminator Loss\")\n",
        "plt.plot(epochs, loss_G_log, label=\"Generator Loss\")\n",
        "plt.xlabel(\"Epoch\", fontsize=12)\n",
        "plt.ylabel(\"Loss\", fontsize=12)\n",
        "plt.title(f\"Training Loss Curve ({experiment_id})\")\n",
        "plt.legend()\n",
        "plt.grid(True)\n",
        "plt.ylim(0, 7)\n",
        "plt.tight_layout()\n",
        "\n",
        "plot_path = os.path.join(exp_path, \"metrics\", \"loss_curve.png\")\n",
        "plt.savefig(plot_path)\n",
        "plt.close()\n",
        "print(f\"Loss curve saved: {plot_path}\")"
      ],
      "metadata": {
        "colab": {
          "base_uri": "https://localhost:8080/"
        },
        "id": "CS4aLmHSrXIP",
        "outputId": "f7133467-e160-49d8-c7eb-d62bd934c0d7"
      },
      "execution_count": null,
      "outputs": [
        {
          "output_type": "stream",
          "name": "stdout",
          "text": [
            "Loaded loss logs for 100 epochs from /content/drive/MyDrive/GAN_Research/E2_L2_GenOut/metrics/losses.csv\n",
            "Loss curve saved: /content/drive/MyDrive/GAN_Research/E2_L2_GenOut/metrics/loss_curve.png\n"
          ]
        }
      ]
    },
    {
      "cell_type": "code",
      "source": [
        "# Evaluation: Save images, calculate FID & Inception Score\n",
        "eval_batch_size = 128\n",
        "num_eval_images = config[\"fid_samples\"]\n",
        "eval_image_size = config[\"image_size\"]\n",
        "real_dir = os.path.join(exp_path, \"eval_data\", \"real\")\n",
        "fake_dir = os.path.join(exp_path, \"eval_data\", \"fake\")\n",
        "\n",
        "# Clean eval_data folders\n",
        "for dir_ in [real_dir, fake_dir]:\n",
        "    for f in os.listdir(dir_):\n",
        "        os.remove(os.path.join(dir_, f))\n",
        "\n",
        "# Save real images\n",
        "def save_real_images():\n",
        "    transform_eval = transforms.Compose([\n",
        "        transforms.Resize(eval_image_size),\n",
        "        transforms.CenterCrop(eval_image_size),\n",
        "        transforms.ToTensor(),\n",
        "        transforms.Normalize((0.5,) * 3, (0.5,) * 3)\n",
        "    ])\n",
        "    eval_dataset = datasets.CIFAR10(root=\"./data\", train=True, download=True, transform=transform_eval)\n",
        "    eval_loader = DataLoader(eval_dataset, batch_size=eval_batch_size, shuffle=False)\n",
        "    i = 0\n",
        "    for imgs, _ in eval_loader:\n",
        "        for img in imgs:\n",
        "            save_image(img, f\"{real_dir}/{i}.png\", normalize=True)\n",
        "            i += 1\n",
        "            if i >= num_eval_images:\n",
        "                return\n",
        "\n",
        "# Save fake images\n",
        "def save_fake_images(generator):\n",
        "    generator.eval()\n",
        "    i = 0\n",
        "    with torch.no_grad():\n",
        "        for _ in tqdm(range(0, num_eval_images, eval_batch_size), desc=\"Generating fake\"):\n",
        "            curr_batch = min(eval_batch_size, num_eval_images - i)\n",
        "            noise = torch.randn(curr_batch, config[\"latent_dim\"], 1, 1, device=device)\n",
        "            fake_imgs = generator(noise).cpu()\n",
        "            for img in fake_imgs:\n",
        "                save_image(img, f\"{fake_dir}/{i}.png\", normalize=True)\n",
        "                i += 1\n",
        "                if i >= num_eval_images:\n",
        "                    return\n",
        "\n",
        "save_real_images()\n",
        "save_fake_images(G)\n",
        "\n",
        "# FID calculation\n",
        "metrics = calculate_metrics(\n",
        "    input1=real_dir,\n",
        "    input2=fake_dir,\n",
        "    cuda=torch.cuda.is_available(),\n",
        "    isc=False,\n",
        "    fid=True,\n",
        "    kid=False,\n",
        "    verbose=False\n",
        ")\n",
        "fid = metrics[\"frechet_inception_distance\"]\n",
        "\n",
        "# Inception Score\n",
        "class PNGImageFolder(torch.utils.data.Dataset):\n",
        "    def __init__(self, folder, transform=None):\n",
        "        self.paths = [os.path.join(folder, f) for f in sorted(os.listdir(folder)) if f.endswith('.png')]\n",
        "        self.transform = transform\n",
        "    def __len__(self): return len(self.paths)\n",
        "    def __getitem__(self, idx):\n",
        "        img = Image.open(self.paths[idx]).convert(\"RGB\")\n",
        "        if self.transform: img = self.transform(img)\n",
        "        return img\n",
        "\n",
        "def compute_inception_score(image_folder, splits=10):\n",
        "    transform = transforms.Compose([\n",
        "        transforms.Resize((299, 299)),\n",
        "        transforms.ToTensor()\n",
        "    ])\n",
        "    dataset = PNGImageFolder(image_folder, transform)\n",
        "    loader = DataLoader(dataset, batch_size=64, shuffle=False)\n",
        "    model = inception_v3(pretrained=True, transform_input=False).to(device)\n",
        "    model.eval()\n",
        "    preds = []\n",
        "    for imgs in loader:\n",
        "        imgs = imgs.to(device)\n",
        "        with torch.no_grad():\n",
        "            pred = model(imgs)\n",
        "            pred = F.softmax(pred, dim=1).cpu().numpy()\n",
        "        preds.append(pred)\n",
        "    preds = np.concatenate(preds, axis=0)\n",
        "    split_scores = []\n",
        "    for k in range(splits):\n",
        "        part = preds[k * (len(preds)//splits): (k+1)*(len(preds)//splits)]\n",
        "        py = np.mean(part, axis=0)\n",
        "        scores = [entropy(p, py) for p in part]\n",
        "        split_scores.append(np.exp(np.mean(scores)))\n",
        "    return float(np.mean(split_scores)), float(np.std(split_scores))\n",
        "\n",
        "mean_is, std_is = compute_inception_score(fake_dir)\n",
        "\n",
        "with open(os.path.join(exp_path, \"metrics\", \"eval_metrics.txt\"), \"w\") as f:\n",
        "    f.write(f\"FID: {fid:.4f}\\n\")\n",
        "    f.write(f\"Inception Score: {mean_is:.4f} ± {std_is:.4f}\\n\")\n",
        "\n",
        "print(f\"\\nFID: {fid:.4f}\")\n",
        "print(f\"Inception Score: {mean_is:.4f} ± {std_is:.4f}\")"
      ],
      "metadata": {
        "colab": {
          "base_uri": "https://localhost:8080/"
        },
        "id": "0l14LlCprXK2",
        "outputId": "5507c850-3faa-4de1-b75a-448d7aaae795"
      },
      "execution_count": null,
      "outputs": [
        {
          "output_type": "stream",
          "name": "stderr",
          "text": [
            "Generating fake:  99%|█████████▊| 78/79 [00:53<00:00,  1.47it/s]\n",
            "/usr/local/lib/python3.11/dist-packages/torchvision/models/_utils.py:208: UserWarning: The parameter 'pretrained' is deprecated since 0.13 and may be removed in the future, please use 'weights' instead.\n",
            "  warnings.warn(\n",
            "/usr/local/lib/python3.11/dist-packages/torchvision/models/_utils.py:223: UserWarning: Arguments other than a weight enum or `None` for 'weights' are deprecated since 0.13 and may be removed in the future. The current behavior is equivalent to passing `weights=Inception_V3_Weights.IMAGENET1K_V1`. You can also use `weights=Inception_V3_Weights.DEFAULT` to get the most up-to-date weights.\n",
            "  warnings.warn(msg)\n"
          ]
        },
        {
          "output_type": "stream",
          "name": "stdout",
          "text": [
            "\n",
            "FID: 45.5722\n",
            "Inception Score: 3.4781 ± 0.0819\n"
          ]
        }
      ]
    },
    {
      "cell_type": "markdown",
      "source": [
        "### E3_L1_DiscIn"
      ],
      "metadata": {
        "id": "usFFH-l2s16C"
      }
    },
    {
      "cell_type": "code",
      "source": [
        "# E3_L1_DiscIn: L1 Regularization on Discriminator Input\n",
        "\n",
        "# Experiment Configuration\n",
        "experiment_id = \"E3_L1_DiscIn\"\n",
        "\n",
        "config = config.copy()\n",
        "config.update({\n",
        "    \"experiment_id\": experiment_id,\n",
        "    \"regularization_type\": \"L1\",\n",
        "    \"regularization_lambda_L1\": 0.0001,\n",
        "    \"regularization_lambda_L2\": 0.0,\n",
        "    \"regularization_placement\": \"discriminator_input\",\n",
        "})"
      ],
      "metadata": {
        "id": "vMTkjXlBrXNn"
      },
      "execution_count": null,
      "outputs": []
    },
    {
      "cell_type": "code",
      "source": [
        "# Prepare experiment folders\n",
        "exp_path = os.path.join(ROOT_DIR, experiment_id)\n",
        "for subfolder in [\"images\", \"metrics\", \"eval_data/real\", \"eval_data/fake\"]:\n",
        "    os.makedirs(os.path.join(exp_path, subfolder), exist_ok=True)"
      ],
      "metadata": {
        "id": "UG-JGf8hrXQO"
      },
      "execution_count": null,
      "outputs": []
    },
    {
      "cell_type": "code",
      "source": [
        "# Save config\n",
        "config_path = os.path.join(exp_path, \"config_manual.txt\")\n",
        "with open(config_path, \"w\") as f:\n",
        "    for k, v in config.items():\n",
        "        f.write(f\"{k}: {v}\\n\")\n",
        "print(f\"Configuration saved: {config_path}\")"
      ],
      "metadata": {
        "colab": {
          "base_uri": "https://localhost:8080/"
        },
        "id": "H_o9fhTDrXS3",
        "outputId": "25a78d95-3b69-4a3e-a60f-f8438f7c9309"
      },
      "execution_count": null,
      "outputs": [
        {
          "output_type": "stream",
          "name": "stdout",
          "text": [
            "Configuration saved: /content/drive/MyDrive/GAN_Research/E3_L1_DiscIn/config_manual.txt\n"
          ]
        }
      ]
    },
    {
      "cell_type": "code",
      "source": [
        "# Prepare fixed noise\n",
        "num_fixed_samples = 64\n",
        "latent_dim = config[\"latent_dim\"]\n",
        "device = torch.device(config[\"device\"])\n",
        "fixed_noise = torch.randn(num_fixed_samples, latent_dim, 1, 1, device=device)\n",
        "torch.save(fixed_noise, os.path.join(exp_path, \"fixed_noise.pt\"))"
      ],
      "metadata": {
        "id": "jQr0pQKIrXVR"
      },
      "execution_count": null,
      "outputs": []
    },
    {
      "cell_type": "code",
      "source": [
        "# Initialize models\n",
        "G = Generator(latent_dim=latent_dim).to(device)\n",
        "D = Discriminator().to(device)\n",
        "G.apply(weights_init)\n",
        "D.apply(weights_init)\n",
        "print(\"Generator and Discriminator initialized for E3_L1_DiscIn\")"
      ],
      "metadata": {
        "colab": {
          "base_uri": "https://localhost:8080/"
        },
        "id": "TJNRGDJbrXXx",
        "outputId": "34ab80cd-4ca8-4fe1-8a0e-4781ef06e377"
      },
      "execution_count": null,
      "outputs": [
        {
          "output_type": "stream",
          "name": "stdout",
          "text": [
            "Generator and Discriminator initialized for E3_L1_DiscIn\n"
          ]
        }
      ]
    },
    {
      "cell_type": "code",
      "source": [
        "# Define loss and optimizers\n",
        "criterion = nn.BCELoss()\n",
        "optimizer_G = optim.Adam(G.parameters(), lr=config[\"learning_rate\"], betas=(config[\"beta1\"], 0.999))\n",
        "optimizer_D = optim.Adam(D.parameters(), lr=config[\"learning_rate\"], betas=(config[\"beta1\"], 0.999))"
      ],
      "metadata": {
        "id": "uMtaygcJrXaZ"
      },
      "execution_count": null,
      "outputs": []
    },
    {
      "cell_type": "code",
      "source": [
        "# Checkpointing\n",
        "checkpoint_path = os.path.join(exp_path, \"checkpoint.pt\")\n",
        "start_epoch = 1\n",
        "if os.path.exists(checkpoint_path):\n",
        "    checkpoint = torch.load(checkpoint_path, map_location=device)\n",
        "    G.load_state_dict(checkpoint[\"G_state_dict\"])\n",
        "    D.load_state_dict(checkpoint[\"D_state_dict\"])\n",
        "    optimizer_G.load_state_dict(checkpoint[\"optimizer_G\"])\n",
        "    optimizer_D.load_state_dict(checkpoint[\"optimizer_D\"])\n",
        "    start_epoch = checkpoint[\"epoch\"] + 1\n",
        "    print(f\"Resumed from checkpoint epoch {checkpoint['epoch']}\")\n",
        "else:\n",
        "    print(\"Starting from scratch.\")"
      ],
      "metadata": {
        "colab": {
          "base_uri": "https://localhost:8080/"
        },
        "id": "gXwT5q9LrXc-",
        "outputId": "6b325a9a-1cff-41c6-b2b8-5059aa12f6d7"
      },
      "execution_count": null,
      "outputs": [
        {
          "output_type": "stream",
          "name": "stdout",
          "text": [
            "Starting from scratch.\n"
          ]
        }
      ]
    },
    {
      "cell_type": "code",
      "source": [
        "# Training Loop\n",
        "metrics_path = os.path.join(exp_path, \"metrics\", \"losses.csv\")\n",
        "loss_D_log = []\n",
        "loss_G_log = []\n",
        "\n",
        "# Load previous loss logs (for continuation in Colab runtime)\n",
        "if os.path.exists(metrics_path):\n",
        "    df_prev = pd.read_csv(metrics_path)\n",
        "    loss_D_log = list(df_prev[\"loss_D\"])\n",
        "    loss_G_log = list(df_prev[\"loss_G\"])\n",
        "    print(f\"Loaded previous loss logs for {len(loss_D_log)} epochs.\")\n",
        "else:\n",
        "    print(\"No previous loss logs found. Starting fresh.\")\n",
        "\n",
        "training_start_time = time.time\n",
        "\n",
        "# Load previous loss logs (for continuation in Colab runtime)\n",
        "for epoch in range(start_epoch, config[\"num_epochs\"] + 1):\n",
        "    loss_D_epoch = 0.0\n",
        "    loss_G_epoch = 0.0\n",
        "\n",
        "    for real_imgs, _ in dataloader:\n",
        "        real_imgs = real_imgs.to(device)\n",
        "        batch_size = real_imgs.size(0)\n",
        "\n",
        "        # Train Discriminator\n",
        "        optimizer_D.zero_grad()\n",
        "        real_labels = torch.full((batch_size,), 1.0, dtype=torch.float, device=device)\n",
        "        fake_labels = torch.full((batch_size,), 0.0, dtype=torch.float, device=device)\n",
        "\n",
        "        output_real = D(real_imgs).view(-1)\n",
        "        loss_real = criterion(output_real, real_labels)\n",
        "\n",
        "        noise = torch.randn(batch_size, config[\"latent_dim\"], 1, 1, device=device)\n",
        "        fake_imgs = G(noise).detach()\n",
        "        output_fake = D(fake_imgs).view(-1)\n",
        "        loss_fake = criterion(output_fake, fake_labels)\n",
        "\n",
        "        loss_D = loss_real + loss_fake\n",
        "\n",
        "        # Add L1 regularization on discriminator input\n",
        "        # Penalize absolute pixel values of fake images before they are fed to D\n",
        "        if config[\"regularization_type\"] == \"L1\" and config[\"regularization_placement\"] == \"discriminator_input\":\n",
        "            l1_fake = torch.mean(torch.abs(fake_imgs))\n",
        "            reg_term = config[\"regularization_lambda_L1\"] * l1_fake\n",
        "            loss_D += reg_term\n",
        "\n",
        "        loss_D.backward()\n",
        "        optimizer_D.step()\n",
        "\n",
        "        # Train Generator\n",
        "        optimizer_G.zero_grad()\n",
        "        noise = torch.randn(batch_size, config[\"latent_dim\"], 1, 1, device=device)\n",
        "        fake_imgs = G(noise)\n",
        "        output = D(fake_imgs).view(-1)\n",
        "        loss_G = criterion(output, real_labels)\n",
        "        loss_G.backward()\n",
        "        optimizer_G.step()\n",
        "\n",
        "        loss_D_epoch += loss_D.item()\n",
        "        loss_G_epoch += loss_G.item()\n",
        "\n",
        "    # Logging\n",
        "    avg_D = loss_D_epoch / len(dataloader)\n",
        "    avg_G = loss_G_epoch / len(dataloader)\n",
        "    loss_D_log.append(avg_D)\n",
        "    loss_G_log.append(avg_G)\n",
        "    print(f\"[Epoch {epoch}/{config['num_epochs']}] Loss_D: {avg_D:.4f}, Loss_G: {avg_G:.4f}\")\n",
        "\n",
        "    # Save image\n",
        "    if epoch % config[\"save_images_every\"] == 0 or epoch == 1:\n",
        "        with torch.no_grad():\n",
        "            fake_imgs = G(fixed_noise).detach().cpu()\n",
        "            img_path = os.path.join(exp_path, \"images\", f\"epoch_{epoch:03}.png\")\n",
        "            vutils.save_image(fake_imgs, img_path, normalize=True, nrow=8)\n",
        "\n",
        "    # Save checkpoint\n",
        "    if epoch % 10 == 0 or epoch == config[\"num_epochs\"]:\n",
        "        checkpoint = {\n",
        "            \"epoch\": epoch,\n",
        "            \"G_state_dict\": G.state_dict(),\n",
        "            \"D_state_dict\": D.state_dict(),\n",
        "            \"optimizer_G\": optimizer_G.state_dict(),\n",
        "            \"optimizer_D\": optimizer_D.state_dict(),\n",
        "        }\n",
        "        torch.save(checkpoint, checkpoint_path)\n",
        "\n",
        "    # Save running losses\n",
        "    metrics_path = os.path.join(exp_path, \"metrics\", \"losses.csv\")\n",
        "    with open(metrics_path, \"w\") as f:\n",
        "        f.write(\"epoch,loss_D,loss_G\\n\")\n",
        "        for i in range(len(loss_D_log)):\n",
        "            f.write(f\"{i+1},{loss_D_log[i]},{loss_G_log[i]}\\n\")\n",
        "\n",
        "# Training time\n",
        "total_sec = time.time() - training_start_time\n",
        "mins, secs = int(total_sec // 60), int(total_sec % 60)\n",
        "with open(os.path.join(exp_path, \"training_time.txt\"), \"w\") as f:\n",
        "    f.write(f\"Total training time: {mins} min {secs} sec\\n\")\n",
        "print(f\"Training completed in {mins} min {secs} sec.\")"
      ],
      "metadata": {
        "colab": {
          "base_uri": "https://localhost:8080/"
        },
        "id": "gPz5BIFyrXfn",
        "outputId": "2fb3650b-6baf-40f9-9bb6-a1643d4c952e"
      },
      "execution_count": null,
      "outputs": [
        {
          "output_type": "stream",
          "name": "stdout",
          "text": [
            "[Epoch 1/100] Loss_D: 0.7086, Loss_G: 2.2412\n",
            "[Epoch 2/100] Loss_D: 0.8832, Loss_G: 2.6059\n",
            "[Epoch 3/100] Loss_D: 1.0935, Loss_G: 1.8180\n",
            "[Epoch 4/100] Loss_D: 0.9677, Loss_G: 2.0850\n",
            "[Epoch 5/100] Loss_D: 1.1115, Loss_G: 1.5879\n",
            "[Epoch 6/100] Loss_D: 1.1079, Loss_G: 1.5775\n",
            "[Epoch 7/100] Loss_D: 1.1012, Loss_G: 1.5388\n",
            "[Epoch 8/100] Loss_D: 1.0536, Loss_G: 1.6207\n",
            "[Epoch 9/100] Loss_D: 1.0201, Loss_G: 1.6660\n",
            "[Epoch 10/100] Loss_D: 1.0315, Loss_G: 1.6467\n",
            "[Epoch 11/100] Loss_D: 1.0412, Loss_G: 1.5895\n",
            "[Epoch 12/100] Loss_D: 1.0307, Loss_G: 1.6034\n",
            "[Epoch 13/100] Loss_D: 1.0166, Loss_G: 1.6174\n",
            "[Epoch 14/100] Loss_D: 1.0124, Loss_G: 1.6231\n",
            "[Epoch 15/100] Loss_D: 0.9778, Loss_G: 1.6456\n",
            "[Epoch 16/100] Loss_D: 0.9674, Loss_G: 1.7174\n",
            "[Epoch 17/100] Loss_D: 0.9229, Loss_G: 1.7181\n",
            "[Epoch 18/100] Loss_D: 0.9054, Loss_G: 1.7996\n",
            "[Epoch 19/100] Loss_D: 0.8715, Loss_G: 1.8304\n",
            "[Epoch 20/100] Loss_D: 0.8637, Loss_G: 1.9116\n",
            "[Epoch 21/100] Loss_D: 0.8379, Loss_G: 1.9329\n",
            "[Epoch 22/100] Loss_D: 0.7984, Loss_G: 1.9818\n",
            "[Epoch 23/100] Loss_D: 0.7908, Loss_G: 2.0055\n",
            "[Epoch 24/100] Loss_D: 0.7495, Loss_G: 2.1054\n",
            "[Epoch 25/100] Loss_D: 0.7297, Loss_G: 2.1949\n",
            "[Epoch 26/100] Loss_D: 0.7174, Loss_G: 2.2450\n",
            "[Epoch 27/100] Loss_D: 0.6803, Loss_G: 2.2442\n",
            "[Epoch 28/100] Loss_D: 0.6926, Loss_G: 2.3251\n",
            "[Epoch 29/100] Loss_D: 0.6455, Loss_G: 2.3465\n",
            "[Epoch 30/100] Loss_D: 0.6169, Loss_G: 2.4396\n",
            "[Epoch 31/100] Loss_D: 0.6015, Loss_G: 2.5576\n",
            "[Epoch 32/100] Loss_D: 0.6019, Loss_G: 2.4979\n",
            "[Epoch 33/100] Loss_D: 0.5762, Loss_G: 2.5907\n",
            "[Epoch 34/100] Loss_D: 0.5554, Loss_G: 2.6182\n",
            "[Epoch 35/100] Loss_D: 0.5376, Loss_G: 2.7377\n",
            "[Epoch 36/100] Loss_D: 0.5555, Loss_G: 2.7910\n",
            "[Epoch 37/100] Loss_D: 0.5264, Loss_G: 2.6984\n",
            "[Epoch 38/100] Loss_D: 0.5072, Loss_G: 2.8313\n",
            "[Epoch 39/100] Loss_D: 0.4821, Loss_G: 2.7832\n",
            "[Epoch 40/100] Loss_D: 0.4897, Loss_G: 2.9409\n",
            "[Epoch 41/100] Loss_D: 0.4784, Loss_G: 2.9501\n",
            "[Epoch 42/100] Loss_D: 0.4785, Loss_G: 2.9225\n",
            "[Epoch 43/100] Loss_D: 0.4327, Loss_G: 2.9931\n",
            "[Epoch 44/100] Loss_D: 0.4412, Loss_G: 3.0406\n",
            "[Epoch 45/100] Loss_D: 0.4322, Loss_G: 3.0245\n",
            "[Epoch 46/100] Loss_D: 0.4331, Loss_G: 3.1039\n",
            "[Epoch 47/100] Loss_D: 0.3968, Loss_G: 3.0685\n",
            "[Epoch 48/100] Loss_D: 0.4299, Loss_G: 3.2417\n",
            "[Epoch 49/100] Loss_D: 0.3856, Loss_G: 3.2709\n",
            "[Epoch 50/100] Loss_D: 0.3796, Loss_G: 3.2842\n",
            "[Epoch 51/100] Loss_D: 0.3857, Loss_G: 3.2611\n",
            "[Epoch 52/100] Loss_D: 0.3884, Loss_G: 3.2469\n",
            "[Epoch 53/100] Loss_D: 0.4172, Loss_G: 3.2795\n",
            "[Epoch 54/100] Loss_D: 0.3659, Loss_G: 3.2980\n",
            "[Epoch 55/100] Loss_D: 0.3197, Loss_G: 3.5110\n",
            "[Epoch 56/100] Loss_D: 0.4071, Loss_G: 3.4507\n",
            "[Epoch 57/100] Loss_D: 0.3460, Loss_G: 3.4771\n",
            "[Epoch 58/100] Loss_D: 0.3661, Loss_G: 3.5137\n",
            "[Epoch 59/100] Loss_D: 0.3562, Loss_G: 3.6356\n",
            "[Epoch 60/100] Loss_D: 0.2985, Loss_G: 3.7088\n",
            "[Epoch 61/100] Loss_D: 0.3227, Loss_G: 3.8301\n",
            "[Epoch 62/100] Loss_D: 0.3537, Loss_G: 3.6444\n",
            "[Epoch 63/100] Loss_D: 0.3429, Loss_G: 3.5886\n",
            "[Epoch 64/100] Loss_D: 0.2878, Loss_G: 3.6823\n",
            "[Epoch 65/100] Loss_D: 0.3474, Loss_G: 3.6259\n",
            "[Epoch 66/100] Loss_D: 0.2770, Loss_G: 3.8220\n",
            "[Epoch 67/100] Loss_D: 0.2574, Loss_G: 3.9572\n",
            "[Epoch 68/100] Loss_D: 0.3535, Loss_G: 3.8857\n",
            "[Epoch 69/100] Loss_D: 0.2961, Loss_G: 3.7818\n",
            "[Epoch 70/100] Loss_D: 0.2310, Loss_G: 4.0457\n",
            "[Epoch 71/100] Loss_D: 0.2639, Loss_G: 4.2845\n",
            "[Epoch 72/100] Loss_D: 0.2707, Loss_G: 3.9371\n",
            "[Epoch 73/100] Loss_D: 0.2849, Loss_G: 3.9804\n",
            "[Epoch 74/100] Loss_D: 0.2752, Loss_G: 3.9609\n",
            "[Epoch 75/100] Loss_D: 0.2661, Loss_G: 4.0353\n",
            "[Epoch 76/100] Loss_D: 0.2577, Loss_G: 4.0677\n",
            "[Epoch 77/100] Loss_D: 0.2173, Loss_G: 4.0896\n",
            "[Epoch 78/100] Loss_D: 0.3012, Loss_G: 4.0309\n",
            "[Epoch 79/100] Loss_D: 0.1896, Loss_G: 4.5005\n",
            "[Epoch 80/100] Loss_D: 0.2499, Loss_G: 4.3181\n",
            "[Epoch 81/100] Loss_D: 0.2745, Loss_G: 4.2922\n",
            "[Epoch 82/100] Loss_D: 0.2361, Loss_G: 4.2281\n",
            "[Epoch 83/100] Loss_D: 0.2286, Loss_G: 4.3980\n",
            "[Epoch 84/100] Loss_D: 0.2311, Loss_G: 4.4537\n",
            "[Epoch 85/100] Loss_D: 0.2529, Loss_G: 4.6459\n",
            "[Epoch 86/100] Loss_D: 0.2371, Loss_G: 4.2485\n",
            "[Epoch 87/100] Loss_D: 0.2588, Loss_G: 4.2041\n",
            "[Epoch 88/100] Loss_D: 0.2083, Loss_G: 4.4970\n",
            "[Epoch 89/100] Loss_D: 0.2239, Loss_G: 4.4808\n",
            "[Epoch 90/100] Loss_D: 0.2637, Loss_G: 4.2784\n",
            "[Epoch 91/100] Loss_D: 0.1807, Loss_G: 4.5332\n",
            "[Epoch 92/100] Loss_D: 0.2038, Loss_G: 4.5421\n",
            "[Epoch 93/100] Loss_D: 0.2630, Loss_G: 4.5397\n",
            "[Epoch 94/100] Loss_D: 0.1914, Loss_G: 4.3228\n",
            "[Epoch 95/100] Loss_D: 0.2085, Loss_G: 4.3878\n",
            "[Epoch 96/100] Loss_D: 0.2010, Loss_G: 4.8558\n",
            "[Epoch 97/100] Loss_D: 0.1910, Loss_G: 4.8011\n",
            "[Epoch 98/100] Loss_D: 0.1632, Loss_G: 4.7605\n",
            "[Epoch 99/100] Loss_D: 0.2181, Loss_G: 4.7873\n",
            "[Epoch 100/100] Loss_D: 0.1807, Loss_G: 4.6416\n",
            "Training completed in 140 min 31 sec.\n"
          ]
        }
      ]
    },
    {
      "cell_type": "code",
      "source": [
        "# Plot and save loss curve\n",
        "metrics_path = os.path.join(exp_path, \"metrics\", \"losses.csv\")\n",
        "loss_D_log = []\n",
        "loss_G_log = []\n",
        "\n",
        "# Load logs\n",
        "if os.path.exists(metrics_path):\n",
        "    import pandas as pd\n",
        "    df = pd.read_csv(metrics_path)\n",
        "    loss_D_log = list(df[\"loss_D\"])\n",
        "    loss_G_log = list(df[\"loss_G\"])\n",
        "    print(f\"Loaded loss logs for {len(loss_D_log)} epochs from {metrics_path}\")\n",
        "else:\n",
        "    print(f\"No previous loss logs found. Starting fresh.\")\n",
        "\n",
        "# Plotting raw curves\n",
        "epochs = list(range(1, len(loss_D_log) + 1))\n",
        "plt.figure(figsize=(10, 5))\n",
        "plt.plot(epochs, loss_D_log, label=\"Discriminator Loss\")\n",
        "plt.plot(epochs, loss_G_log, label=\"Generator Loss\")\n",
        "plt.xlabel(\"Epoch\", fontsize=12)\n",
        "plt.ylabel(\"Loss\", fontsize=12)\n",
        "plt.title(f\"Training Loss Curve ({experiment_id})\")\n",
        "plt.legend()\n",
        "plt.grid(True)\n",
        "plt.ylim(0, 7)\n",
        "plt.tight_layout()\n",
        "\n",
        "plot_path = os.path.join(exp_path, \"metrics\", \"loss_curve.png\")\n",
        "plt.savefig(plot_path)\n",
        "plt.close()\n",
        "print(f\"Loss curve saved: {plot_path}\")"
      ],
      "metadata": {
        "colab": {
          "base_uri": "https://localhost:8080/"
        },
        "id": "gXic-yP4rXiQ",
        "outputId": "197d9056-d3f4-4165-e696-0f20fbb95cb5"
      },
      "execution_count": null,
      "outputs": [
        {
          "output_type": "stream",
          "name": "stdout",
          "text": [
            "Loaded loss logs for 100 epochs from /content/drive/MyDrive/GAN_Research/E3_L1_DiscIn/metrics/losses.csv\n",
            "Loss curve saved: /content/drive/MyDrive/GAN_Research/E3_L1_DiscIn/metrics/loss_curve.png\n"
          ]
        }
      ]
    },
    {
      "cell_type": "code",
      "source": [
        "# Evaluation: Save images, calculate FID & Inception Score\n",
        "eval_batch_size = 128\n",
        "num_eval_images = config[\"fid_samples\"]\n",
        "eval_image_size = config[\"image_size\"]\n",
        "real_dir = os.path.join(exp_path, \"eval_data\", \"real\")\n",
        "fake_dir = os.path.join(exp_path, \"eval_data\", \"fake\")\n",
        "\n",
        "# Clean eval_data folders\n",
        "for dir_ in [real_dir, fake_dir]:\n",
        "    for f in os.listdir(dir_):\n",
        "        os.remove(os.path.join(dir_, f))\n",
        "\n",
        "# Save real images\n",
        "def save_real_images():\n",
        "    transform_eval = transforms.Compose([\n",
        "        transforms.Resize(eval_image_size),\n",
        "        transforms.CenterCrop(eval_image_size),\n",
        "        transforms.ToTensor(),\n",
        "        transforms.Normalize((0.5,)*3, (0.5,)*3)\n",
        "    ])\n",
        "    eval_dataset = datasets.CIFAR10(root=\"./data\", train=True, download=True, transform=transform_eval)\n",
        "    eval_loader = DataLoader(eval_dataset, batch_size=eval_batch_size, shuffle=False)\n",
        "    i = 0\n",
        "    for imgs, _ in eval_loader:\n",
        "        for img in imgs:\n",
        "            save_image(img, f\"{real_dir}/{i}.png\", normalize=True)\n",
        "            i += 1\n",
        "            if i >= num_eval_images:\n",
        "                return\n",
        "\n",
        "# Save fake images\n",
        "def save_fake_images(generator):\n",
        "    generator.eval()\n",
        "    i = 0\n",
        "    with torch.no_grad():\n",
        "        for _ in tqdm(range(0, num_eval_images, eval_batch_size), desc=\"Generating fake\"):\n",
        "            curr_batch = min(eval_batch_size, num_eval_images - i)\n",
        "            noise = torch.randn(curr_batch, config[\"latent_dim\"], 1, 1, device=device)\n",
        "            fake_imgs = generator(noise).cpu()\n",
        "            for img in fake_imgs:\n",
        "                save_image(img, f\"{fake_dir}/{i}.png\", normalize=True)\n",
        "                i += 1\n",
        "                if i >= num_eval_images:\n",
        "                    return\n",
        "\n",
        "save_real_images()\n",
        "save_fake_images(G)\n",
        "\n",
        "# FID calculation\n",
        "metrics = calculate_metrics(\n",
        "    input1=real_dir,\n",
        "    input2=fake_dir,\n",
        "    cuda=torch.cuda.is_available(),\n",
        "    isc=False,\n",
        "    fid=True,\n",
        "    kid=False,\n",
        "    verbose=False\n",
        ")\n",
        "fid = metrics['frechet_inception_distance']\n",
        "\n",
        "# Inception Score\n",
        "class PNGImageFolder(torch.utils.data.Dataset):\n",
        "    def __init__(self, folder, transform=None):\n",
        "        self.paths = [os.path.join(folder, f) for f in sorted(os.listdir(folder)) if f.endswith('.png')]\n",
        "        self.transform = transform\n",
        "    def __len__(self): return len(self.paths)\n",
        "    def __getitem__(self, idx):\n",
        "        img = Image.open(self.paths[idx]).convert(\"RGB\")\n",
        "        if self.transform: img = self.transform(img)\n",
        "        return img\n",
        "\n",
        "def compute_inception_score(image_folder, splits=10):\n",
        "    transform = transforms.Compose([\n",
        "        transforms.Resize((299, 299)),\n",
        "        transforms.ToTensor()\n",
        "    ])\n",
        "    dataset = PNGImageFolder(image_folder, transform)\n",
        "    loader = DataLoader(dataset, batch_size=64, shuffle=False)\n",
        "    model = inception_v3(pretrained=True, transform_input=False).to(device)\n",
        "    model.eval()\n",
        "    preds = []\n",
        "    for imgs in loader:\n",
        "        imgs = imgs.to(device)\n",
        "        with torch.no_grad():\n",
        "            pred = model(imgs)\n",
        "            pred = F.softmax(pred, dim=1).cpu().numpy()\n",
        "        preds.append(pred)\n",
        "    preds = np.concatenate(preds, axis=0)\n",
        "    split_scores = []\n",
        "    for k in range(splits):\n",
        "        part = preds[k * (len(preds)//splits): (k+1)*(len(preds)//splits)]\n",
        "        py = np.mean(part, axis=0)\n",
        "        scores = [entropy(p, py) for p in part]\n",
        "        split_scores.append(np.exp(np.mean(scores)))\n",
        "    return float(np.mean(split_scores)), float(np.std(split_scores))\n",
        "\n",
        "mean_is, std_is = compute_inception_score(fake_dir)\n",
        "\n",
        "with open(os.path.join(exp_path, \"metrics\", \"eval_metrics.txt\"), \"w\") as f:\n",
        "    f.write(f\"FID: {fid:.4f}\\n\")\n",
        "    f.write(f\"Inception Score: {mean_is:.4f} ± {std_is:.4f}\\n\")\n",
        "\n",
        "print(f\"\\nFID: {fid:.4f}\")\n",
        "print(f\"Inception Score: {mean_is:.4f} ± {std_is:.4f}\")"
      ],
      "metadata": {
        "colab": {
          "base_uri": "https://localhost:8080/"
        },
        "id": "N3GyVW0-rXk1",
        "outputId": "05f0be12-3348-47d8-ace3-0c16272cfa97"
      },
      "execution_count": null,
      "outputs": [
        {
          "output_type": "stream",
          "name": "stderr",
          "text": [
            "Generating fake:  99%|█████████▊| 78/79 [00:52<00:00,  1.48it/s]\n",
            "/usr/local/lib/python3.11/dist-packages/torchvision/models/_utils.py:208: UserWarning: The parameter 'pretrained' is deprecated since 0.13 and may be removed in the future, please use 'weights' instead.\n",
            "  warnings.warn(\n",
            "/usr/local/lib/python3.11/dist-packages/torchvision/models/_utils.py:223: UserWarning: Arguments other than a weight enum or `None` for 'weights' are deprecated since 0.13 and may be removed in the future. The current behavior is equivalent to passing `weights=Inception_V3_Weights.IMAGENET1K_V1`. You can also use `weights=Inception_V3_Weights.DEFAULT` to get the most up-to-date weights.\n",
            "  warnings.warn(msg)\n"
          ]
        },
        {
          "output_type": "stream",
          "name": "stdout",
          "text": [
            "\n",
            "FID: 50.9267\n",
            "Inception Score: 3.3823 ± 0.0799\n"
          ]
        }
      ]
    },
    {
      "cell_type": "markdown",
      "source": [
        "### E3_L2_DiscIn"
      ],
      "metadata": {
        "id": "ECqNlSxYtMFo"
      }
    },
    {
      "cell_type": "code",
      "source": [
        "# E3_L2_DiscIn: L2 Regularization on Discriminator Input\n",
        "\n",
        "# Experiment Configuration\n",
        "experiment_id = \"E3_L2_DiscIn\"\n",
        "\n",
        "config = config.copy()\n",
        "config.update({\n",
        "    \"experiment_id\": experiment_id,\n",
        "    \"regularization_type\": \"L2\",\n",
        "    \"regularization_lambda_L1\": 0.0,\n",
        "    \"regularization_lambda_L2\": 0.001,\n",
        "    \"regularization_placement\": \"discriminator_input\"\n",
        "})"
      ],
      "metadata": {
        "id": "aRYydbxBrXnj"
      },
      "execution_count": null,
      "outputs": []
    },
    {
      "cell_type": "code",
      "source": [
        "# Prepare experiment folders\n",
        "exp_path = os.path.join(ROOT_DIR, experiment_id)\n",
        "for subfolder in [\"images\", \"metrics\", \"eval_data/real\", \"eval_data/fake\"]:\n",
        "    os.makedirs(os.path.join(exp_path, subfolder), exist_ok=True)"
      ],
      "metadata": {
        "id": "Cwm3YFLVrXpy"
      },
      "execution_count": null,
      "outputs": []
    },
    {
      "cell_type": "code",
      "source": [
        "# Save config\n",
        "config_path = os.path.join(exp_path, \"config_manual.txt\")\n",
        "with open(config_path, \"w\") as f:\n",
        "    for k, v in config.items():\n",
        "        f.write(f\"{k}: {v}\\n\")\n",
        "print(f\"Configuration saved: {config_path}\")"
      ],
      "metadata": {
        "colab": {
          "base_uri": "https://localhost:8080/"
        },
        "id": "8Fsxi0u5re4u",
        "outputId": "9c8efdd9-6671-47ef-f6c6-178a7db142fa"
      },
      "execution_count": null,
      "outputs": [
        {
          "output_type": "stream",
          "name": "stdout",
          "text": [
            "Configuration saved: /content/drive/MyDrive/GAN_Research/E3_L2_DiscIn/config_manual.txt\n"
          ]
        }
      ]
    },
    {
      "cell_type": "code",
      "source": [
        "# Prepare fixed noise\n",
        "num_fixed_samples = 64\n",
        "latent_dim = config[\"latent_dim\"]\n",
        "device = torch.device(config[\"device\"])\n",
        "fixed_noise = torch.randn(num_fixed_samples, latent_dim, 1, 1, device=device)\n",
        "torch.save(fixed_noise, os.path.join(exp_path, \"fixed_noise.pt\"))"
      ],
      "metadata": {
        "id": "wCEujUCjrfAv"
      },
      "execution_count": null,
      "outputs": []
    },
    {
      "cell_type": "code",
      "source": [
        "# Initialize models\n",
        "G = Generator(latent_dim=config[\"latent_dim\"]).to(device)\n",
        "D = Discriminator().to(device)\n",
        "G.apply(weights_init)\n",
        "D.apply(weights_init)\n",
        "print(\"Generator and Discriminator initialized for E3_L2_DiscIn\")"
      ],
      "metadata": {
        "colab": {
          "base_uri": "https://localhost:8080/"
        },
        "id": "YowFqIDjrfBp",
        "outputId": "96074169-abfc-461f-f7d0-fb7a389d8729"
      },
      "execution_count": null,
      "outputs": [
        {
          "output_type": "stream",
          "name": "stdout",
          "text": [
            "Generator and Discriminator initialized for E3_L2_DiscIn\n"
          ]
        }
      ]
    },
    {
      "cell_type": "code",
      "source": [
        "# Define loss and optimizers\n",
        "criterion = nn.BCELoss()\n",
        "optimizer_G = optim.Adam(G.parameters(), lr=config[\"learning_rate\"], betas=(config[\"beta1\"], 0.999))\n",
        "optimizer_D = optim.Adam(D.parameters(), lr=config[\"learning_rate\"], betas=(config[\"beta1\"], 0.999))"
      ],
      "metadata": {
        "id": "FQwUbsNVtV3H"
      },
      "execution_count": null,
      "outputs": []
    },
    {
      "cell_type": "code",
      "source": [
        "# Checkpointing\n",
        "checkpoint_path = os.path.join(exp_path, \"checkpoint.pt\")\n",
        "start_epoch = 1\n",
        "if os.path.exists(checkpoint_path):\n",
        "    checkpoint = torch.load(checkpoint_path, map_location=device)\n",
        "    G.load_state_dict(checkpoint[\"G_state_dict\"])\n",
        "    D.load_state_dict(checkpoint[\"D_state_dict\"])\n",
        "    optimizer_G.load_state_dict(checkpoint[\"optimizer_G\"])\n",
        "    optimizer_D.load_state_dict(checkpoint[\"optimizer_D\"])\n",
        "    start_epoch = checkpoint[\"epoch\"] + 1\n",
        "    print(f\"Resumed from checkpoint epoch {checkpoint['epoch']}\")\n",
        "else:\n",
        "    print(\"Starting from scratch.\")"
      ],
      "metadata": {
        "colab": {
          "base_uri": "https://localhost:8080/"
        },
        "id": "PWkVTX2PtV5r",
        "outputId": "6aca537f-0e04-463b-a6e4-e99a65ca3aa0"
      },
      "execution_count": null,
      "outputs": [
        {
          "output_type": "stream",
          "name": "stdout",
          "text": [
            "Starting from scratch.\n"
          ]
        }
      ]
    },
    {
      "cell_type": "code",
      "source": [
        "# Training Loop\n",
        "metrics_path = os.path.join(exp_path, \"metrics\", \"losses.csv\")\n",
        "loss_D_log = []\n",
        "loss_G_log = []\n",
        "\n",
        "# Load previous loss logs (for continuation in Colab runtime)\n",
        "if os.path.exists(metrics_path):\n",
        "    df_prev = pd.read_csv(metrics_path)\n",
        "    loss_D_log = list(df_prev[\"loss_D\"])\n",
        "    loss_G_log = list(df_prev[\"loss_G\"])\n",
        "    print(f\"Loaded previous loss logs for {len(loss_D_log)} epochs.\")\n",
        "else:\n",
        "    print(\"No previous loss logs found. Starting fresh.\")\n",
        "\n",
        "training_start_time = time.time\n",
        "\n",
        "for epoch in range(start_epoch, config[\"num_epochs\"] + 1):\n",
        "    loss_D_epoch = 0.0\n",
        "    loss_G_epoch = 0.0\n",
        "\n",
        "    for real_imgs, _ in dataloader:\n",
        "        real_imgs = real_imgs.to(device)\n",
        "        batch_size = real_imgs.size(0)\n",
        "\n",
        "        # Train Discriminator\n",
        "        optimizer_D.zero_grad()\n",
        "        real_labels = torch.ones(batch_size, device=device)\n",
        "        fake_labels = torch.zeros(batch_size, device=device)\n",
        "\n",
        "        output_real = D(real_imgs).view(-1)\n",
        "        loss_real = criterion(output_real, real_labels)\n",
        "\n",
        "        noise = torch.randn(batch_size, config[\"latent_dim\"], 1, 1, device=device)\n",
        "        fake_imgs = G(noise).detach()\n",
        "        output_fake = D(fake_imgs).view(-1)\n",
        "        loss_fake = criterion(output_fake, fake_labels)\n",
        "\n",
        "        loss_D = loss_real + loss_fake\n",
        "\n",
        "        # L2 Regularization on Discriminator Input\n",
        "        # Penalize squared pixel values of fake images before they are fed to D\n",
        "        if config[\"regularization_type\"] == \"L2\" and config[\"regularization_placement\"] == \"discriminator_input\":\n",
        "            l2_fake = torch.mean(fake_imgs ** 2)\n",
        "            reg_term = config[\"regularization_lambda_L2\"] * l2_fake\n",
        "            loss_D += reg_term\n",
        "\n",
        "        loss_D.backward()\n",
        "        optimizer_D.step()\n",
        "\n",
        "        # Train Generator\n",
        "        optimizer_G.zero_grad()\n",
        "        noise = torch.randn(batch_size, config[\"latent_dim\"], 1, 1, device=device)\n",
        "        fake_imgs = G(noise)\n",
        "        output = D(fake_imgs).view(-1)\n",
        "        loss_G = criterion(output, real_labels)\n",
        "        loss_G.backward()\n",
        "        optimizer_G.step()\n",
        "\n",
        "        loss_D_epoch += loss_D.item()\n",
        "        loss_G_epoch += loss_G.item()\n",
        "\n",
        "    # Logging losses\n",
        "    avg_D = loss_D_epoch / len(dataloader)\n",
        "    avg_G = loss_G_epoch / len(dataloader)\n",
        "    loss_D_log.append(avg_D)\n",
        "    loss_G_log.append(avg_G)\n",
        "    print(f\"[Epoch {epoch}/{config['num_epochs']}] Loss_D: {avg_D:.4f}, Loss_G: {avg_G:.4f}\")\n",
        "\n",
        "    # Save sample images\n",
        "    if epoch % config[\"save_images_every\"] == 0 or epoch == 1:\n",
        "        with torch.no_grad():\n",
        "            fake_imgs = G(fixed_noise).detach().cpu()\n",
        "            img_path = os.path.join(exp_path, \"images\", f\"epoch_{epoch:03}.png\")\n",
        "            vutils.save_image(fake_imgs, img_path, normalize=True, nrow=8)\n",
        "\n",
        "    # Save checkpoint\n",
        "    if epoch % 10 == 0 or epoch == config[\"num_epochs\"]:\n",
        "        torch.save({\n",
        "            \"epoch\": epoch,\n",
        "            \"G_state_dict\": G.state_dict(),\n",
        "            \"D_state_dict\": D.state_dict(),\n",
        "            \"optimizer_G\": optimizer_G.state_dict(),\n",
        "            \"optimizer_D\": optimizer_D.state_dict(),\n",
        "        }, checkpoint_path)\n",
        "\n",
        "    # Save running loss log\n",
        "    metrics_path = os.path.join(exp_path, \"metrics\", \"losses.csv\")\n",
        "    with open(metrics_path, \"w\") as f:\n",
        "        f.write(\"epoch,loss_D,loss_G\\n\")\n",
        "        for i in range(len(loss_D_log)):\n",
        "            f.write(f\"{i+1},{loss_D_log[i]},{loss_G_log[i]}\\n\")\n",
        "\n",
        "# Save training time\n",
        "total_sec = time.time() - training_start_time\n",
        "mins, secs = int(total_sec // 60), int(total_sec % 60)\n",
        "with open(os.path.join(exp_path, \"training_time.txt\"), \"w\") as f:\n",
        "    f.write(f\"Total training time: {mins} min {secs} sec\\n\")\n",
        "print(f\"Training completed in {mins} min {secs} sec.\")"
      ],
      "metadata": {
        "colab": {
          "base_uri": "https://localhost:8080/"
        },
        "id": "jCuH8Oa7tV8L",
        "outputId": "747ada7a-a3c7-4d5e-ad41-75b0520886b1"
      },
      "execution_count": null,
      "outputs": [
        {
          "output_type": "stream",
          "name": "stdout",
          "text": [
            "[Epoch 1/100] Loss_D: 0.7043, Loss_G: 2.2199\n",
            "[Epoch 2/100] Loss_D: 0.9207, Loss_G: 2.3024\n",
            "[Epoch 3/100] Loss_D: 1.0192, Loss_G: 1.9114\n",
            "[Epoch 4/100] Loss_D: 1.0842, Loss_G: 1.7879\n",
            "[Epoch 5/100] Loss_D: 1.1633, Loss_G: 1.4726\n",
            "[Epoch 6/100] Loss_D: 1.1561, Loss_G: 1.3987\n",
            "[Epoch 7/100] Loss_D: 1.0906, Loss_G: 1.5176\n",
            "[Epoch 8/100] Loss_D: 1.0427, Loss_G: 1.6291\n",
            "[Epoch 9/100] Loss_D: 0.9841, Loss_G: 1.7477\n",
            "[Epoch 10/100] Loss_D: 1.0022, Loss_G: 1.7641\n",
            "[Epoch 11/100] Loss_D: 1.0381, Loss_G: 1.6289\n",
            "[Epoch 12/100] Loss_D: 1.0274, Loss_G: 1.6247\n",
            "[Epoch 13/100] Loss_D: 0.9812, Loss_G: 1.6530\n",
            "[Epoch 14/100] Loss_D: 0.9750, Loss_G: 1.7393\n",
            "[Epoch 15/100] Loss_D: 0.9458, Loss_G: 1.7311\n",
            "[Epoch 16/100] Loss_D: 0.9495, Loss_G: 1.7305\n",
            "[Epoch 17/100] Loss_D: 0.9340, Loss_G: 1.7635\n",
            "[Epoch 18/100] Loss_D: 0.9174, Loss_G: 1.8025\n",
            "[Epoch 19/100] Loss_D: 0.8906, Loss_G: 1.8438\n",
            "[Epoch 20/100] Loss_D: 0.8679, Loss_G: 1.9059\n",
            "[Epoch 21/100] Loss_D: 0.8450, Loss_G: 1.9522\n",
            "[Epoch 22/100] Loss_D: 0.8115, Loss_G: 1.9947\n",
            "[Epoch 23/100] Loss_D: 0.7904, Loss_G: 2.0094\n",
            "[Epoch 24/100] Loss_D: 0.7495, Loss_G: 2.0544\n",
            "[Epoch 25/100] Loss_D: 0.7711, Loss_G: 2.0696\n",
            "[Epoch 26/100] Loss_D: 0.7314, Loss_G: 2.1487\n",
            "[Epoch 27/100] Loss_D: 0.6926, Loss_G: 2.2168\n",
            "[Epoch 28/100] Loss_D: 0.6855, Loss_G: 2.2581\n",
            "[Epoch 29/100] Loss_D: 0.6677, Loss_G: 2.3803\n",
            "[Epoch 30/100] Loss_D: 0.6345, Loss_G: 2.3999\n",
            "[Epoch 31/100] Loss_D: 0.6352, Loss_G: 2.4543\n",
            "[Epoch 32/100] Loss_D: 0.5942, Loss_G: 2.5098\n",
            "[Epoch 33/100] Loss_D: 0.5629, Loss_G: 2.5347\n",
            "[Epoch 34/100] Loss_D: 0.5747, Loss_G: 2.6124\n",
            "[Epoch 35/100] Loss_D: 0.5560, Loss_G: 2.6929\n",
            "[Epoch 36/100] Loss_D: 0.5445, Loss_G: 2.5909\n",
            "[Epoch 37/100] Loss_D: 0.5075, Loss_G: 2.8525\n",
            "[Epoch 38/100] Loss_D: 0.5467, Loss_G: 2.8440\n",
            "[Epoch 39/100] Loss_D: 0.5038, Loss_G: 2.8142\n",
            "[Epoch 40/100] Loss_D: 0.4548, Loss_G: 2.9879\n",
            "[Epoch 41/100] Loss_D: 0.5055, Loss_G: 2.9609\n",
            "[Epoch 42/100] Loss_D: 0.4679, Loss_G: 2.9953\n",
            "[Epoch 43/100] Loss_D: 0.4344, Loss_G: 3.1932\n",
            "[Epoch 44/100] Loss_D: 0.4441, Loss_G: 3.1081\n",
            "[Epoch 45/100] Loss_D: 0.4290, Loss_G: 3.1438\n",
            "[Epoch 46/100] Loss_D: 0.4445, Loss_G: 3.2211\n",
            "[Epoch 47/100] Loss_D: 0.4174, Loss_G: 3.1939\n",
            "[Epoch 48/100] Loss_D: 0.4329, Loss_G: 3.3032\n",
            "[Epoch 49/100] Loss_D: 0.3934, Loss_G: 3.2742\n",
            "[Epoch 50/100] Loss_D: 0.3962, Loss_G: 3.3965\n",
            "[Epoch 51/100] Loss_D: 0.3693, Loss_G: 3.3763\n",
            "[Epoch 52/100] Loss_D: 0.4061, Loss_G: 3.4043\n",
            "[Epoch 53/100] Loss_D: 0.3759, Loss_G: 3.4748\n",
            "[Epoch 54/100] Loss_D: 0.3889, Loss_G: 3.5205\n",
            "[Epoch 55/100] Loss_D: 0.3547, Loss_G: 3.5738\n",
            "[Epoch 56/100] Loss_D: 0.3667, Loss_G: 3.5487\n",
            "[Epoch 57/100] Loss_D: 0.3259, Loss_G: 3.6709\n",
            "[Epoch 58/100] Loss_D: 0.3250, Loss_G: 3.5655\n",
            "[Epoch 59/100] Loss_D: 0.3627, Loss_G: 3.6813\n",
            "[Epoch 60/100] Loss_D: 0.3695, Loss_G: 3.6067\n",
            "[Epoch 61/100] Loss_D: 0.3177, Loss_G: 3.6172\n",
            "[Epoch 62/100] Loss_D: 0.3426, Loss_G: 3.8781\n",
            "[Epoch 63/100] Loss_D: 0.3253, Loss_G: 3.7023\n",
            "[Epoch 64/100] Loss_D: 0.3026, Loss_G: 3.9165\n",
            "[Epoch 65/100] Loss_D: 0.3013, Loss_G: 3.8538\n",
            "[Epoch 66/100] Loss_D: 0.2673, Loss_G: 3.8967\n",
            "[Epoch 67/100] Loss_D: 0.3207, Loss_G: 3.8668\n",
            "[Epoch 68/100] Loss_D: 0.3299, Loss_G: 3.9008\n",
            "[Epoch 69/100] Loss_D: 0.2863, Loss_G: 4.0286\n",
            "[Epoch 70/100] Loss_D: 0.2773, Loss_G: 3.9536\n",
            "[Epoch 71/100] Loss_D: 0.3052, Loss_G: 3.9774\n",
            "[Epoch 72/100] Loss_D: 0.2801, Loss_G: 3.8807\n",
            "[Epoch 73/100] Loss_D: 0.3161, Loss_G: 4.0219\n",
            "[Epoch 74/100] Loss_D: 0.2569, Loss_G: 4.0191\n",
            "[Epoch 75/100] Loss_D: 0.2435, Loss_G: 4.1686\n",
            "[Epoch 76/100] Loss_D: 0.2814, Loss_G: 4.3051\n",
            "[Epoch 77/100] Loss_D: 0.2687, Loss_G: 4.3074\n",
            "[Epoch 78/100] Loss_D: 0.2100, Loss_G: 4.2150\n",
            "[Epoch 79/100] Loss_D: 0.2832, Loss_G: 4.2651\n",
            "[Epoch 80/100] Loss_D: 0.2751, Loss_G: 4.0083\n",
            "[Epoch 81/100] Loss_D: 0.2786, Loss_G: 4.3236\n",
            "[Epoch 82/100] Loss_D: 0.2372, Loss_G: 4.2142\n",
            "[Epoch 83/100] Loss_D: 0.2925, Loss_G: 4.3756\n",
            "[Epoch 84/100] Loss_D: 0.2088, Loss_G: 4.0346\n",
            "[Epoch 85/100] Loss_D: 0.2234, Loss_G: 4.4065\n",
            "[Epoch 86/100] Loss_D: 0.2548, Loss_G: 4.3055\n",
            "[Epoch 87/100] Loss_D: 0.2229, Loss_G: 4.5066\n",
            "[Epoch 88/100] Loss_D: 0.2386, Loss_G: 4.5525\n",
            "[Epoch 89/100] Loss_D: 0.2339, Loss_G: 4.4076\n",
            "[Epoch 90/100] Loss_D: 0.2387, Loss_G: 4.7178\n",
            "[Epoch 91/100] Loss_D: 0.2129, Loss_G: 4.5237\n",
            "[Epoch 92/100] Loss_D: 0.2086, Loss_G: 4.5561\n",
            "[Epoch 93/100] Loss_D: 0.2204, Loss_G: 4.4632\n",
            "[Epoch 94/100] Loss_D: 0.2313, Loss_G: 4.6714\n",
            "[Epoch 95/100] Loss_D: 0.2329, Loss_G: 4.6552\n",
            "[Epoch 96/100] Loss_D: 0.1883, Loss_G: 4.6665\n",
            "[Epoch 97/100] Loss_D: 0.1647, Loss_G: 4.7088\n",
            "[Epoch 98/100] Loss_D: 0.2474, Loss_G: 4.9029\n",
            "[Epoch 99/100] Loss_D: 0.2663, Loss_G: 4.6834\n",
            "[Epoch 100/100] Loss_D: 0.1540, Loss_G: 4.7457\n",
            "Training completed in 137 min 14 sec.\n"
          ]
        }
      ]
    },
    {
      "cell_type": "code",
      "source": [
        "# Plot and save loss curve\n",
        "metrics_path = os.path.join(exp_path, \"metrics\", \"losses.csv\")\n",
        "loss_D_log = []\n",
        "loss_G_log = []\n",
        "\n",
        "# Load logs\n",
        "if os.path.exists(metrics_path):\n",
        "    import pandas as pd\n",
        "    df = pd.read_csv(metrics_path)\n",
        "    loss_D_log = list(df[\"loss_D\"])\n",
        "    loss_G_log = list(df[\"loss_G\"])\n",
        "    print(f\"Loaded loss logs for {len(loss_D_log)} epochs from {metrics_path}\")\n",
        "else:\n",
        "    print(f\"No previous loss logs found. Starting fresh.\")\n",
        "\n",
        "epochs = list(range(1, len(loss_D_log) + 1))\n",
        "plt.figure(figsize=(10, 5))\n",
        "plt.plot(epochs, loss_D_log, label=\"Discriminator Loss\")\n",
        "plt.plot(epochs, loss_G_log, label=\"Generator Loss\")\n",
        "plt.xlabel(\"Epoch\", fontsize=12)\n",
        "plt.ylabel(\"Loss\", fontsize=12)\n",
        "plt.title(f\"Training Loss Curve ({experiment_id})\")\n",
        "plt.legend()\n",
        "plt.grid(True)\n",
        "plt.ylim(0, 7)\n",
        "plt.tight_layout()\n",
        "\n",
        "plot_path = os.path.join(exp_path, \"metrics\", \"loss_curve.png\")\n",
        "plt.savefig(plot_path)\n",
        "plt.close()\n",
        "print(f\"Loss curve saved: {plot_path}\")"
      ],
      "metadata": {
        "colab": {
          "base_uri": "https://localhost:8080/"
        },
        "id": "7xl7MHg1tV-g",
        "outputId": "010f93c5-5172-4d50-c20b-3bd27aaba02d"
      },
      "execution_count": null,
      "outputs": [
        {
          "output_type": "stream",
          "name": "stdout",
          "text": [
            "Loaded loss logs for 100 epochs from /content/drive/MyDrive/GAN_Research/E3_L2_DiscIn/metrics/losses.csv\n",
            "Loss curve saved: /content/drive/MyDrive/GAN_Research/E3_L2_DiscIn/metrics/loss_curve.png\n"
          ]
        }
      ]
    },
    {
      "cell_type": "code",
      "source": [
        "# Evaluation: Save images, calculate FID & Inception Score\n",
        "eval_batch_size = 128\n",
        "num_eval_images = config[\"fid_samples\"]\n",
        "eval_image_size = config[\"image_size\"]\n",
        "real_dir = os.path.join(exp_path, \"eval_data\", \"real\")\n",
        "fake_dir = os.path.join(exp_path, \"eval_data\", \"fake\")\n",
        "\n",
        "# Clean eval_data folders\n",
        "for dir_ in [real_dir, fake_dir]:\n",
        "    for f in os.listdir(dir_):\n",
        "        os.remove(os.path.join(dir_, f))\n",
        "\n",
        "# Save real images\n",
        "def save_real_images():\n",
        "    transform_eval = transforms.Compose([\n",
        "        transforms.Resize(eval_image_size),\n",
        "        transforms.CenterCrop(eval_image_size),\n",
        "        transforms.ToTensor(),\n",
        "        transforms.Normalize((0.5,) * 3, (0.5,) * 3)\n",
        "    ])\n",
        "    eval_dataset = datasets.CIFAR10(root=\"./data\", train=True, download=True, transform=transform_eval)\n",
        "    eval_loader = DataLoader(eval_dataset, batch_size=eval_batch_size, shuffle=False)\n",
        "    i = 0\n",
        "    for imgs, _ in eval_loader:\n",
        "        for img in imgs:\n",
        "            save_image(img, f\"{real_dir}/{i}.png\", normalize=True)\n",
        "            i += 1\n",
        "            if i >= num_eval_images:\n",
        "                return\n",
        "\n",
        "# Save fake images\n",
        "def save_fake_images(generator):\n",
        "    generator.eval()\n",
        "    i = 0\n",
        "    with torch.no_grad():\n",
        "        for _ in tqdm(range(0, num_eval_images, eval_batch_size), desc=\"Generating fake\"):\n",
        "            curr_batch = min(eval_batch_size, num_eval_images - i)\n",
        "            noise = torch.randn(curr_batch, config[\"latent_dim\"], 1, 1, device=device)\n",
        "            fake_imgs = generator(noise).cpu()\n",
        "            for img in fake_imgs:\n",
        "                save_image(img, f\"{fake_dir}/{i}.png\", normalize=True)\n",
        "                i += 1\n",
        "                if i >= num_eval_images:\n",
        "                    return\n",
        "\n",
        "save_real_images()\n",
        "save_fake_images(G)\n",
        "\n",
        "# FID calculation\n",
        "metrics = calculate_metrics(\n",
        "    input1=real_dir,\n",
        "    input2=fake_dir,\n",
        "    cuda=torch.cuda.is_available(),\n",
        "    isc=False,\n",
        "    fid=True,\n",
        "    kid=False,\n",
        "    verbose=False\n",
        ")\n",
        "fid = metrics[\"frechet_inception_distance\"]\n",
        "\n",
        "# Inception Score\n",
        "class PNGImageFolder(torch.utils.data.Dataset):\n",
        "    def __init__(self, folder, transform=None):\n",
        "        self.paths = [os.path.join(folder, f) for f in sorted(os.listdir(folder)) if f.endswith('.png')]\n",
        "        self.transform = transform\n",
        "    def __len__(self): return len(self.paths)\n",
        "    def __getitem__(self, idx):\n",
        "        img = Image.open(self.paths[idx]).convert(\"RGB\")\n",
        "        if self.transform: img = self.transform(img)\n",
        "        return img\n",
        "\n",
        "def compute_inception_score(image_folder, splits=10):\n",
        "    transform = transforms.Compose([\n",
        "        transforms.Resize((299, 299)),\n",
        "        transforms.ToTensor()\n",
        "    ])\n",
        "    dataset = PNGImageFolder(image_folder, transform)\n",
        "    loader = DataLoader(dataset, batch_size=64, shuffle=False)\n",
        "    model = inception_v3(pretrained=True, transform_input=False).to(device)\n",
        "    model.eval()\n",
        "    preds = []\n",
        "    for imgs in loader:\n",
        "        imgs = imgs.to(device)\n",
        "        with torch.no_grad():\n",
        "            pred = model(imgs)\n",
        "            pred = F.softmax(pred, dim=1).cpu().numpy()\n",
        "        preds.append(pred)\n",
        "    preds = np.concatenate(preds, axis=0)\n",
        "    split_scores = []\n",
        "    for k in range(splits):\n",
        "        part = preds[k * (len(preds)//splits): (k+1)*(len(preds)//splits)]\n",
        "        py = np.mean(part, axis=0)\n",
        "        scores = [entropy(p, py) for p in part]\n",
        "        split_scores.append(np.exp(np.mean(scores)))\n",
        "    return float(np.mean(split_scores)), float(np.std(split_scores))\n",
        "\n",
        "mean_is, std_is = compute_inception_score(fake_dir)\n",
        "\n",
        "with open(os.path.join(exp_path, \"metrics\", \"eval_metrics.txt\"), \"w\") as f:\n",
        "    f.write(f\"FID: {fid:.4f}\\n\")\n",
        "    f.write(f\"Inception Score: {mean_is:.4f} ± {std_is:.4f}\\n\")\n",
        "\n",
        "print(f\"\\nFID: {fid:.4f}\")\n",
        "print(f\"Inception Score: {mean_is:.4f} ± {std_is:.4f}\")"
      ],
      "metadata": {
        "colab": {
          "base_uri": "https://localhost:8080/"
        },
        "id": "mQAcSCTHtWBA",
        "outputId": "20eb2de9-714c-4d01-8d8b-a41a1a285803"
      },
      "execution_count": null,
      "outputs": [
        {
          "output_type": "stream",
          "name": "stderr",
          "text": [
            "Generating fake:  99%|█████████▊| 78/79 [01:05<00:00,  1.18it/s]\n",
            "Downloading: \"https://github.com/toshas/torch-fidelity/releases/download/v0.2.0/weights-inception-2015-12-05-6726825d.pth\" to /root/.cache/torch/hub/checkpoints/weights-inception-2015-12-05-6726825d.pth\n",
            "100%|██████████| 91.2M/91.2M [00:00<00:00, 186MB/s]\n",
            "/usr/local/lib/python3.11/dist-packages/torch_fidelity/datasets.py:16: UserWarning: TypedStorage is deprecated. It will be removed in the future and UntypedStorage will be the only storage class. This should only matter to you if you are using storages directly.  To access UntypedStorage directly, use tensor.untyped_storage() instead of tensor.storage()\n",
            "  img = torch.ByteTensor(torch.ByteStorage.from_buffer(img.tobytes())).view(height, width, 3)\n",
            "/usr/local/lib/python3.11/dist-packages/torchvision/models/_utils.py:208: UserWarning: The parameter 'pretrained' is deprecated since 0.13 and may be removed in the future, please use 'weights' instead.\n",
            "  warnings.warn(\n",
            "/usr/local/lib/python3.11/dist-packages/torchvision/models/_utils.py:223: UserWarning: Arguments other than a weight enum or `None` for 'weights' are deprecated since 0.13 and may be removed in the future. The current behavior is equivalent to passing `weights=Inception_V3_Weights.IMAGENET1K_V1`. You can also use `weights=Inception_V3_Weights.DEFAULT` to get the most up-to-date weights.\n",
            "  warnings.warn(msg)\n",
            "Downloading: \"https://download.pytorch.org/models/inception_v3_google-0cc3c7bd.pth\" to /root/.cache/torch/hub/checkpoints/inception_v3_google-0cc3c7bd.pth\n",
            "100%|██████████| 104M/104M [00:00<00:00, 173MB/s] \n"
          ]
        },
        {
          "output_type": "stream",
          "name": "stdout",
          "text": [
            "\n",
            "FID: 49.5559\n",
            "Inception Score: 3.5425 ± 0.0933\n"
          ]
        }
      ]
    },
    {
      "cell_type": "markdown",
      "source": [
        "### E4_L1_GenW"
      ],
      "metadata": {
        "id": "k5Ifni_Itirb"
      }
    },
    {
      "cell_type": "code",
      "source": [
        "# E4_L1_GenW: L1 Regularization on Generator Weights\n",
        "\n",
        "# Experiment Configuration\n",
        "experiment_id = \"E4_L1_GenW\"\n",
        "\n",
        "config = config.copy()\n",
        "config.update({\n",
        "    \"experiment_id\": experiment_id,\n",
        "    \"regularization_type\": \"L1\",\n",
        "    \"regularization_lambda_L1\": 0.0001,\n",
        "    \"regularization_lambda_L2\": 0.0,\n",
        "    \"regularization_placement\": \"generator_weights\"\n",
        "})"
      ],
      "metadata": {
        "id": "z600GFs1tWDh"
      },
      "execution_count": null,
      "outputs": []
    },
    {
      "cell_type": "code",
      "source": [
        "# Prepare experiment folders\n",
        "exp_path = os.path.join(ROOT_DIR, experiment_id)\n",
        "for subfolder in [\"images\", \"metrics\", \"eval_data/real\", \"eval_data/fake\"]:\n",
        "    os.makedirs(os.path.join(exp_path, subfolder), exist_ok=True)"
      ],
      "metadata": {
        "id": "-rkDchkPtWF7"
      },
      "execution_count": null,
      "outputs": []
    },
    {
      "cell_type": "code",
      "source": [
        "# Save config\n",
        "config_path = os.path.join(exp_path, \"config_manual.txt\")\n",
        "with open(config_path, \"w\") as f:\n",
        "    for k, v in config.items():\n",
        "        f.write(f\"{k}: {v}\\n\")\n",
        "print(f\"Configuration saved: {config_path}\")"
      ],
      "metadata": {
        "colab": {
          "base_uri": "https://localhost:8080/"
        },
        "id": "-dqeTKkorfCs",
        "outputId": "7111b90a-e123-4e9a-ee0a-f14bbe93569f"
      },
      "execution_count": null,
      "outputs": [
        {
          "output_type": "stream",
          "name": "stdout",
          "text": [
            "Configuration saved: /content/drive/MyDrive/GAN_Research/E4_L1_GenW/config_manual.txt\n"
          ]
        }
      ]
    },
    {
      "cell_type": "code",
      "source": [
        "# Prepare fixed noise\n",
        "num_fixed_samples = 64\n",
        "latent_dim = config[\"latent_dim\"]\n",
        "device = torch.device(config[\"device\"])\n",
        "fixed_noise = torch.randn(num_fixed_samples, latent_dim, 1, 1, device=device)\n",
        "torch.save(fixed_noise, os.path.join(exp_path, \"fixed_noise.pt\"))"
      ],
      "metadata": {
        "id": "WmTS75wQtqKv"
      },
      "execution_count": null,
      "outputs": []
    },
    {
      "cell_type": "code",
      "source": [
        "# Initialize models\n",
        "G = Generator(latent_dim=latent_dim).to(device)\n",
        "D = Discriminator().to(device)\n",
        "G.apply(weights_init)\n",
        "D.apply(weights_init)\n",
        "print(\"Generator and Discriminator initialized for E4_L1_GenW\")"
      ],
      "metadata": {
        "colab": {
          "base_uri": "https://localhost:8080/"
        },
        "id": "Es4Vz5ZrtqIp",
        "outputId": "6468683b-b88c-426c-841c-91355d456753"
      },
      "execution_count": null,
      "outputs": [
        {
          "output_type": "stream",
          "name": "stdout",
          "text": [
            "Generator and Discriminator initialized for E4_L1_GenW\n"
          ]
        }
      ]
    },
    {
      "cell_type": "code",
      "source": [
        "# Define loss and optimizers\n",
        "criterion = nn.BCELoss()\n",
        "optimizer_G = optim.Adam(G.parameters(), lr=config[\"learning_rate\"], betas=(config[\"beta1\"], 0.999))\n",
        "optimizer_D = optim.Adam(D.parameters(), lr=config[\"learning_rate\"], betas=(config[\"beta1\"], 0.999))"
      ],
      "metadata": {
        "id": "LnHBPYvXtqGF"
      },
      "execution_count": null,
      "outputs": []
    },
    {
      "cell_type": "code",
      "source": [
        "# Checkpointing\n",
        "checkpoint_path = os.path.join(exp_path, \"checkpoint.pt\")\n",
        "start_epoch = 1\n",
        "if os.path.exists(checkpoint_path):\n",
        "    checkpoint = torch.load(checkpoint_path, map_location=device)\n",
        "    G.load_state_dict(checkpoint[\"G_state_dict\"])\n",
        "    D.load_state_dict(checkpoint[\"D_state_dict\"])\n",
        "    optimizer_G.load_state_dict(checkpoint[\"optimizer_G\"])\n",
        "    optimizer_D.load_state_dict(checkpoint[\"optimizer_D\"])\n",
        "    start_epoch = checkpoint[\"epoch\"] + 1\n",
        "    print(f\"Resumed from checkpoint epoch {checkpoint['epoch']}\")\n",
        "else:\n",
        "    print(\"Starting from scratch.\")"
      ],
      "metadata": {
        "colab": {
          "base_uri": "https://localhost:8080/"
        },
        "id": "6EvdrOGXtqDR",
        "outputId": "5f192255-554f-4e68-ac0b-064c89977450"
      },
      "execution_count": null,
      "outputs": [
        {
          "output_type": "stream",
          "name": "stdout",
          "text": [
            "Starting from scratch.\n"
          ]
        }
      ]
    },
    {
      "cell_type": "code",
      "source": [
        "# Training Loop\n",
        "metrics_path = os.path.join(exp_path, \"metrics\", \"losses.csv\")\n",
        "loss_D_log = []\n",
        "loss_G_log = []\n",
        "\n",
        "# Load previous loss logs (for continuation in Colab runtime)\n",
        "if os.path.exists(metrics_path):\n",
        "    df_prev = pd.read_csv(metrics_path)\n",
        "    loss_D_log = list(df_prev[\"loss_D\"])\n",
        "    loss_G_log = list(df_prev[\"loss_G\"])\n",
        "    print(f\"Loaded previous loss logs for {len(loss_D_log)} epochs.\")\n",
        "else:\n",
        "    print(\"No previous loss logs found. Starting fresh.\")\n",
        "\n",
        "training_start_time = time.time()\n",
        "\n",
        "for epoch in range(start_epoch, config[\"num_epochs\"] + 1):\n",
        "    loss_D_epoch = 0.0\n",
        "    loss_G_epoch = 0.0\n",
        "\n",
        "    for real_imgs, _ in dataloader:\n",
        "        real_imgs = real_imgs.to(device)\n",
        "        batch_size = real_imgs.size(0)\n",
        "\n",
        "        # Train Discriminator\n",
        "        optimizer_D.zero_grad()\n",
        "        real_labels = torch.ones(batch_size, device=device)\n",
        "        fake_labels = torch.zeros(batch_size, device=device)\n",
        "\n",
        "        output_real = D(real_imgs).view(-1)\n",
        "        loss_real = criterion(output_real, real_labels)\n",
        "\n",
        "        noise = torch.randn(batch_size, latent_dim, 1, 1, device=device)\n",
        "        fake_imgs = G(noise).detach()\n",
        "        output_fake = D(fake_imgs).view(-1)\n",
        "        loss_fake = criterion(output_fake, fake_labels)\n",
        "\n",
        "        loss_D = loss_real + loss_fake\n",
        "        loss_D.backward()\n",
        "        optimizer_D.step()\n",
        "\n",
        "        # Train Generator\n",
        "        optimizer_G.zero_grad()\n",
        "        noise = torch.randn(batch_size, latent_dim, 1, 1, device=device)\n",
        "        fake_imgs = G(noise)\n",
        "        output = D(fake_imgs).view(-1)\n",
        "        loss_G = criterion(output, real_labels)\n",
        "\n",
        "        # L1 Regularization on Generator Weights\n",
        "        # Penalize absolute values of ConvTranspose2d kernel weights in G\n",
        "        if config[\"regularization_type\"] == \"L1\" and config[\"regularization_placement\"] == \"generator_weights\":\n",
        "            l1_reg = torch.tensor(0., device=device)\n",
        "            for module in G.modules():\n",
        "                if isinstance(module, nn.ConvTranspose2d):\n",
        "                    l1_reg += torch.sum(torch.abs(module.weight))\n",
        "            loss_G += config[\"regularization_lambda_L1\"] * l1_reg\n",
        "\n",
        "        loss_G.backward()\n",
        "        optimizer_G.step()\n",
        "\n",
        "        loss_D_epoch += loss_D.item()\n",
        "        loss_G_epoch += loss_G.item()\n",
        "\n",
        "    # Logging\n",
        "    avg_D = loss_D_epoch / len(dataloader)\n",
        "    avg_G = loss_G_epoch / len(dataloader)\n",
        "    loss_D_log.append(avg_D)\n",
        "    loss_G_log.append(avg_G)\n",
        "    print(f\"[Epoch {epoch}/{config['num_epochs']}] Loss_D: {avg_D:.4f}, Loss_G: {avg_G:.4f}\")\n",
        "\n",
        "    # Save image\n",
        "    if epoch % config[\"save_images_every\"] == 0 or epoch == 1:\n",
        "        with torch.no_grad():\n",
        "            sample_imgs = G(fixed_noise).detach().cpu()\n",
        "            img_path = os.path.join(exp_path, \"images\", f\"epoch_{epoch:03}.png\")\n",
        "            vutils.save_image(sample_imgs, img_path, normalize=True, nrow=8)\n",
        "\n",
        "    # Save checkpoint\n",
        "    if epoch % 10 == 0 or epoch == config[\"num_epochs\"]:\n",
        "        torch.save({\n",
        "            \"epoch\": epoch,\n",
        "            \"G_state_dict\": G.state_dict(),\n",
        "            \"D_state_dict\": D.state_dict(),\n",
        "            \"optimizer_G\": optimizer_G.state_dict(),\n",
        "            \"optimizer_D\": optimizer_D.state_dict(),\n",
        "        }, checkpoint_path)\n",
        "\n",
        "    # Save running loss log\n",
        "    with open(metrics_path, \"w\") as f:\n",
        "        f.write(\"epoch,loss_D,loss_G\\n\")\n",
        "        for i in range(len(loss_D_log)):\n",
        "            f.write(f\"{i+1},{loss_D_log[i]},{loss_G_log[i]}\\n\")\n",
        "\n",
        "# Training time\n",
        "total_sec = time.time() - training_start_time\n",
        "mins, secs = int(total_sec // 60), int(total_sec % 60)\n",
        "with open(os.path.join(exp_path, \"training_time.txt\"), \"w\") as f:\n",
        "    f.write(f\"Total training time: {mins} min {secs} sec\\n\")\n",
        "print(f\"Training completed in {mins} min {secs} sec.\")"
      ],
      "metadata": {
        "colab": {
          "base_uri": "https://localhost:8080/"
        },
        "id": "gBmD-gJPtp_t",
        "outputId": "1efb9250-33d6-46df-813c-7ef87222cbc1"
      },
      "execution_count": null,
      "outputs": [
        {
          "output_type": "stream",
          "name": "stdout",
          "text": [
            "No previous loss logs found. Starting fresh.\n",
            "[Epoch 1/100] Loss_D: 0.9783, Loss_G: 3.1414\n",
            "[Epoch 2/100] Loss_D: 1.3982, Loss_G: 1.2256\n",
            "[Epoch 3/100] Loss_D: 1.3882, Loss_G: 0.9006\n",
            "[Epoch 4/100] Loss_D: 1.3873, Loss_G: 0.8013\n",
            "[Epoch 5/100] Loss_D: 1.3868, Loss_G: 0.7588\n",
            "[Epoch 6/100] Loss_D: 1.3870, Loss_G: 0.7388\n",
            "[Epoch 7/100] Loss_D: 1.3869, Loss_G: 0.7284\n",
            "[Epoch 8/100] Loss_D: 1.3868, Loss_G: 0.7229\n",
            "[Epoch 9/100] Loss_D: 1.3866, Loss_G: 0.7207\n",
            "[Epoch 10/100] Loss_D: 1.3865, Loss_G: 0.7202\n",
            "[Epoch 11/100] Loss_D: 1.3866, Loss_G: 0.7199\n",
            "[Epoch 12/100] Loss_D: 1.3865, Loss_G: 0.7195\n",
            "[Epoch 13/100] Loss_D: 1.3864, Loss_G: 0.7206\n",
            "[Epoch 14/100] Loss_D: 1.3864, Loss_G: 0.7206\n",
            "[Epoch 15/100] Loss_D: 1.3863, Loss_G: 0.7232\n",
            "[Epoch 16/100] Loss_D: 1.3864, Loss_G: 0.7243\n",
            "[Epoch 17/100] Loss_D: 1.3865, Loss_G: 0.7415\n",
            "[Epoch 18/100] Loss_D: 1.3866, Loss_G: 0.7197\n",
            "[Epoch 19/100] Loss_D: 1.3863, Loss_G: 0.7179\n",
            "[Epoch 20/100] Loss_D: 1.3865, Loss_G: 0.7495\n",
            "[Epoch 21/100] Loss_D: 1.3866, Loss_G: 0.7193\n",
            "[Epoch 22/100] Loss_D: 1.3863, Loss_G: 0.7176\n",
            "[Epoch 23/100] Loss_D: 1.3694, Loss_G: 0.9246\n",
            "[Epoch 24/100] Loss_D: 1.3146, Loss_G: 1.3927\n",
            "[Epoch 25/100] Loss_D: 1.2921, Loss_G: 1.6095\n",
            "[Epoch 26/100] Loss_D: 1.3703, Loss_G: 1.3378\n",
            "[Epoch 27/100] Loss_D: 1.3977, Loss_G: 1.0518\n",
            "[Epoch 28/100] Loss_D: 1.3941, Loss_G: 0.9163\n",
            "[Epoch 29/100] Loss_D: 1.3908, Loss_G: 0.8451\n",
            "[Epoch 30/100] Loss_D: 1.3889, Loss_G: 0.8103\n",
            "[Epoch 31/100] Loss_D: 1.3889, Loss_G: 0.7914\n",
            "[Epoch 32/100] Loss_D: 1.3883, Loss_G: 0.7752\n",
            "[Epoch 33/100] Loss_D: 1.3870, Loss_G: 0.7718\n",
            "[Epoch 34/100] Loss_D: 1.3867, Loss_G: 0.7731\n",
            "[Epoch 35/100] Loss_D: 1.3866, Loss_G: 0.7734\n",
            "[Epoch 36/100] Loss_D: 1.3869, Loss_G: 0.7858\n",
            "[Epoch 37/100] Loss_D: 1.3876, Loss_G: 0.7640\n",
            "[Epoch 38/100] Loss_D: 1.3863, Loss_G: 0.7672\n",
            "[Epoch 39/100] Loss_D: 1.3859, Loss_G: 0.7674\n",
            "[Epoch 40/100] Loss_D: 1.3845, Loss_G: 0.7818\n",
            "[Epoch 41/100] Loss_D: 1.3845, Loss_G: 0.7847\n",
            "[Epoch 42/100] Loss_D: 1.3842, Loss_G: 0.7935\n",
            "[Epoch 43/100] Loss_D: 1.3847, Loss_G: 0.7908\n",
            "[Epoch 44/100] Loss_D: 1.3830, Loss_G: 0.7991\n",
            "[Epoch 45/100] Loss_D: 1.3741, Loss_G: 0.8376\n",
            "[Epoch 46/100] Loss_D: 1.3715, Loss_G: 0.8813\n",
            "[Epoch 47/100] Loss_D: 1.3791, Loss_G: 0.8699\n",
            "[Epoch 48/100] Loss_D: 1.3886, Loss_G: 0.8349\n",
            "[Epoch 49/100] Loss_D: 1.3876, Loss_G: 0.8117\n",
            "[Epoch 50/100] Loss_D: 1.3826, Loss_G: 0.8171\n",
            "[Epoch 51/100] Loss_D: 1.3785, Loss_G: 0.8326\n",
            "[Epoch 52/100] Loss_D: 1.3706, Loss_G: 0.8591\n",
            "[Epoch 53/100] Loss_D: 1.3560, Loss_G: 0.9100\n",
            "[Epoch 54/100] Loss_D: 1.3341, Loss_G: 0.9812\n",
            "[Epoch 55/100] Loss_D: 1.3045, Loss_G: 1.0718\n",
            "[Epoch 56/100] Loss_D: 1.2774, Loss_G: 1.1660\n",
            "[Epoch 57/100] Loss_D: 1.2539, Loss_G: 1.2470\n",
            "[Epoch 58/100] Loss_D: 1.2112, Loss_G: 1.3234\n",
            "[Epoch 59/100] Loss_D: 1.1625, Loss_G: 1.4525\n",
            "[Epoch 60/100] Loss_D: 1.1116, Loss_G: 1.5554\n",
            "[Epoch 61/100] Loss_D: 1.0559, Loss_G: 1.6608\n",
            "[Epoch 62/100] Loss_D: 1.0103, Loss_G: 1.7779\n",
            "[Epoch 63/100] Loss_D: 0.9637, Loss_G: 1.8876\n",
            "[Epoch 64/100] Loss_D: 0.8967, Loss_G: 1.9921\n",
            "[Epoch 65/100] Loss_D: 0.8558, Loss_G: 2.1227\n",
            "[Epoch 66/100] Loss_D: 0.8058, Loss_G: 2.2305\n",
            "[Epoch 67/100] Loss_D: 0.7617, Loss_G: 2.3678\n",
            "[Epoch 68/100] Loss_D: 0.7384, Loss_G: 2.4965\n",
            "[Epoch 69/100] Loss_D: 0.6840, Loss_G: 2.5670\n",
            "[Epoch 70/100] Loss_D: 0.6397, Loss_G: 2.6853\n",
            "[Epoch 71/100] Loss_D: 0.6390, Loss_G: 2.7457\n",
            "[Epoch 72/100] Loss_D: 0.6101, Loss_G: 2.8649\n",
            "[Epoch 73/100] Loss_D: 0.5795, Loss_G: 2.9759\n",
            "[Epoch 74/100] Loss_D: 0.5386, Loss_G: 3.1363\n",
            "[Epoch 75/100] Loss_D: 0.5494, Loss_G: 3.1377\n",
            "[Epoch 76/100] Loss_D: 0.5046, Loss_G: 3.2717\n",
            "[Epoch 77/100] Loss_D: 0.4847, Loss_G: 3.3654\n",
            "[Epoch 78/100] Loss_D: 0.4746, Loss_G: 3.4252\n",
            "[Epoch 79/100] Loss_D: 0.4357, Loss_G: 3.5783\n",
            "[Epoch 80/100] Loss_D: 0.4149, Loss_G: 3.6947\n",
            "[Epoch 81/100] Loss_D: 0.4261, Loss_G: 3.7440\n",
            "[Epoch 82/100] Loss_D: 0.3999, Loss_G: 3.7715\n",
            "[Epoch 83/100] Loss_D: 0.4058, Loss_G: 3.8514\n",
            "[Epoch 84/100] Loss_D: 0.3802, Loss_G: 3.8843\n",
            "[Epoch 85/100] Loss_D: 0.3653, Loss_G: 4.0086\n",
            "[Epoch 86/100] Loss_D: 0.3626, Loss_G: 4.0920\n",
            "[Epoch 87/100] Loss_D: 0.3799, Loss_G: 4.1947\n",
            "[Epoch 88/100] Loss_D: 0.3334, Loss_G: 4.2268\n",
            "[Epoch 89/100] Loss_D: 0.3432, Loss_G: 4.2761\n",
            "[Epoch 90/100] Loss_D: 0.3148, Loss_G: 4.3933\n",
            "[Epoch 91/100] Loss_D: 0.3278, Loss_G: 4.3896\n",
            "[Epoch 92/100] Loss_D: 0.3023, Loss_G: 4.5446\n",
            "[Epoch 93/100] Loss_D: 0.2759, Loss_G: 4.5683\n",
            "[Epoch 94/100] Loss_D: 0.3305, Loss_G: 4.5436\n",
            "[Epoch 95/100] Loss_D: 0.2797, Loss_G: 4.6935\n",
            "[Epoch 96/100] Loss_D: 0.2756, Loss_G: 4.7287\n",
            "[Epoch 97/100] Loss_D: 0.2778, Loss_G: 4.8314\n",
            "[Epoch 98/100] Loss_D: 0.2917, Loss_G: 4.8510\n",
            "[Epoch 99/100] Loss_D: 0.2596, Loss_G: 4.8665\n",
            "[Epoch 100/100] Loss_D: 0.2509, Loss_G: 4.8972\n",
            "Training completed in 137 min 30 sec.\n"
          ]
        }
      ]
    },
    {
      "cell_type": "code",
      "source": [
        "# Plot and save loss curve\n",
        "metrics_path = os.path.join(exp_path, \"metrics\", \"losses.csv\")\n",
        "loss_D_log = []\n",
        "loss_G_log = []\n",
        "\n",
        "# Load logs\n",
        "if os.path.exists(metrics_path):\n",
        "    import pandas as pd\n",
        "    df = pd.read_csv(metrics_path)\n",
        "    loss_D_log = list(df[\"loss_D\"])\n",
        "    loss_G_log = list(df[\"loss_G\"])\n",
        "    print(f\"Loaded loss logs for {len(loss_D_log)} epochs from {metrics_path}\")\n",
        "else:\n",
        "    print(f\"No previous loss logs found. Starting fresh.\")\n",
        "\n",
        "epochs = list(range(1, len(loss_D_log) + 1))\n",
        "plt.figure(figsize=(10, 5))\n",
        "plt.plot(epochs, loss_D_log, label=\"Discriminator Loss\")\n",
        "plt.plot(epochs, loss_G_log, label=\"Generator Loss\")\n",
        "plt.xlabel(\"Epoch\", fontsize=12)\n",
        "plt.ylabel(\"Loss\", fontsize=12)\n",
        "plt.title(f\"Training Loss Curve ({experiment_id})\")\n",
        "plt.legend()\n",
        "plt.grid(True)\n",
        "plt.ylim(0, 7)\n",
        "plt.tight_layout()\n",
        "\n",
        "plot_path = os.path.join(exp_path, \"metrics\", \"loss_curve.png\")\n",
        "plt.savefig(plot_path)\n",
        "plt.close()\n",
        "print(f\"Loss curve saved: {plot_path}\")"
      ],
      "metadata": {
        "colab": {
          "base_uri": "https://localhost:8080/"
        },
        "id": "5KmYUVcutp65",
        "outputId": "e2ff6f29-51f6-446c-ddd0-04a46ac43237"
      },
      "execution_count": null,
      "outputs": [
        {
          "output_type": "stream",
          "name": "stdout",
          "text": [
            "Loaded loss logs for 100 epochs from /content/drive/MyDrive/GAN_Research/E4_L1_GenW/metrics/losses.csv\n",
            "Loss curve saved: /content/drive/MyDrive/GAN_Research/E4_L1_GenW/metrics/loss_curve.png\n"
          ]
        }
      ]
    },
    {
      "cell_type": "code",
      "source": [
        "# Evaluation: Save images, calculate FID & Inception Score\n",
        "eval_batch_size = 128\n",
        "num_eval_images = config[\"fid_samples\"]\n",
        "eval_image_size = config[\"image_size\"]\n",
        "real_dir = os.path.join(exp_path, \"eval_data\", \"real\")\n",
        "fake_dir = os.path.join(exp_path, \"eval_data\", \"fake\")\n",
        "\n",
        "# Clean eval folders\n",
        "for dir_ in [real_dir, fake_dir]:\n",
        "    for f in os.listdir(dir_):\n",
        "        os.remove(os.path.join(dir_, f))\n",
        "\n",
        "# Save real images\n",
        "def save_real_images():\n",
        "    transform_eval = transforms.Compose([\n",
        "        transforms.Resize(eval_image_size),\n",
        "        transforms.CenterCrop(eval_image_size),\n",
        "        transforms.ToTensor(),\n",
        "        transforms.Normalize((0.5,) * 3, (0.5,) * 3)\n",
        "    ])\n",
        "    eval_dataset = datasets.CIFAR10(root=\"./data\", train=True, download=True, transform=transform_eval)\n",
        "    eval_loader = DataLoader(eval_dataset, batch_size=eval_batch_size, shuffle=False)\n",
        "    i = 0\n",
        "    for imgs, _ in eval_loader:\n",
        "        for img in imgs:\n",
        "            save_image(img, f\"{real_dir}/{i}.png\", normalize=True)\n",
        "            i += 1\n",
        "            if i >= num_eval_images:\n",
        "                return\n",
        "\n",
        "# Save fake images\n",
        "def save_fake_images(generator):\n",
        "    generator.eval()\n",
        "    i = 0\n",
        "    with torch.no_grad():\n",
        "        for _ in tqdm(range(0, num_eval_images, eval_batch_size), desc=\"Generating fake\"):\n",
        "            curr_batch = min(eval_batch_size, num_eval_images - i)\n",
        "            noise = torch.randn(curr_batch, config[\"latent_dim\"], 1, 1, device=device)\n",
        "            fake_imgs = generator(noise).cpu()\n",
        "            for img in fake_imgs:\n",
        "                save_image(img, f\"{fake_dir}/{i}.png\", normalize=True)\n",
        "                i += 1\n",
        "                if i >= num_eval_images:\n",
        "                    return\n",
        "\n",
        "save_real_images()\n",
        "save_fake_images(G)\n",
        "\n",
        "# FID calculation\n",
        "metrics = calculate_metrics(\n",
        "    input1=real_dir,\n",
        "    input2=fake_dir,\n",
        "    cuda=torch.cuda.is_available(),\n",
        "    isc=False,\n",
        "    fid=True,\n",
        "    kid=False,\n",
        "    verbose=False\n",
        ")\n",
        "fid = metrics[\"frechet_inception_distance\"]\n",
        "\n",
        "# Inception Score\n",
        "class PNGImageFolder(torch.utils.data.Dataset):\n",
        "    def __init__(self, folder, transform=None):\n",
        "        self.paths = [os.path.join(folder, f) for f in sorted(os.listdir(folder)) if f.endswith(\".png\")]\n",
        "        self.transform = transform\n",
        "    def __len__(self): return len(self.paths)\n",
        "    def __getitem__(self, idx):\n",
        "        img = Image.open(self.paths[idx]).convert(\"RGB\")\n",
        "        if self.transform: img = self.transform(img)\n",
        "        return img\n",
        "\n",
        "def compute_inception_score(image_folder, splits=10):\n",
        "    transform = transforms.Compose([\n",
        "        transforms.Resize((299, 299)),\n",
        "        transforms.ToTensor()\n",
        "    ])\n",
        "    dataset = PNGImageFolder(image_folder, transform)\n",
        "    loader = DataLoader(dataset, batch_size=64, shuffle=False)\n",
        "    model = inception_v3(pretrained=True, transform_input=False).to(device)\n",
        "    model.eval()\n",
        "    preds = []\n",
        "    for imgs in loader:\n",
        "        imgs = imgs.to(device)\n",
        "        with torch.no_grad():\n",
        "            pred = model(imgs)\n",
        "            pred = F.softmax(pred, dim=1).cpu().numpy()\n",
        "        preds.append(pred)\n",
        "    preds = np.concatenate(preds, axis=0)\n",
        "    split_scores = []\n",
        "    for k in range(splits):\n",
        "        part = preds[k * (len(preds)//splits):(k+1)*(len(preds)//splits)]\n",
        "        py = np.mean(part, axis=0)\n",
        "        scores = [entropy(p, py) for p in part]\n",
        "        split_scores.append(np.exp(np.mean(scores)))\n",
        "    return float(np.mean(split_scores)), float(np.std(split_scores))\n",
        "\n",
        "mean_is, std_is = compute_inception_score(fake_dir)\n",
        "\n",
        "with open(os.path.join(exp_path, \"metrics\", \"eval_metrics.txt\"), \"w\") as f:\n",
        "    f.write(f\"FID: {fid:.4f}\\n\")\n",
        "    f.write(f\"Inception Score: {mean_is:.4f} ± {std_is:.4f}\\n\")\n",
        "\n",
        "print(f\"\\nFID: {fid:.4f}\")\n",
        "print(f\"Inception Score: {mean_is:.4f} ± {std_is:.4f}\")"
      ],
      "metadata": {
        "colab": {
          "base_uri": "https://localhost:8080/"
        },
        "id": "AYXJwzu2tp3J",
        "outputId": "6ae512ad-8085-49d3-c135-55343a3d21b0"
      },
      "execution_count": null,
      "outputs": [
        {
          "output_type": "stream",
          "name": "stderr",
          "text": [
            "Generating fake:  99%|█████████▊| 78/79 [01:09<00:00,  1.13it/s]\n",
            "/usr/local/lib/python3.11/dist-packages/torchvision/models/_utils.py:208: UserWarning: The parameter 'pretrained' is deprecated since 0.13 and may be removed in the future, please use 'weights' instead.\n",
            "  warnings.warn(\n",
            "/usr/local/lib/python3.11/dist-packages/torchvision/models/_utils.py:223: UserWarning: Arguments other than a weight enum or `None` for 'weights' are deprecated since 0.13 and may be removed in the future. The current behavior is equivalent to passing `weights=Inception_V3_Weights.IMAGENET1K_V1`. You can also use `weights=Inception_V3_Weights.DEFAULT` to get the most up-to-date weights.\n",
            "  warnings.warn(msg)\n"
          ]
        },
        {
          "output_type": "stream",
          "name": "stdout",
          "text": [
            "\n",
            "FID: 54.2408\n",
            "Inception Score: 3.5390 ± 0.1078\n"
          ]
        }
      ]
    },
    {
      "cell_type": "markdown",
      "source": [
        "### E4_L2_GenW"
      ],
      "metadata": {
        "id": "R4jnqJJvuIjo"
      }
    },
    {
      "cell_type": "code",
      "source": [
        "# E4_L2_GenW: L2 Regularization on Generator Weights\n",
        "\n",
        "# Experiment Configuration\n",
        "experiment_id = \"E4_L2_GenW\"\n",
        "\n",
        "config = config.copy()\n",
        "config.update({\n",
        "    \"experiment_id\": experiment_id,\n",
        "    \"regularization_type\": \"L2\",\n",
        "    \"regularization_lambda_L1\": 0.0,\n",
        "    \"regularization_lambda_L2\": 0.001,\n",
        "    \"regularization_placement\": \"generator_weights\",\n",
        "})"
      ],
      "metadata": {
        "id": "-VGjwc0ttp08"
      },
      "execution_count": null,
      "outputs": []
    },
    {
      "cell_type": "code",
      "source": [
        "# Prepare experiment folders\n",
        "exp_path = os.path.join(ROOT_DIR, experiment_id)\n",
        "for subfolder in [\"images\", \"metrics\", \"eval_data/real\", \"eval_data/fake\"]:\n",
        "    os.makedirs(os.path.join(exp_path, subfolder), exist_ok=True)"
      ],
      "metadata": {
        "id": "wkVyuccitpyP"
      },
      "execution_count": null,
      "outputs": []
    },
    {
      "cell_type": "code",
      "source": [
        "# Save config\n",
        "config_path = os.path.join(exp_path, \"config_manual.txt\")\n",
        "with open(config_path, \"w\") as f:\n",
        "    for k, v in config.items():\n",
        "        f.write(f\"{k}: {v}\\n\")\n",
        "print(f\"Configuration saved: {config_path}\")"
      ],
      "metadata": {
        "colab": {
          "base_uri": "https://localhost:8080/"
        },
        "id": "V_l8q6V1tput",
        "outputId": "ac4ec6d6-2dcf-4036-b72c-f433ee6c3018"
      },
      "execution_count": null,
      "outputs": [
        {
          "output_type": "stream",
          "name": "stdout",
          "text": [
            "Configuration saved: /content/drive/MyDrive/GAN_Research/E4_L2_GenW/config_manual.txt\n"
          ]
        }
      ]
    },
    {
      "cell_type": "code",
      "source": [
        "# Prepare fixed noise\n",
        "num_fixed_samples = 64\n",
        "latent_dim = config[\"latent_dim\"]\n",
        "device = torch.device(config[\"device\"])\n",
        "fixed_noise = torch.randn(num_fixed_samples, latent_dim, 1, 1, device=device)\n",
        "torch.save(fixed_noise, os.path.join(exp_path, \"fixed_noise.pt\"))"
      ],
      "metadata": {
        "id": "l5R5PvW7tprT"
      },
      "execution_count": null,
      "outputs": []
    },
    {
      "cell_type": "code",
      "source": [
        "# Initialize models\n",
        "G = Generator(latent_dim=latent_dim).to(device)\n",
        "D = Discriminator().to(device)\n",
        "G.apply(weights_init)\n",
        "D.apply(weights_init)\n",
        "print(f\"Generator and Discriminator initialized for {experiment_id}\")"
      ],
      "metadata": {
        "colab": {
          "base_uri": "https://localhost:8080/"
        },
        "id": "osWAnSxFtpoZ",
        "outputId": "5dfd5c16-9e82-476a-d715-dbf8415fbbc6"
      },
      "execution_count": null,
      "outputs": [
        {
          "output_type": "stream",
          "name": "stdout",
          "text": [
            "Generator and Discriminator initialized for E4_L2_GenW\n"
          ]
        }
      ]
    },
    {
      "cell_type": "code",
      "source": [
        "# Define loss and optimizers\n",
        "criterion = nn.BCELoss()\n",
        "optimizer_G = optim.Adam(G.parameters(), lr=config[\"learning_rate\"], betas=(config[\"beta1\"], 0.999))\n",
        "optimizer_D = optim.Adam(D.parameters(), lr=config[\"learning_rate\"], betas=(config[\"beta1\"], 0.999))"
      ],
      "metadata": {
        "id": "JahVHvkTtplv"
      },
      "execution_count": null,
      "outputs": []
    },
    {
      "cell_type": "code",
      "source": [
        "# Checkpointing\n",
        "checkpoint_path = os.path.join(exp_path, \"checkpoint.pt\")\n",
        "start_epoch = 1\n",
        "if os.path.exists(checkpoint_path):\n",
        "    checkpoint = torch.load(checkpoint_path, map_location=device)\n",
        "    G.load_state_dict(checkpoint[\"G_state_dict\"])\n",
        "    D.load_state_dict(checkpoint[\"D_state_dict\"])\n",
        "    optimizer_G.load_state_dict(checkpoint[\"optimizer_G\"])\n",
        "    optimizer_D.load_state_dict(checkpoint[\"optimizer_D\"])\n",
        "    start_epoch = checkpoint[\"epoch\"] + 1\n",
        "    print(f\"Resumed from checkpoint epoch {checkpoint['epoch']}\")\n",
        "else:\n",
        "    print(\"Starting from scratch.\")"
      ],
      "metadata": {
        "colab": {
          "base_uri": "https://localhost:8080/"
        },
        "id": "4gGT6FMRtpja",
        "outputId": "7e5801fa-1762-47e3-b9a3-6ed443e3d1f4"
      },
      "execution_count": null,
      "outputs": [
        {
          "output_type": "stream",
          "name": "stdout",
          "text": [
            "Starting from scratch.\n"
          ]
        }
      ]
    },
    {
      "cell_type": "code",
      "source": [
        "# Training Loop\n",
        "metrics_path = os.path.join(exp_path, \"metrics\", \"losses.csv\")\n",
        "loss_D_log = []\n",
        "loss_G_log = []\n",
        "\n",
        "# Load previous loss logs (for continuation in Colab runtime)\n",
        "if os.path.exists(metrics_path):\n",
        "    df_prev = pd.read_csv(metrics_path)\n",
        "    loss_D_log = list(df_prev[\"loss_D\"])\n",
        "    loss_G_log = list(df_prev[\"loss_G\"])\n",
        "    print(f\"Loaded previous loss logs for {len(loss_D_log)} epochs.\")\n",
        "else:\n",
        "    print(\"No previous loss logs found. Starting fresh.\")\n",
        "\n",
        "training_start_time = time.time()\n",
        "\n",
        "for epoch in range(start_epoch, config[\"num_epochs\"] + 1):\n",
        "    loss_D_epoch = 0.0\n",
        "    loss_G_epoch = 0.0\n",
        "\n",
        "    for real_imgs, _ in dataloader:\n",
        "        real_imgs = real_imgs.to(device)\n",
        "        batch_size = real_imgs.size(0)\n",
        "\n",
        "        # Train Discriminator\n",
        "        optimizer_D.zero_grad()\n",
        "        real_labels = torch.ones(batch_size, device=device)\n",
        "        fake_labels = torch.zeros(batch_size, device=device)\n",
        "\n",
        "        output_real = D(real_imgs).view(-1)\n",
        "        loss_real = criterion(output_real, real_labels)\n",
        "\n",
        "        noise = torch.randn(batch_size, config[\"latent_dim\"], 1, 1, device=device)\n",
        "        fake_imgs = G(noise).detach()\n",
        "        output_fake = D(fake_imgs).view(-1)\n",
        "        loss_fake = criterion(output_fake, fake_labels)\n",
        "\n",
        "        loss_D = loss_real + loss_fake\n",
        "        loss_D.backward()\n",
        "        optimizer_D.step()\n",
        "\n",
        "        # Train Generator\n",
        "        optimizer_G.zero_grad()\n",
        "        noise = torch.randn(batch_size, config[\"latent_dim\"], 1, 1, device=device)\n",
        "        fake_imgs = G(noise)\n",
        "        output = D(fake_imgs).view(-1)\n",
        "        loss_G = criterion(output, real_labels)\n",
        "\n",
        "        # Add L2 regularization on generator weights\n",
        "        # Penalize squared values of ConvTranspose2d kernel weights in G\n",
        "        if config[\"regularization_type\"] == \"L2\" and config[\"regularization_placement\"] == \"generator_weights\":\n",
        "            l2_reg = torch.tensor(0., device=device)\n",
        "            for module in G.modules():\n",
        "                if isinstance(module, nn.ConvTranspose2d):\n",
        "                    l2_reg += torch.sum(module.weight ** 2)\n",
        "            loss_G += config[\"regularization_lambda_L2\"] * l2_reg\n",
        "\n",
        "        loss_G.backward()\n",
        "        optimizer_G.step()\n",
        "\n",
        "        loss_D_epoch += loss_D.item()\n",
        "        loss_G_epoch += loss_G.item()\n",
        "\n",
        "    # Logging losses\n",
        "    avg_D = loss_D_epoch / len(dataloader)\n",
        "    avg_G = loss_G_epoch / len(dataloader)\n",
        "    loss_D_log.append(avg_D)\n",
        "    loss_G_log.append(avg_G)\n",
        "    print(f\"[Epoch {epoch}/{config['num_epochs']}] Loss_D: {avg_D:.4f}, Loss_G: {avg_G:.4f}\")\n",
        "\n",
        "    # Save sample images\n",
        "    if epoch % config[\"save_images_every\"] == 0 or epoch == 1:\n",
        "        with torch.no_grad():\n",
        "            sample_imgs = G(fixed_noise).detach().cpu()\n",
        "            img_path = os.path.join(exp_path, \"images\", f\"epoch_{epoch:03}.png\")\n",
        "            vutils.save_image(sample_imgs, img_path, normalize=True, nrow=8)\n",
        "\n",
        "    # Save checkpoint\n",
        "    if epoch % 10 == 0 or epoch == config[\"num_epochs\"]:\n",
        "        torch.save({\n",
        "            \"epoch\": epoch,\n",
        "            \"G_state_dict\": G.state_dict(),\n",
        "            \"D_state_dict\": D.state_dict(),\n",
        "            \"optimizer_G\": optimizer_G.state_dict(),\n",
        "            \"optimizer_D\": optimizer_D.state_dict(),\n",
        "        }, checkpoint_path)\n",
        "\n",
        "    # Save running loss log\n",
        "    metrics_path = os.path.join(exp_path, \"metrics\", \"losses.csv\")\n",
        "    with open(metrics_path, \"w\") as f:\n",
        "        f.write(\"epoch,loss_D,loss_G\\n\")\n",
        "        for i in range(len(loss_D_log)):\n",
        "            f.write(f\"{i+1},{loss_D_log[i]},{loss_G_log[i]}\\n\")\n",
        "\n",
        "# Save training time\n",
        "total_sec = time.time() - training_start_time\n",
        "mins, secs = int(total_sec // 60), int(total_sec % 60)\n",
        "with open(os.path.join(exp_path, \"training_time.txt\"), \"w\") as f:\n",
        "    f.write(f\"Total training time: {mins} min {secs} sec\\n\")\n",
        "print(f\"Training completed in {mins} min {secs} sec.\")"
      ],
      "metadata": {
        "colab": {
          "base_uri": "https://localhost:8080/"
        },
        "id": "_CVvLLXBtpg4",
        "outputId": "7309a286-28ee-4f9f-f209-8987a41faec8"
      },
      "execution_count": null,
      "outputs": [
        {
          "output_type": "stream",
          "name": "stdout",
          "text": [
            "No previous loss logs found. Starting fresh.\n",
            "[Epoch 1/100] Loss_D: 0.8319, Loss_G: 2.4628\n",
            "[Epoch 2/100] Loss_D: 1.2141, Loss_G: 1.8363\n",
            "[Epoch 3/100] Loss_D: 1.2362, Loss_G: 1.6979\n",
            "[Epoch 4/100] Loss_D: 1.2732, Loss_G: 1.6217\n",
            "[Epoch 5/100] Loss_D: 1.3254, Loss_G: 1.3639\n",
            "[Epoch 6/100] Loss_D: 1.3751, Loss_G: 1.0811\n",
            "[Epoch 7/100] Loss_D: 1.3762, Loss_G: 0.9881\n",
            "[Epoch 8/100] Loss_D: 1.3807, Loss_G: 0.9305\n",
            "[Epoch 9/100] Loss_D: 1.3854, Loss_G: 0.8805\n",
            "[Epoch 10/100] Loss_D: 1.3877, Loss_G: 0.8343\n",
            "[Epoch 11/100] Loss_D: 1.3882, Loss_G: 0.7971\n",
            "[Epoch 12/100] Loss_D: 1.3880, Loss_G: 0.7680\n",
            "[Epoch 13/100] Loss_D: 1.3877, Loss_G: 0.7466\n",
            "[Epoch 14/100] Loss_D: 1.3874, Loss_G: 0.7311\n",
            "[Epoch 15/100] Loss_D: 1.3872, Loss_G: 0.7206\n",
            "[Epoch 16/100] Loss_D: 1.3869, Loss_G: 0.7156\n",
            "[Epoch 17/100] Loss_D: 1.3875, Loss_G: 0.7151\n",
            "[Epoch 18/100] Loss_D: 1.3874, Loss_G: 0.7106\n",
            "[Epoch 19/100] Loss_D: 1.3872, Loss_G: 0.7088\n",
            "[Epoch 20/100] Loss_D: 1.3870, Loss_G: 0.7062\n",
            "[Epoch 21/100] Loss_D: 1.3869, Loss_G: 0.7071\n",
            "[Epoch 22/100] Loss_D: 1.3869, Loss_G: 0.7109\n",
            "[Epoch 23/100] Loss_D: 1.3869, Loss_G: 0.7055\n",
            "[Epoch 24/100] Loss_D: 1.3863, Loss_G: 0.7065\n",
            "[Epoch 25/100] Loss_D: 1.2913, Loss_G: 1.2596\n",
            "[Epoch 26/100] Loss_D: 1.2618, Loss_G: 1.5375\n",
            "[Epoch 27/100] Loss_D: 1.2233, Loss_G: 1.6526\n",
            "[Epoch 28/100] Loss_D: 1.2759, Loss_G: 1.4254\n",
            "[Epoch 29/100] Loss_D: 1.2929, Loss_G: 1.3427\n",
            "[Epoch 30/100] Loss_D: 1.2701, Loss_G: 1.3405\n",
            "[Epoch 31/100] Loss_D: 1.2823, Loss_G: 1.2905\n",
            "[Epoch 32/100] Loss_D: 1.2809, Loss_G: 1.3089\n",
            "[Epoch 33/100] Loss_D: 1.2903, Loss_G: 1.2599\n",
            "[Epoch 34/100] Loss_D: 1.2894, Loss_G: 1.2423\n",
            "[Epoch 35/100] Loss_D: 1.3005, Loss_G: 1.2092\n",
            "[Epoch 36/100] Loss_D: 1.2947, Loss_G: 1.1936\n",
            "[Epoch 37/100] Loss_D: 1.2963, Loss_G: 1.1886\n",
            "[Epoch 38/100] Loss_D: 1.2957, Loss_G: 1.1902\n",
            "[Epoch 39/100] Loss_D: 1.2881, Loss_G: 1.2055\n",
            "[Epoch 40/100] Loss_D: 1.2852, Loss_G: 1.2286\n",
            "[Epoch 41/100] Loss_D: 1.2654, Loss_G: 1.2323\n",
            "[Epoch 42/100] Loss_D: 1.2486, Loss_G: 1.2655\n",
            "[Epoch 43/100] Loss_D: 1.2425, Loss_G: 1.3056\n",
            "[Epoch 44/100] Loss_D: 1.2196, Loss_G: 1.3305\n",
            "[Epoch 45/100] Loss_D: 1.1961, Loss_G: 1.3669\n",
            "[Epoch 46/100] Loss_D: 1.1857, Loss_G: 1.4001\n",
            "[Epoch 47/100] Loss_D: 1.1595, Loss_G: 1.4499\n",
            "[Epoch 48/100] Loss_D: 1.1191, Loss_G: 1.5220\n",
            "[Epoch 49/100] Loss_D: 1.1013, Loss_G: 1.5369\n",
            "[Epoch 50/100] Loss_D: 1.0575, Loss_G: 1.6100\n",
            "[Epoch 51/100] Loss_D: 1.0353, Loss_G: 1.6538\n",
            "[Epoch 52/100] Loss_D: 1.0067, Loss_G: 1.7351\n",
            "[Epoch 53/100] Loss_D: 0.9759, Loss_G: 1.7813\n",
            "[Epoch 54/100] Loss_D: 0.9577, Loss_G: 1.8468\n",
            "[Epoch 55/100] Loss_D: 0.9245, Loss_G: 1.8822\n",
            "[Epoch 56/100] Loss_D: 0.9040, Loss_G: 1.9563\n",
            "[Epoch 57/100] Loss_D: 0.8735, Loss_G: 2.0628\n",
            "[Epoch 58/100] Loss_D: 0.8433, Loss_G: 2.1172\n",
            "[Epoch 59/100] Loss_D: 0.8067, Loss_G: 2.1760\n",
            "[Epoch 60/100] Loss_D: 0.7785, Loss_G: 2.2760\n",
            "[Epoch 61/100] Loss_D: 0.7751, Loss_G: 2.3651\n",
            "[Epoch 62/100] Loss_D: 0.7238, Loss_G: 2.4046\n",
            "[Epoch 63/100] Loss_D: 0.7121, Loss_G: 2.4836\n",
            "[Epoch 64/100] Loss_D: 0.6832, Loss_G: 2.5685\n",
            "[Epoch 65/100] Loss_D: 0.6564, Loss_G: 2.6406\n",
            "[Epoch 66/100] Loss_D: 0.6207, Loss_G: 2.6873\n",
            "[Epoch 67/100] Loss_D: 0.6250, Loss_G: 2.7870\n",
            "[Epoch 68/100] Loss_D: 0.5694, Loss_G: 2.8946\n",
            "[Epoch 69/100] Loss_D: 0.5576, Loss_G: 2.9453\n",
            "[Epoch 70/100] Loss_D: 0.5472, Loss_G: 3.0594\n",
            "[Epoch 71/100] Loss_D: 0.5086, Loss_G: 3.1395\n",
            "[Epoch 72/100] Loss_D: 0.4851, Loss_G: 3.2414\n",
            "[Epoch 73/100] Loss_D: 0.5122, Loss_G: 3.3445\n",
            "[Epoch 74/100] Loss_D: 0.4685, Loss_G: 3.3767\n",
            "[Epoch 75/100] Loss_D: 0.4509, Loss_G: 3.4560\n",
            "[Epoch 76/100] Loss_D: 0.4440, Loss_G: 3.5088\n",
            "[Epoch 77/100] Loss_D: 0.4247, Loss_G: 3.5781\n",
            "[Epoch 78/100] Loss_D: 0.3964, Loss_G: 3.6856\n",
            "[Epoch 79/100] Loss_D: 0.4153, Loss_G: 3.7596\n",
            "[Epoch 80/100] Loss_D: 0.3704, Loss_G: 3.8238\n",
            "[Epoch 81/100] Loss_D: 0.3678, Loss_G: 3.9282\n",
            "[Epoch 82/100] Loss_D: 0.3633, Loss_G: 3.9557\n",
            "[Epoch 83/100] Loss_D: 0.3838, Loss_G: 4.0035\n",
            "[Epoch 84/100] Loss_D: 0.3286, Loss_G: 4.0485\n",
            "[Epoch 85/100] Loss_D: 0.3288, Loss_G: 4.2780\n",
            "[Epoch 86/100] Loss_D: 0.3360, Loss_G: 4.1994\n",
            "[Epoch 87/100] Loss_D: 0.3132, Loss_G: 4.3477\n",
            "[Epoch 88/100] Loss_D: 0.3104, Loss_G: 4.4342\n",
            "[Epoch 89/100] Loss_D: 0.3046, Loss_G: 4.4970\n",
            "[Epoch 90/100] Loss_D: 0.2644, Loss_G: 4.5477\n",
            "[Epoch 91/100] Loss_D: 0.3094, Loss_G: 4.5059\n",
            "[Epoch 92/100] Loss_D: 0.2819, Loss_G: 4.6644\n",
            "[Epoch 93/100] Loss_D: 0.2747, Loss_G: 4.7184\n",
            "[Epoch 94/100] Loss_D: 0.3060, Loss_G: 4.6329\n",
            "[Epoch 95/100] Loss_D: 0.2349, Loss_G: 4.8971\n",
            "[Epoch 96/100] Loss_D: 0.2720, Loss_G: 4.8718\n",
            "[Epoch 97/100] Loss_D: 0.2298, Loss_G: 5.0903\n",
            "[Epoch 98/100] Loss_D: 0.2676, Loss_G: 4.9511\n",
            "[Epoch 99/100] Loss_D: 0.2523, Loss_G: 4.9849\n",
            "[Epoch 100/100] Loss_D: 0.2540, Loss_G: 4.9669\n",
            "Training completed in 132 min 28 sec.\n"
          ]
        }
      ]
    },
    {
      "cell_type": "code",
      "source": [
        "# Plot and save loss curve\n",
        "metrics_path = os.path.join(exp_path, \"metrics\", \"losses.csv\")\n",
        "loss_D_log = []\n",
        "loss_G_log = []\n",
        "\n",
        "# Load logs\n",
        "if os.path.exists(metrics_path):\n",
        "    import pandas as pd\n",
        "    df = pd.read_csv(metrics_path)\n",
        "    loss_D_log = list(df[\"loss_D\"])\n",
        "    loss_G_log = list(df[\"loss_G\"])\n",
        "    print(f\"Loaded loss logs for {len(loss_D_log)} epochs from {metrics_path}\")\n",
        "else:\n",
        "    print(f\"No previous loss logs found. Starting fresh.\")\n",
        "\n",
        "epochs = list(range(1, len(loss_D_log) + 1))\n",
        "plt.figure(figsize=(10, 5))\n",
        "plt.plot(epochs, loss_D_log, label=\"Discriminator Loss\")\n",
        "plt.plot(epochs, loss_G_log, label=\"Generator Loss\")\n",
        "plt.xlabel(\"Epoch\", fontsize=12)\n",
        "plt.ylabel(\"Loss\", fontsize=12)\n",
        "plt.title(f\"Training Loss Curve ({experiment_id})\")\n",
        "plt.legend()\n",
        "plt.grid(True)\n",
        "plt.ylim(0, 7)\n",
        "plt.tight_layout()\n",
        "\n",
        "plot_path = os.path.join(exp_path, \"metrics\", \"loss_curve.png\")\n",
        "plt.savefig(plot_path)\n",
        "plt.close()\n",
        "print(f\"Loss curve saved: {plot_path}\")"
      ],
      "metadata": {
        "colab": {
          "base_uri": "https://localhost:8080/"
        },
        "id": "Fiq75ppdtpeR",
        "outputId": "80541d16-b93c-45f5-b92d-127c05fcf595"
      },
      "execution_count": null,
      "outputs": [
        {
          "output_type": "stream",
          "name": "stdout",
          "text": [
            "Loaded loss logs for 100 epochs from /content/drive/MyDrive/GAN_Research/E4_L2_GenW/metrics/losses.csv\n",
            "Loss curve saved: /content/drive/MyDrive/GAN_Research/E4_L2_GenW/metrics/loss_curve.png\n"
          ]
        }
      ]
    },
    {
      "cell_type": "code",
      "source": [
        "# Evaluation: Save images, calculate FID & Inception Score\n",
        "\n",
        "eval_batch_size = 128\n",
        "num_eval_images = config[\"fid_samples\"]\n",
        "eval_image_size = config[\"image_size\"]\n",
        "real_dir = os.path.join(exp_path, \"eval_data\", \"real\")\n",
        "fake_dir = os.path.join(exp_path, \"eval_data\", \"fake\")\n",
        "\n",
        "# Clean eval_data folders\n",
        "for dir_ in [real_dir, fake_dir]:\n",
        "    for f in os.listdir(dir_):\n",
        "        os.remove(os.path.join(dir_, f))\n",
        "\n",
        "# Save real images\n",
        "def save_real_images():\n",
        "    transform_eval = transforms.Compose([\n",
        "        transforms.Resize(eval_image_size),\n",
        "        transforms.CenterCrop(eval_image_size),\n",
        "        transforms.ToTensor(),\n",
        "        transforms.Normalize((0.5,) * 3, (0.5,) * 3)\n",
        "    ])\n",
        "    eval_dataset = CIFAR10(root=\"./data\", train=True, download=True, transform=transform_eval)\n",
        "    eval_loader = DataLoader(eval_dataset, batch_size=eval_batch_size, shuffle=False)\n",
        "    i = 0\n",
        "    for imgs, _ in eval_loader:\n",
        "        for img in imgs:\n",
        "            save_image(img, f\"{real_dir}/{i}.png\", normalize=True)\n",
        "            i += 1\n",
        "            if i >= num_eval_images:\n",
        "                return\n",
        "\n",
        "# Save fake images\n",
        "def save_fake_images(generator):\n",
        "    generator.eval()\n",
        "    i = 0\n",
        "    with torch.no_grad():\n",
        "        for _ in tqdm(range(0, num_eval_images, eval_batch_size), desc=\"Generating fake\"):\n",
        "            curr_batch = min(eval_batch_size, num_eval_images - i)\n",
        "            noise = torch.randn(curr_batch, config[\"latent_dim\"], 1, 1, device=device)\n",
        "            fake_imgs = generator(noise).cpu()\n",
        "            for img in fake_imgs:\n",
        "                save_image(img, f\"{fake_dir}/{i}.png\", normalize=True)\n",
        "                i += 1\n",
        "                if i >= num_eval_images:\n",
        "                    return\n",
        "\n",
        "save_real_images()\n",
        "save_fake_images(G)\n",
        "\n",
        "# FID calculation\n",
        "metrics = calculate_metrics(\n",
        "    input1=real_dir,\n",
        "    input2=fake_dir,\n",
        "    cuda=torch.cuda.is_available(),\n",
        "    isc=False,\n",
        "    fid=True,\n",
        "    kid=False,\n",
        "    verbose=False\n",
        ")\n",
        "fid = metrics['frechet_inception_distance']\n",
        "\n",
        "# Inception Score\n",
        "class PNGImageFolder(torch.utils.data.Dataset):\n",
        "    def __init__(self, folder, transform=None):\n",
        "        self.paths = [os.path.join(folder, f) for f in sorted(os.listdir(folder)) if f.endswith('.png')]\n",
        "        self.transform = transform\n",
        "    def __len__(self): return len(self.paths)\n",
        "    def __getitem__(self, idx):\n",
        "        img = Image.open(self.paths[idx]).convert(\"RGB\")\n",
        "        if self.transform: img = self.transform(img)\n",
        "        return img\n",
        "\n",
        "def compute_inception_score(image_folder, splits=10):\n",
        "    transform = transforms.Compose([\n",
        "        transforms.Resize((299, 299)),\n",
        "        transforms.ToTensor()\n",
        "    ])\n",
        "    dataset = PNGImageFolder(image_folder, transform)\n",
        "    loader = DataLoader(dataset, batch_size=64, shuffle=False)\n",
        "    model = inception_v3(pretrained=True, transform_input=False).to(device)\n",
        "    model.eval()\n",
        "    preds = []\n",
        "    for imgs in loader:\n",
        "        imgs = imgs.to(device)\n",
        "        with torch.no_grad():\n",
        "            pred = model(imgs)\n",
        "            pred = F.softmax(pred, dim=1).cpu().numpy()\n",
        "        preds.append(pred)\n",
        "    preds = np.concatenate(preds, axis=0)\n",
        "    split_scores = []\n",
        "    for k in range(splits):\n",
        "        part = preds[k * (len(preds)//splits): (k+1)*(len(preds)//splits)]\n",
        "        py = np.mean(part, axis=0)\n",
        "        scores = [entropy(p, py) for p in part]\n",
        "        split_scores.append(np.exp(np.mean(scores)))\n",
        "    return float(np.mean(split_scores)), float(np.std(split_scores))\n",
        "\n",
        "mean_is, std_is = compute_inception_score(fake_dir)\n",
        "\n",
        "with open(os.path.join(exp_path, \"metrics\", \"eval_metrics.txt\"), \"w\") as f:\n",
        "    f.write(f\"FID: {fid:.4f}\\n\")\n",
        "    f.write(f\"Inception Score: {mean_is:.4f} ± {std_is:.4f}\\n\")\n",
        "\n",
        "print(f\"\\nFID: {fid:.4f}\")\n",
        "print(f\"Inception Score: {mean_is:.4f} ± {std_is:.4f}\")"
      ],
      "metadata": {
        "colab": {
          "base_uri": "https://localhost:8080/"
        },
        "id": "mGaEJSuXtpb3",
        "outputId": "ca7c4de3-0020-45e9-fd09-27894dee96e3"
      },
      "execution_count": null,
      "outputs": [
        {
          "output_type": "stream",
          "name": "stderr",
          "text": [
            "Generating fake:  99%|█████████▊| 78/79 [00:54<00:00,  1.42it/s]\n",
            "Downloading: \"https://github.com/toshas/torch-fidelity/releases/download/v0.2.0/weights-inception-2015-12-05-6726825d.pth\" to /root/.cache/torch/hub/checkpoints/weights-inception-2015-12-05-6726825d.pth\n",
            "100%|██████████| 91.2M/91.2M [00:00<00:00, 263MB/s]\n",
            "/usr/local/lib/python3.11/dist-packages/torch_fidelity/datasets.py:16: UserWarning: TypedStorage is deprecated. It will be removed in the future and UntypedStorage will be the only storage class. This should only matter to you if you are using storages directly.  To access UntypedStorage directly, use tensor.untyped_storage() instead of tensor.storage()\n",
            "  img = torch.ByteTensor(torch.ByteStorage.from_buffer(img.tobytes())).view(height, width, 3)\n",
            "/usr/local/lib/python3.11/dist-packages/torchvision/models/_utils.py:208: UserWarning: The parameter 'pretrained' is deprecated since 0.13 and may be removed in the future, please use 'weights' instead.\n",
            "  warnings.warn(\n",
            "/usr/local/lib/python3.11/dist-packages/torchvision/models/_utils.py:223: UserWarning: Arguments other than a weight enum or `None` for 'weights' are deprecated since 0.13 and may be removed in the future. The current behavior is equivalent to passing `weights=Inception_V3_Weights.IMAGENET1K_V1`. You can also use `weights=Inception_V3_Weights.DEFAULT` to get the most up-to-date weights.\n",
            "  warnings.warn(msg)\n",
            "Downloading: \"https://download.pytorch.org/models/inception_v3_google-0cc3c7bd.pth\" to /root/.cache/torch/hub/checkpoints/inception_v3_google-0cc3c7bd.pth\n",
            "100%|██████████| 104M/104M [00:00<00:00, 256MB/s] \n"
          ]
        },
        {
          "output_type": "stream",
          "name": "stdout",
          "text": [
            "\n",
            "FID: 49.5931\n",
            "Inception Score: 3.4440 ± 0.0575\n"
          ]
        }
      ]
    },
    {
      "cell_type": "markdown",
      "source": [
        "### E5_L1_DiscW"
      ],
      "metadata": {
        "id": "zra1o9OEueXO"
      }
    },
    {
      "cell_type": "code",
      "source": [
        "# E5_L1_DiscW: L1 Regularization on Discriminator Weights\n",
        "\n",
        "# Experiment Configuration\n",
        "experiment_id = \"E5_L1_DiscW\"\n",
        "\n",
        "config = config.copy()\n",
        "config.update({\n",
        "    \"experiment_id\": experiment_id,\n",
        "    \"regularization_type\": \"L1\",\n",
        "    \"regularization_lambda_L1\": 0.0001,\n",
        "    \"regularization_lambda_L2\": 0.0,\n",
        "    \"regularization_placement\": \"discriminator_weights_early\",\n",
        "})"
      ],
      "metadata": {
        "id": "qNS6ICFLtpY9"
      },
      "execution_count": null,
      "outputs": []
    },
    {
      "cell_type": "code",
      "source": [
        "# Prepare experiment folders\n",
        "exp_path = os.path.join(ROOT_DIR, experiment_id)\n",
        "for subfolder in [\"images\", \"metrics\", \"eval_data/real\", \"eval_data/fake\"]:\n",
        "    os.makedirs(os.path.join(exp_path, subfolder), exist_ok=True)"
      ],
      "metadata": {
        "id": "liwlBO8StpWt"
      },
      "execution_count": null,
      "outputs": []
    },
    {
      "cell_type": "code",
      "source": [
        "# Save config\n",
        "config_path = os.path.join(exp_path, \"config_manual.txt\")\n",
        "with open(config_path, \"w\") as f:\n",
        "    for k, v in config.items():\n",
        "        f.write(f\"{k}: {v}\\n\")\n",
        "print(f\"Configuration saved: {config_path}\")"
      ],
      "metadata": {
        "colab": {
          "base_uri": "https://localhost:8080/"
        },
        "id": "6feZTLQitpUC",
        "outputId": "cdfa4a9f-d3e0-41d3-dabf-71697110608d"
      },
      "execution_count": null,
      "outputs": [
        {
          "output_type": "stream",
          "name": "stdout",
          "text": [
            "Configuration saved: /content/drive/MyDrive/GAN_Research/E5_L1_DiscW/config_manual.txt\n"
          ]
        }
      ]
    },
    {
      "cell_type": "code",
      "source": [
        "# Prepare fixed noise\n",
        "num_fixed_samples = 64\n",
        "latent_dim = config[\"latent_dim\"]\n",
        "device = torch.device(config[\"device\"])\n",
        "fixed_noise = torch.randn(num_fixed_samples, latent_dim, 1, 1, device=device)\n",
        "torch.save(fixed_noise, os.path.join(exp_path, \"fixed_noise.pt\"))"
      ],
      "metadata": {
        "id": "3sRP29wftpRz"
      },
      "execution_count": null,
      "outputs": []
    },
    {
      "cell_type": "code",
      "source": [
        "# Initialize models\n",
        "G = Generator(latent_dim=latent_dim).to(device)\n",
        "D = Discriminator().to(device)\n",
        "G.apply(weights_init)\n",
        "D.apply(weights_init)\n",
        "print(f\"Generator and Discriminator initialized for {experiment_id}\")"
      ],
      "metadata": {
        "colab": {
          "base_uri": "https://localhost:8080/"
        },
        "id": "rTZohBs6tpPY",
        "outputId": "0cd9ff11-8ee4-4f0a-d418-f620d52f2a5d"
      },
      "execution_count": null,
      "outputs": [
        {
          "output_type": "stream",
          "name": "stdout",
          "text": [
            "Generator and Discriminator initialized for E5_L1_DiscW\n"
          ]
        }
      ]
    },
    {
      "cell_type": "code",
      "source": [
        "# Define loss and optimizers\n",
        "criterion = nn.BCELoss()\n",
        "optimizer_G = optim.Adam(G.parameters(), lr=config[\"learning_rate\"], betas=(config[\"beta1\"], 0.999))\n",
        "optimizer_D = optim.Adam(D.parameters(), lr=config[\"learning_rate\"], betas=(config[\"beta1\"], 0.999))"
      ],
      "metadata": {
        "id": "YHHy2k1ZtpNA"
      },
      "execution_count": null,
      "outputs": []
    },
    {
      "cell_type": "code",
      "source": [
        "# Checkpointing\n",
        "checkpoint_path = os.path.join(exp_path, \"checkpoint.pt\")\n",
        "start_epoch = 1\n",
        "if os.path.exists(checkpoint_path):\n",
        "    checkpoint = torch.load(checkpoint_path, map_location=device)\n",
        "    G.load_state_dict(checkpoint[\"G_state_dict\"])\n",
        "    D.load_state_dict(checkpoint[\"D_state_dict\"])\n",
        "    optimizer_G.load_state_dict(checkpoint[\"optimizer_G\"])\n",
        "    optimizer_D.load_state_dict(checkpoint[\"optimizer_D\"])\n",
        "    start_epoch = checkpoint[\"epoch\"] + 1\n",
        "    print(f\"Resumed from checkpoint epoch {checkpoint['epoch']}\")\n",
        "else:\n",
        "    print(\"Starting from scratch.\")"
      ],
      "metadata": {
        "colab": {
          "base_uri": "https://localhost:8080/"
        },
        "id": "aPv3NqL1tpKn",
        "outputId": "508dee11-040d-4ff8-f872-5f896d7e12be"
      },
      "execution_count": null,
      "outputs": [
        {
          "output_type": "stream",
          "name": "stdout",
          "text": [
            "Starting from scratch.\n"
          ]
        }
      ]
    },
    {
      "cell_type": "code",
      "source": [
        "# Training Loop\n",
        "metrics_path = os.path.join(exp_path, \"metrics\", \"losses.csv\")\n",
        "loss_D_log = []\n",
        "loss_G_log = []\n",
        "\n",
        "# Load previous loss logs (for continuation in Colab runtime)\n",
        "if os.path.exists(metrics_path):\n",
        "    df_prev = pd.read_csv(metrics_path)\n",
        "    loss_D_log = list(df_prev[\"loss_D\"])\n",
        "    loss_G_log = list(df_prev[\"loss_G\"])\n",
        "    print(f\"Loaded previous loss logs for {len(loss_D_log)} epochs.\")\n",
        "else:\n",
        "    print(\"No previous loss logs found. Starting fresh.\")\n",
        "\n",
        "training_start_time = time.time()\n",
        "\n",
        "for epoch in range(start_epoch, config[\"num_epochs\"] + 1):\n",
        "    loss_D_epoch = 0.0\n",
        "    loss_G_epoch = 0.0\n",
        "\n",
        "    for real_imgs, _ in dataloader:\n",
        "        real_imgs = real_imgs.to(device)\n",
        "        batch_size = real_imgs.size(0)\n",
        "\n",
        "        # Train Discriminator\n",
        "        optimizer_D.zero_grad()\n",
        "        real_labels = torch.ones(batch_size, device=device)\n",
        "        fake_labels = torch.zeros(batch_size, device=device)\n",
        "\n",
        "        output_real = D(real_imgs).view(-1)\n",
        "        loss_real = criterion(output_real, real_labels)\n",
        "\n",
        "        noise = torch.randn(batch_size, latent_dim, 1, 1, device=device)\n",
        "        fake_imgs = G(noise).detach()\n",
        "        output_fake = D(fake_imgs).view(-1)\n",
        "        loss_fake = criterion(output_fake, fake_labels)\n",
        "\n",
        "        loss_D = loss_real + loss_fake\n",
        "\n",
        "        # Add L1 regularization on early discriminator conv layers\n",
        "        # Penalize absolute values of weights in the first two Conv2d layers of D\n",
        "        if config[\"regularization_type\"] == \"L1\" and config[\"regularization_placement\"] == \"discriminator_weights_early\":\n",
        "            l1_reg = torch.tensor(0., device=device)\n",
        "            conv_count = 0\n",
        "            for module in D.modules():\n",
        "                if isinstance(module, nn.Conv2d):\n",
        "                    l1_reg += torch.sum(torch.abs(module.weight))\n",
        "                    conv_count += 1\n",
        "                    if conv_count == 2:\n",
        "                        break\n",
        "            loss_D += config[\"regularization_lambda_L1\"] * l1_reg\n",
        "\n",
        "        loss_D.backward()\n",
        "        optimizer_D.step()\n",
        "\n",
        "        # Train Generator\n",
        "        optimizer_G.zero_grad()\n",
        "        noise = torch.randn(batch_size, latent_dim, 1, 1, device=device)\n",
        "        fake_imgs = G(noise)\n",
        "        output = D(fake_imgs).view(-1)\n",
        "        loss_G = criterion(output, real_labels)\n",
        "        loss_G.backward()\n",
        "        optimizer_G.step()\n",
        "\n",
        "        loss_D_epoch += loss_D.item()\n",
        "        loss_G_epoch += loss_G.item()\n",
        "\n",
        "    # Logging\n",
        "    avg_D = loss_D_epoch / len(dataloader)\n",
        "    avg_G = loss_G_epoch / len(dataloader)\n",
        "    loss_D_log.append(avg_D)\n",
        "    loss_G_log.append(avg_G)\n",
        "    print(f\"[Epoch {epoch}/{config['num_epochs']}] Loss_D: {avg_D:.4f}, Loss_G: {avg_G:.4f}\")\n",
        "\n",
        "    # Save image\n",
        "    if epoch % config[\"save_images_every\"] == 0 or epoch == 1:\n",
        "        with torch.no_grad():\n",
        "            fake_imgs = G(fixed_noise).detach().cpu()\n",
        "            img_path = os.path.join(exp_path, \"images\", f\"epoch_{epoch:03}.png\")\n",
        "            vutils.save_image(fake_imgs, img_path, normalize=True, nrow=8)\n",
        "\n",
        "    # Save checkpoint\n",
        "    if epoch % 10 == 0 or epoch == config[\"num_epochs\"]:\n",
        "        torch.save({\n",
        "            \"epoch\": epoch,\n",
        "            \"G_state_dict\": G.state_dict(),\n",
        "            \"D_state_dict\": D.state_dict(),\n",
        "            \"optimizer_G\": optimizer_G.state_dict(),\n",
        "            \"optimizer_D\": optimizer_D.state_dict(),\n",
        "        }, checkpoint_path)\n",
        "\n",
        "    # Save loss CSV\n",
        "    metrics_path = os.path.join(exp_path, \"metrics\", \"losses.csv\")\n",
        "    with open(metrics_path, \"w\") as f:\n",
        "        f.write(\"epoch,loss_D,loss_G\\n\")\n",
        "        for i in range(len(loss_D_log)):\n",
        "            f.write(f\"{i+1},{loss_D_log[i]},{loss_G_log[i]}\\n\")\n",
        "\n",
        "# Training Time\n",
        "total_sec = time.time() - training_start_time\n",
        "mins, secs = int(total_sec // 60), int(total_sec % 60)\n",
        "with open(os.path.join(exp_path, \"training_time.txt\"), \"w\") as f:\n",
        "    f.write(f\"Total training time: {mins} min {secs} sec\\n\")\n",
        "print(f\"Training completed in {mins} min {secs} sec.\")"
      ],
      "metadata": {
        "colab": {
          "base_uri": "https://localhost:8080/"
        },
        "id": "-z6Po8CLtpIS",
        "outputId": "17041a51-b68d-4e4e-cf8b-019cc21e7c6e"
      },
      "execution_count": null,
      "outputs": [
        {
          "output_type": "stream",
          "name": "stdout",
          "text": [
            "No previous loss logs found. Starting fresh.\n",
            "[Epoch 1/100] Loss_D: 0.7723, Loss_G: 2.3897\n",
            "[Epoch 2/100] Loss_D: 1.0435, Loss_G: 2.4706\n",
            "[Epoch 3/100] Loss_D: 1.1534, Loss_G: 1.9697\n",
            "[Epoch 4/100] Loss_D: 1.1888, Loss_G: 1.9638\n",
            "[Epoch 5/100] Loss_D: 1.2420, Loss_G: 1.7169\n",
            "[Epoch 6/100] Loss_D: 1.2945, Loss_G: 1.5254\n",
            "[Epoch 7/100] Loss_D: 1.2809, Loss_G: 1.4888\n",
            "[Epoch 8/100] Loss_D: 1.2293, Loss_G: 1.6433\n",
            "[Epoch 9/100] Loss_D: 1.1880, Loss_G: 1.6641\n",
            "[Epoch 10/100] Loss_D: 1.1429, Loss_G: 1.7930\n",
            "[Epoch 11/100] Loss_D: 1.1497, Loss_G: 1.8602\n",
            "[Epoch 12/100] Loss_D: 1.1317, Loss_G: 1.7890\n",
            "[Epoch 13/100] Loss_D: 1.1330, Loss_G: 1.8340\n",
            "[Epoch 14/100] Loss_D: 1.1021, Loss_G: 1.8173\n",
            "[Epoch 15/100] Loss_D: 1.1093, Loss_G: 1.8425\n",
            "[Epoch 16/100] Loss_D: 1.0805, Loss_G: 1.8883\n",
            "[Epoch 17/100] Loss_D: 1.0576, Loss_G: 1.9824\n",
            "[Epoch 18/100] Loss_D: 1.0037, Loss_G: 2.0467\n",
            "[Epoch 19/100] Loss_D: 1.0086, Loss_G: 2.0495\n",
            "[Epoch 20/100] Loss_D: 1.0121, Loss_G: 2.1041\n",
            "[Epoch 21/100] Loss_D: 0.9671, Loss_G: 2.2257\n",
            "[Epoch 22/100] Loss_D: 0.9218, Loss_G: 2.1713\n",
            "[Epoch 23/100] Loss_D: 0.9194, Loss_G: 2.1996\n",
            "[Epoch 24/100] Loss_D: 0.8961, Loss_G: 2.3022\n",
            "[Epoch 25/100] Loss_D: 0.9062, Loss_G: 2.3734\n",
            "[Epoch 26/100] Loss_D: 0.8745, Loss_G: 2.3571\n",
            "[Epoch 27/100] Loss_D: 0.8339, Loss_G: 2.4633\n",
            "[Epoch 28/100] Loss_D: 0.8458, Loss_G: 2.5163\n",
            "[Epoch 29/100] Loss_D: 0.8284, Loss_G: 2.5689\n",
            "[Epoch 30/100] Loss_D: 0.7827, Loss_G: 2.5866\n",
            "[Epoch 31/100] Loss_D: 0.7893, Loss_G: 2.5574\n",
            "[Epoch 32/100] Loss_D: 0.7927, Loss_G: 2.7204\n",
            "[Epoch 33/100] Loss_D: 0.7691, Loss_G: 2.6945\n",
            "[Epoch 34/100] Loss_D: 0.7192, Loss_G: 2.7839\n",
            "[Epoch 35/100] Loss_D: 0.7354, Loss_G: 2.7677\n",
            "[Epoch 36/100] Loss_D: 0.7385, Loss_G: 2.8299\n",
            "[Epoch 37/100] Loss_D: 0.7070, Loss_G: 2.9815\n",
            "[Epoch 38/100] Loss_D: 0.7065, Loss_G: 2.9577\n",
            "[Epoch 39/100] Loss_D: 0.6820, Loss_G: 2.9848\n",
            "[Epoch 40/100] Loss_D: 0.6799, Loss_G: 2.9865\n",
            "[Epoch 41/100] Loss_D: 0.6831, Loss_G: 3.0987\n",
            "[Epoch 42/100] Loss_D: 0.6517, Loss_G: 3.0905\n",
            "[Epoch 43/100] Loss_D: 0.7054, Loss_G: 3.0959\n",
            "[Epoch 44/100] Loss_D: 0.6630, Loss_G: 3.1776\n",
            "[Epoch 45/100] Loss_D: 0.6322, Loss_G: 3.2782\n",
            "[Epoch 46/100] Loss_D: 0.6540, Loss_G: 3.2477\n",
            "[Epoch 47/100] Loss_D: 0.6220, Loss_G: 3.3376\n",
            "[Epoch 48/100] Loss_D: 0.6508, Loss_G: 3.2498\n",
            "[Epoch 49/100] Loss_D: 0.5820, Loss_G: 3.4298\n",
            "[Epoch 50/100] Loss_D: 0.5970, Loss_G: 3.4055\n",
            "[Epoch 51/100] Loss_D: 0.6184, Loss_G: 3.3536\n",
            "[Epoch 52/100] Loss_D: 0.5945, Loss_G: 3.4758\n",
            "[Epoch 53/100] Loss_D: 0.5414, Loss_G: 3.6154\n",
            "[Epoch 54/100] Loss_D: 0.5828, Loss_G: 3.5833\n",
            "[Epoch 55/100] Loss_D: 0.5993, Loss_G: 3.6210\n",
            "[Epoch 56/100] Loss_D: 0.5599, Loss_G: 3.6306\n",
            "[Epoch 57/100] Loss_D: 0.5789, Loss_G: 3.5604\n",
            "[Epoch 58/100] Loss_D: 0.5878, Loss_G: 3.7185\n",
            "[Epoch 59/100] Loss_D: 0.4666, Loss_G: 3.6414\n",
            "[Epoch 60/100] Loss_D: 0.6059, Loss_G: 3.6882\n",
            "[Epoch 61/100] Loss_D: 0.5629, Loss_G: 3.7107\n",
            "[Epoch 62/100] Loss_D: 0.5057, Loss_G: 3.8445\n",
            "[Epoch 63/100] Loss_D: 0.5439, Loss_G: 3.7816\n",
            "[Epoch 64/100] Loss_D: 0.5625, Loss_G: 3.7601\n",
            "[Epoch 65/100] Loss_D: 0.5671, Loss_G: 3.6651\n",
            "[Epoch 66/100] Loss_D: 0.4947, Loss_G: 3.8912\n",
            "[Epoch 67/100] Loss_D: 0.5492, Loss_G: 3.8968\n",
            "[Epoch 68/100] Loss_D: 0.5010, Loss_G: 3.8143\n",
            "[Epoch 69/100] Loss_D: 0.5363, Loss_G: 3.9080\n",
            "[Epoch 70/100] Loss_D: 0.5540, Loss_G: 3.8719\n",
            "[Epoch 71/100] Loss_D: 0.4993, Loss_G: 4.0388\n",
            "[Epoch 72/100] Loss_D: 0.4422, Loss_G: 4.0675\n",
            "[Epoch 73/100] Loss_D: 0.5423, Loss_G: 3.9468\n",
            "[Epoch 74/100] Loss_D: 0.5200, Loss_G: 4.0078\n",
            "[Epoch 75/100] Loss_D: 0.4973, Loss_G: 4.0885\n",
            "[Epoch 76/100] Loss_D: 0.4630, Loss_G: 4.0525\n",
            "[Epoch 77/100] Loss_D: 0.5554, Loss_G: 4.1804\n",
            "[Epoch 78/100] Loss_D: 0.4620, Loss_G: 4.0145\n",
            "[Epoch 79/100] Loss_D: 0.4640, Loss_G: 4.1525\n",
            "[Epoch 80/100] Loss_D: 0.4614, Loss_G: 4.4291\n",
            "[Epoch 81/100] Loss_D: 0.4829, Loss_G: 4.3471\n",
            "[Epoch 82/100] Loss_D: 0.5064, Loss_G: 4.2587\n",
            "[Epoch 83/100] Loss_D: 0.4632, Loss_G: 4.2342\n",
            "[Epoch 84/100] Loss_D: 0.4484, Loss_G: 4.5170\n",
            "[Epoch 85/100] Loss_D: 0.5059, Loss_G: 4.1942\n",
            "[Epoch 86/100] Loss_D: 0.4666, Loss_G: 4.2264\n",
            "[Epoch 87/100] Loss_D: 0.4217, Loss_G: 4.3468\n",
            "[Epoch 88/100] Loss_D: 0.4988, Loss_G: 4.4243\n",
            "[Epoch 89/100] Loss_D: 0.4291, Loss_G: 4.3719\n",
            "[Epoch 90/100] Loss_D: 0.4456, Loss_G: 4.3641\n",
            "[Epoch 91/100] Loss_D: 0.4890, Loss_G: 4.4877\n",
            "[Epoch 92/100] Loss_D: 0.4438, Loss_G: 4.4877\n",
            "[Epoch 93/100] Loss_D: 0.4526, Loss_G: 4.3763\n",
            "[Epoch 94/100] Loss_D: 0.4830, Loss_G: 4.5545\n",
            "[Epoch 95/100] Loss_D: 0.4563, Loss_G: 4.5383\n",
            "[Epoch 96/100] Loss_D: 0.3856, Loss_G: 4.5120\n",
            "[Epoch 97/100] Loss_D: 0.4294, Loss_G: 4.7210\n",
            "[Epoch 98/100] Loss_D: 0.4611, Loss_G: 4.3861\n",
            "[Epoch 99/100] Loss_D: 0.4625, Loss_G: 4.4219\n",
            "[Epoch 100/100] Loss_D: 0.4629, Loss_G: 4.3795\n",
            "Training completed in 133 min 29 sec.\n"
          ]
        }
      ]
    },
    {
      "cell_type": "code",
      "source": [
        "# Plot and save loss curve\n",
        "metrics_path = os.path.join(exp_path, \"metrics\", \"losses.csv\")\n",
        "loss_D_log = []\n",
        "loss_G_log = []\n",
        "\n",
        "if os.path.exists(metrics_path):\n",
        "    import pandas as pd\n",
        "    df = pd.read_csv(metrics_path)\n",
        "    loss_D_log = list(df[\"loss_D\"])\n",
        "    loss_G_log = list(df[\"loss_G\"])\n",
        "    print(f\"Loaded loss logs for {len(loss_D_log)} epochs from {metrics_path}\")\n",
        "else:\n",
        "    print(\"No previous loss logs found. Starting fresh.\")\n",
        "\n",
        "epochs = list(range(1, len(loss_D_log) + 1))\n",
        "plt.figure(figsize=(10, 5))\n",
        "plt.plot(epochs, loss_D_log, label=\"Discriminator Loss\")\n",
        "plt.plot(epochs, loss_G_log, label=\"Generator Loss\")\n",
        "plt.xlabel(\"Epoch\", fontsize=12)\n",
        "plt.ylabel(\"Loss\", fontsize=12)\n",
        "plt.title(f\"Training Loss Curve ({experiment_id})\")\n",
        "plt.legend()\n",
        "plt.grid(True)\n",
        "plt.ylim(0, 7)\n",
        "plt.tight_layout()\n",
        "\n",
        "plot_path = os.path.join(exp_path, \"metrics\", \"loss_curve.png\")\n",
        "plt.savefig(plot_path)\n",
        "plt.close()\n",
        "print(f\"Loss curve saved: {plot_path}\")"
      ],
      "metadata": {
        "colab": {
          "base_uri": "https://localhost:8080/"
        },
        "id": "p4qHagbptpGF",
        "outputId": "78e2e2e4-6f3c-4504-cf70-93b182ee6fc3"
      },
      "execution_count": null,
      "outputs": [
        {
          "output_type": "stream",
          "name": "stdout",
          "text": [
            "Loaded loss logs for 100 epochs from /content/drive/MyDrive/GAN_Research/E5_L1_DiscW/metrics/losses.csv\n",
            "Loss curve saved: /content/drive/MyDrive/GAN_Research/E5_L1_DiscW/metrics/loss_curve.png\n"
          ]
        }
      ]
    },
    {
      "cell_type": "code",
      "source": [
        "# Evaluation: FID and Inception Score\n",
        "eval_batch_size = 128\n",
        "num_eval_images = config[\"fid_samples\"]\n",
        "eval_image_size = config[\"image_size\"]\n",
        "real_dir = os.path.join(exp_path, \"eval_data\", \"real\")\n",
        "fake_dir = os.path.join(exp_path, \"eval_data\", \"fake\")\n",
        "\n",
        "# Clean eval_data folders\n",
        "for dir_ in [real_dir, fake_dir]:\n",
        "    for f in os.listdir(dir_):\n",
        "        os.remove(os.path.join(dir_, f))\n",
        "\n",
        "# Save real images\n",
        "def save_real_images():\n",
        "    transform_eval = transforms.Compose([\n",
        "        transforms.Resize(eval_image_size),\n",
        "        transforms.CenterCrop(eval_image_size),\n",
        "        transforms.ToTensor(),\n",
        "        transforms.Normalize((0.5,)*3, (0.5,)*3)\n",
        "    ])\n",
        "    eval_dataset = datasets.CIFAR10(root=\"./data\", train=True, download=True, transform=transform_eval)\n",
        "    eval_loader = DataLoader(eval_dataset, batch_size=eval_batch_size, shuffle=False)\n",
        "    i = 0\n",
        "    for imgs, _ in eval_loader:\n",
        "        for img in imgs:\n",
        "            save_image(img, f\"{real_dir}/{i}.png\", normalize=True)\n",
        "            i += 1\n",
        "            if i >= num_eval_images:\n",
        "                return\n",
        "\n",
        "# Save fake images\n",
        "def save_fake_images(generator):\n",
        "    generator.eval()\n",
        "    i = 0\n",
        "    with torch.no_grad():\n",
        "        for _ in tqdm(range(0, num_eval_images, eval_batch_size), desc=\"Generating fake\"):\n",
        "            curr_batch = min(eval_batch_size, num_eval_images - i)\n",
        "            noise = torch.randn(curr_batch, config[\"latent_dim\"], 1, 1, device=device)\n",
        "            fake_imgs = generator(noise).cpu()\n",
        "            for img in fake_imgs:\n",
        "                save_image(img, f\"{fake_dir}/{i}.png\", normalize=True)\n",
        "                i += 1\n",
        "                if i >= num_eval_images: return\n",
        "\n",
        "save_real_images()\n",
        "save_fake_images(G)\n",
        "\n",
        "# FID Calculation\n",
        "metrics = calculate_metrics(\n",
        "    input1=real_dir,\n",
        "    input2=fake_dir,\n",
        "    cuda=torch.cuda.is_available(),\n",
        "    isc=False,\n",
        "    fid=True,\n",
        "    kid=False,\n",
        "    verbose=False\n",
        ")\n",
        "fid = metrics['frechet_inception_distance']\n",
        "\n",
        "# IS Calculation\n",
        "class PNGImageFolder(torch.utils.data.Dataset):\n",
        "    def __init__(self, folder, transform=None):\n",
        "        self.paths = [os.path.join(folder, f) for f in sorted(os.listdir(folder)) if f.endswith('.png')]\n",
        "        self.transform = transform\n",
        "    def __len__(self): return len(self.paths)\n",
        "    def __getitem__(self, idx):\n",
        "        img = Image.open(self.paths[idx]).convert(\"RGB\")\n",
        "        if self.transform: img = self.transform(img)\n",
        "        return img\n",
        "\n",
        "def compute_inception_score(image_folder, splits=10):\n",
        "    transform = transforms.Compose([\n",
        "        transforms.Resize((299, 299)),\n",
        "        transforms.ToTensor()\n",
        "    ])\n",
        "    dataset = PNGImageFolder(image_folder, transform)\n",
        "    loader = DataLoader(dataset, batch_size=64, shuffle=False)\n",
        "    model = inception_v3(pretrained=True, transform_input=False).to(device)\n",
        "    model.eval()\n",
        "    preds = []\n",
        "    for imgs in loader:\n",
        "        imgs = imgs.to(device)\n",
        "        with torch.no_grad():\n",
        "            pred = model(imgs)\n",
        "            pred = F.softmax(pred, dim=1).cpu().numpy()\n",
        "        preds.append(pred)\n",
        "    preds = np.concatenate(preds, axis=0)\n",
        "    split_scores = []\n",
        "    for k in range(splits):\n",
        "        part = preds[k * (len(preds)//splits): (k+1)*(len(preds)//splits)]\n",
        "        py = np.mean(part, axis=0)\n",
        "        scores = [entropy(p, py) for p in part]\n",
        "        split_scores.append(np.exp(np.mean(scores)))\n",
        "    return float(np.mean(split_scores)), float(np.std(split_scores))\n",
        "\n",
        "mean_is, std_is = compute_inception_score(fake_dir)\n",
        "\n",
        "with open(os.path.join(exp_path, \"metrics\", \"eval_metrics.txt\"), \"w\") as f:\n",
        "    f.write(f\"FID: {fid:.4f}\\n\")\n",
        "    f.write(f\"Inception Score: {mean_is:.4f} ± {std_is:.4f}\\n\")\n",
        "\n",
        "print(f\"\\nFID: {fid:.4f}\")\n",
        "print(f\"Inception Score: {mean_is:.4f} ± {std_is:.4f}\")"
      ],
      "metadata": {
        "colab": {
          "base_uri": "https://localhost:8080/"
        },
        "id": "9gP2W621tpDm",
        "outputId": "535072c0-550d-4a7e-df26-acd774424083"
      },
      "execution_count": null,
      "outputs": [
        {
          "output_type": "stream",
          "name": "stderr",
          "text": [
            "Generating fake:  99%|█████████▊| 78/79 [00:56<00:00,  1.39it/s]\n",
            "/usr/local/lib/python3.11/dist-packages/torchvision/models/_utils.py:208: UserWarning: The parameter 'pretrained' is deprecated since 0.13 and may be removed in the future, please use 'weights' instead.\n",
            "  warnings.warn(\n",
            "/usr/local/lib/python3.11/dist-packages/torchvision/models/_utils.py:223: UserWarning: Arguments other than a weight enum or `None` for 'weights' are deprecated since 0.13 and may be removed in the future. The current behavior is equivalent to passing `weights=Inception_V3_Weights.IMAGENET1K_V1`. You can also use `weights=Inception_V3_Weights.DEFAULT` to get the most up-to-date weights.\n",
            "  warnings.warn(msg)\n"
          ]
        },
        {
          "output_type": "stream",
          "name": "stdout",
          "text": [
            "\n",
            "FID: 44.5129\n",
            "Inception Score: 3.4408 ± 0.0959\n"
          ]
        }
      ]
    },
    {
      "cell_type": "markdown",
      "source": [
        "### E5_L2_DiscW"
      ],
      "metadata": {
        "id": "UOIptN4QuyCI"
      }
    },
    {
      "cell_type": "code",
      "source": [
        "# E5_L2_DiscW: L2 Regularization on Discriminator Weights\n",
        "\n",
        "# Experiment Configuration\n",
        "experiment_id = \"E5_L2_DiscW\"\n",
        "\n",
        "config = config.copy()\n",
        "config.update({\n",
        "    \"experiment_id\": experiment_id,\n",
        "    \"regularization_type\": \"L2\",\n",
        "    \"regularization_lambda_L1\": 0.0,\n",
        "    \"regularization_lambda_L2\": 0.001,\n",
        "    \"regularization_placement\": \"discriminator_weights_late\",\n",
        "})"
      ],
      "metadata": {
        "id": "8ySJE3m2tpBa"
      },
      "execution_count": null,
      "outputs": []
    },
    {
      "cell_type": "code",
      "source": [
        "# Prepare experiment folders\n",
        "exp_path = os.path.join(ROOT_DIR, experiment_id)\n",
        "for subfolder in [\"images\", \"metrics\", \"eval_data/real\", \"eval_data/fake\"]:\n",
        "    os.makedirs(os.path.join(exp_path, subfolder), exist_ok=True)"
      ],
      "metadata": {
        "id": "l1aLx8BIto_N"
      },
      "execution_count": null,
      "outputs": []
    },
    {
      "cell_type": "code",
      "source": [
        "# Save config\n",
        "config_path = os.path.join(exp_path, \"config_manual.txt\")\n",
        "with open(config_path, \"w\") as f:\n",
        "    for k, v in config.items():\n",
        "        f.write(f\"{k}: {v}\\n\")\n",
        "print(f\"Configuration saved: {config_path}\")"
      ],
      "metadata": {
        "colab": {
          "base_uri": "https://localhost:8080/"
        },
        "id": "UbDtgl-Lto84",
        "outputId": "65329c6e-36a3-4d66-ce4c-9b6fa8c18383"
      },
      "execution_count": null,
      "outputs": [
        {
          "output_type": "stream",
          "name": "stdout",
          "text": [
            "Configuration saved: /content/drive/MyDrive/GAN_Research/E5_L2_DiscW/config_manual.txt\n"
          ]
        }
      ]
    },
    {
      "cell_type": "code",
      "source": [
        "# Prepare fixed noise\n",
        "num_fixed_samples = 64\n",
        "latent_dim = config[\"latent_dim\"]\n",
        "device = torch.device(config[\"device\"])\n",
        "fixed_noise = torch.randn(num_fixed_samples, latent_dim, 1, 1, device=device)\n",
        "torch.save(fixed_noise, os.path.join(exp_path, \"fixed_noise.pt\"))"
      ],
      "metadata": {
        "id": "xAKiyR45to6k"
      },
      "execution_count": null,
      "outputs": []
    },
    {
      "cell_type": "code",
      "source": [
        "# Initialize models\n",
        "G = Generator(latent_dim=latent_dim).to(device)\n",
        "D = Discriminator().to(device)\n",
        "G.apply(weights_init)\n",
        "D.apply(weights_init)\n",
        "print(f\"Generator and Discriminator initialized for {experiment_id}\")"
      ],
      "metadata": {
        "colab": {
          "base_uri": "https://localhost:8080/"
        },
        "id": "pm__hJtlto4n",
        "outputId": "2f008d17-30e7-43fb-da4e-08402d3f125a"
      },
      "execution_count": null,
      "outputs": [
        {
          "output_type": "stream",
          "name": "stdout",
          "text": [
            "Generator and Discriminator initialized for E5_L2_DiscW\n"
          ]
        }
      ]
    },
    {
      "cell_type": "code",
      "source": [
        "# Loss and optimizers\n",
        "criterion = nn.BCELoss()\n",
        "optimizer_G = optim.Adam(G.parameters(), lr=config[\"learning_rate\"], betas=(config[\"beta1\"], 0.999))\n",
        "optimizer_D = optim.Adam(D.parameters(), lr=config[\"learning_rate\"], betas=(config[\"beta1\"], 0.999))"
      ],
      "metadata": {
        "id": "oIOTym_8to2P"
      },
      "execution_count": null,
      "outputs": []
    },
    {
      "cell_type": "code",
      "source": [
        "# Checkpointing\n",
        "checkpoint_path = os.path.join(exp_path, \"checkpoint.pt\")\n",
        "start_epoch = 1\n",
        "if os.path.exists(checkpoint_path):\n",
        "    checkpoint = torch.load(checkpoint_path, map_location=device)\n",
        "    G.load_state_dict(checkpoint[\"G_state_dict\"])\n",
        "    D.load_state_dict(checkpoint[\"D_state_dict\"])\n",
        "    optimizer_G.load_state_dict(checkpoint[\"optimizer_G\"])\n",
        "    optimizer_D.load_state_dict(checkpoint[\"optimizer_D\"])\n",
        "    start_epoch = checkpoint[\"epoch\"] + 1\n",
        "    print(f\"Resumed from checkpoint epoch {checkpoint['epoch']}\")\n",
        "else:\n",
        "    print(\"Starting from scratch.\")"
      ],
      "metadata": {
        "colab": {
          "base_uri": "https://localhost:8080/"
        },
        "id": "JuIKK4HKtozw",
        "outputId": "7d4e3c78-3f44-4a44-9bec-bb196b723915"
      },
      "execution_count": null,
      "outputs": [
        {
          "output_type": "stream",
          "name": "stdout",
          "text": [
            "Starting from scratch.\n"
          ]
        }
      ]
    },
    {
      "cell_type": "code",
      "source": [
        "# Training Loop\n",
        "metrics_path = os.path.join(exp_path, \"metrics\", \"losses.csv\")\n",
        "loss_D_log = []\n",
        "loss_G_log = []\n",
        "\n",
        "# Load previous loss logs (for continuation in Colab runtime)\n",
        "if os.path.exists(metrics_path):\n",
        "    df_prev = pd.read_csv(metrics_path)\n",
        "    loss_D_log = list(df_prev[\"loss_D\"])\n",
        "    loss_G_log = list(df_prev[\"loss_G\"])\n",
        "    print(f\"Loaded previous loss logs for {len(loss_D_log)} epochs.\")\n",
        "else:\n",
        "    print(\"No previous loss logs found. Starting fresh.\")\n",
        "\n",
        "training_start_time = time.time()\n",
        "\n",
        "for epoch in range(start_epoch, config[\"num_epochs\"] + 1):\n",
        "    loss_D_epoch = 0.0\n",
        "    loss_G_epoch = 0.0\n",
        "\n",
        "    for real_imgs, _ in dataloader:\n",
        "        real_imgs = real_imgs.to(device)\n",
        "        batch_size = real_imgs.size(0)\n",
        "\n",
        "        # Train Discriminator\n",
        "        optimizer_D.zero_grad()\n",
        "        real_labels = torch.ones(batch_size, device=device)\n",
        "        fake_labels = torch.zeros(batch_size, device=device)\n",
        "\n",
        "        output_real = D(real_imgs).view(-1)\n",
        "        loss_real = criterion(output_real, real_labels)\n",
        "\n",
        "        noise = torch.randn(batch_size, config[\"latent_dim\"], 1, 1, device=device)\n",
        "        fake_imgs = G(noise).detach()\n",
        "        output_fake = D(fake_imgs).view(-1)\n",
        "        loss_fake = criterion(output_fake, fake_labels)\n",
        "\n",
        "        loss_D = loss_real + loss_fake\n",
        "\n",
        "        # Add L2 regularization on late discriminator convolutional layers\n",
        "        # Penalize squared weights of the last two Conv2d layers in D\n",
        "        if config[\"regularization_type\"] == \"L2\" and config[\"regularization_placement\"] == \"discriminator_weights_late\":\n",
        "            l2_reg = torch.tensor(0., device=device)\n",
        "            conv_modules = [m for m in D.modules() if isinstance(m, nn.Conv2d)]\n",
        "            for module in conv_modules[-2:]:\n",
        "                l2_reg += torch.sum(module.weight ** 2)\n",
        "            loss_D += config[\"regularization_lambda_L2\"] * l2_reg\n",
        "\n",
        "        loss_D.backward()\n",
        "        optimizer_D.step()\n",
        "\n",
        "        # Train Generator\n",
        "        optimizer_G.zero_grad()\n",
        "        noise = torch.randn(batch_size, config[\"latent_dim\"], 1, 1, device=device)\n",
        "        fake_imgs = G(noise)\n",
        "        output = D(fake_imgs).view(-1)\n",
        "        loss_G = criterion(output, real_labels)\n",
        "        loss_G.backward()\n",
        "        optimizer_G.step()\n",
        "\n",
        "        loss_D_epoch += loss_D.item()\n",
        "        loss_G_epoch += loss_G.item()\n",
        "\n",
        "    avg_D = loss_D_epoch / len(dataloader)\n",
        "    avg_G = loss_G_epoch / len(dataloader)\n",
        "    loss_D_log.append(avg_D)\n",
        "    loss_G_log.append(avg_G)\n",
        "    print(f\"[Epoch {epoch}/{config['num_epochs']}] Loss_D: {avg_D:.4f}, Loss_G: {avg_G:.4f}\")\n",
        "\n",
        "    # Save images and checkpoints\n",
        "    if epoch % config[\"save_images_every\"] == 0 or epoch == 1:\n",
        "        with torch.no_grad():\n",
        "            sample_imgs = G(fixed_noise).detach().cpu()\n",
        "            img_path = os.path.join(exp_path, \"images\", f\"epoch_{epoch:03}.png\")\n",
        "            vutils.save_image(sample_imgs, img_path, normalize=True, nrow=8)\n",
        "\n",
        "    if epoch % 10 == 0 or epoch == config[\"num_epochs\"]:\n",
        "        torch.save({\n",
        "            \"epoch\": epoch,\n",
        "            \"G_state_dict\": G.state_dict(),\n",
        "            \"D_state_dict\": D.state_dict(),\n",
        "            \"optimizer_G\": optimizer_G.state_dict(),\n",
        "            \"optimizer_D\": optimizer_D.state_dict(),\n",
        "        }, checkpoint_path)\n",
        "\n",
        "    # Save metrics\n",
        "    metrics_path = os.path.join(exp_path, \"metrics\", \"losses.csv\")\n",
        "    with open(metrics_path, \"w\") as f:\n",
        "        f.write(\"epoch,loss_D,loss_G\\n\")\n",
        "        for i in range(len(loss_D_log)):\n",
        "            f.write(f\"{i+1},{loss_D_log[i]},{loss_G_log[i]}\\n\")\n",
        "\n",
        "# Training Time\n",
        "total_sec = time.time() - training_start_time\n",
        "mins, secs = int(total_sec // 60), int(total_sec % 60)\n",
        "with open(os.path.join(exp_path, \"training_time.txt\"), \"w\") as f:\n",
        "    f.write(f\"Total training time: {mins} min {secs} sec\\n\")\n",
        "print(f\"Training completed in {mins} min {secs} sec.\")"
      ],
      "metadata": {
        "colab": {
          "base_uri": "https://localhost:8080/"
        },
        "id": "KlLgQq3Ctox4",
        "outputId": "a5c27e3f-868f-4a5a-ee4b-f3d7a4a6baec"
      },
      "execution_count": null,
      "outputs": [
        {
          "output_type": "stream",
          "name": "stdout",
          "text": [
            "No previous loss logs found. Starting fresh.\n",
            "[Epoch 1/100] Loss_D: 0.9503, Loss_G: 2.1478\n",
            "[Epoch 2/100] Loss_D: 0.9845, Loss_G: 2.4480\n",
            "[Epoch 3/100] Loss_D: 1.1510, Loss_G: 1.9117\n",
            "[Epoch 4/100] Loss_D: 1.1120, Loss_G: 1.9066\n",
            "[Epoch 5/100] Loss_D: 1.1603, Loss_G: 1.7017\n",
            "[Epoch 6/100] Loss_D: 1.1582, Loss_G: 1.5697\n",
            "[Epoch 7/100] Loss_D: 1.1679, Loss_G: 1.5574\n",
            "[Epoch 8/100] Loss_D: 1.1659, Loss_G: 1.5979\n",
            "[Epoch 9/100] Loss_D: 1.1148, Loss_G: 1.6681\n",
            "[Epoch 10/100] Loss_D: 1.0869, Loss_G: 1.7194\n",
            "[Epoch 11/100] Loss_D: 1.0472, Loss_G: 1.8457\n",
            "[Epoch 12/100] Loss_D: 1.0542, Loss_G: 1.7787\n",
            "[Epoch 13/100] Loss_D: 1.0428, Loss_G: 1.8123\n",
            "[Epoch 14/100] Loss_D: 1.0187, Loss_G: 1.8573\n",
            "[Epoch 15/100] Loss_D: 1.0058, Loss_G: 1.8834\n",
            "[Epoch 16/100] Loss_D: 0.9985, Loss_G: 1.9152\n",
            "[Epoch 17/100] Loss_D: 0.9709, Loss_G: 1.9501\n",
            "[Epoch 18/100] Loss_D: 0.9411, Loss_G: 2.0212\n",
            "[Epoch 19/100] Loss_D: 0.9147, Loss_G: 2.0977\n",
            "[Epoch 20/100] Loss_D: 0.9246, Loss_G: 2.1472\n",
            "[Epoch 21/100] Loss_D: 0.8675, Loss_G: 2.1746\n",
            "[Epoch 22/100] Loss_D: 0.8642, Loss_G: 2.2838\n",
            "[Epoch 23/100] Loss_D: 0.8335, Loss_G: 2.3627\n",
            "[Epoch 24/100] Loss_D: 0.8516, Loss_G: 2.3678\n",
            "[Epoch 25/100] Loss_D: 0.8111, Loss_G: 2.4938\n",
            "[Epoch 26/100] Loss_D: 0.8171, Loss_G: 2.4653\n",
            "[Epoch 27/100] Loss_D: 0.7872, Loss_G: 2.5165\n",
            "[Epoch 28/100] Loss_D: 0.7836, Loss_G: 2.5710\n",
            "[Epoch 29/100] Loss_D: 0.7661, Loss_G: 2.6619\n",
            "[Epoch 30/100] Loss_D: 0.7237, Loss_G: 2.6419\n",
            "[Epoch 31/100] Loss_D: 0.7331, Loss_G: 2.7791\n",
            "[Epoch 32/100] Loss_D: 0.7181, Loss_G: 2.7949\n",
            "[Epoch 33/100] Loss_D: 0.7307, Loss_G: 2.8660\n",
            "[Epoch 34/100] Loss_D: 0.7198, Loss_G: 2.8892\n",
            "[Epoch 35/100] Loss_D: 0.6816, Loss_G: 2.9423\n",
            "[Epoch 36/100] Loss_D: 0.7117, Loss_G: 2.9724\n",
            "[Epoch 37/100] Loss_D: 0.6609, Loss_G: 3.0622\n",
            "[Epoch 38/100] Loss_D: 0.6767, Loss_G: 3.0527\n",
            "[Epoch 39/100] Loss_D: 0.6828, Loss_G: 3.1327\n",
            "[Epoch 40/100] Loss_D: 0.6459, Loss_G: 3.1690\n",
            "[Epoch 41/100] Loss_D: 0.6219, Loss_G: 3.2399\n",
            "[Epoch 42/100] Loss_D: 0.6352, Loss_G: 3.3180\n",
            "[Epoch 43/100] Loss_D: 0.6579, Loss_G: 3.2952\n",
            "[Epoch 44/100] Loss_D: 0.6114, Loss_G: 3.3577\n",
            "[Epoch 45/100] Loss_D: 0.6148, Loss_G: 3.3943\n",
            "[Epoch 46/100] Loss_D: 0.5971, Loss_G: 3.4927\n",
            "[Epoch 47/100] Loss_D: 0.5970, Loss_G: 3.4921\n",
            "[Epoch 48/100] Loss_D: 0.5741, Loss_G: 3.5959\n",
            "[Epoch 49/100] Loss_D: 0.5752, Loss_G: 3.7168\n",
            "[Epoch 50/100] Loss_D: 0.6316, Loss_G: 3.5302\n",
            "[Epoch 51/100] Loss_D: 0.5531, Loss_G: 3.6627\n",
            "[Epoch 52/100] Loss_D: 0.5944, Loss_G: 3.5671\n",
            "[Epoch 53/100] Loss_D: 0.5508, Loss_G: 3.7655\n",
            "[Epoch 54/100] Loss_D: 0.5557, Loss_G: 3.6928\n",
            "[Epoch 55/100] Loss_D: 0.6024, Loss_G: 3.7004\n",
            "[Epoch 56/100] Loss_D: 0.5171, Loss_G: 3.9766\n",
            "[Epoch 57/100] Loss_D: 0.5520, Loss_G: 4.0353\n",
            "[Epoch 58/100] Loss_D: 0.5530, Loss_G: 3.8810\n",
            "[Epoch 59/100] Loss_D: 0.5338, Loss_G: 3.9224\n",
            "[Epoch 60/100] Loss_D: 0.5117, Loss_G: 3.9926\n",
            "[Epoch 61/100] Loss_D: 0.5672, Loss_G: 4.0527\n",
            "[Epoch 62/100] Loss_D: 0.4984, Loss_G: 3.9986\n",
            "[Epoch 63/100] Loss_D: 0.5236, Loss_G: 3.9947\n",
            "[Epoch 64/100] Loss_D: 0.5552, Loss_G: 3.9627\n",
            "[Epoch 65/100] Loss_D: 0.5181, Loss_G: 4.0385\n",
            "[Epoch 66/100] Loss_D: 0.5018, Loss_G: 4.0436\n",
            "[Epoch 67/100] Loss_D: 0.4280, Loss_G: 4.2073\n",
            "[Epoch 68/100] Loss_D: 0.5281, Loss_G: 4.2073\n",
            "[Epoch 69/100] Loss_D: 0.4611, Loss_G: 4.1603\n",
            "[Epoch 70/100] Loss_D: 0.5095, Loss_G: 4.2978\n",
            "[Epoch 71/100] Loss_D: 0.4696, Loss_G: 4.1756\n",
            "[Epoch 72/100] Loss_D: 0.5064, Loss_G: 4.3479\n",
            "[Epoch 73/100] Loss_D: 0.4861, Loss_G: 4.1350\n",
            "[Epoch 74/100] Loss_D: 0.4873, Loss_G: 4.2924\n",
            "[Epoch 75/100] Loss_D: 0.4127, Loss_G: 4.4768\n",
            "[Epoch 76/100] Loss_D: 0.4617, Loss_G: 4.6073\n",
            "[Epoch 77/100] Loss_D: 0.4982, Loss_G: 4.2990\n",
            "[Epoch 78/100] Loss_D: 0.4715, Loss_G: 4.2933\n",
            "[Epoch 79/100] Loss_D: 0.4314, Loss_G: 4.4555\n",
            "[Epoch 80/100] Loss_D: 0.4612, Loss_G: 4.3956\n",
            "[Epoch 81/100] Loss_D: 0.4996, Loss_G: 4.3686\n",
            "[Epoch 82/100] Loss_D: 0.4529, Loss_G: 4.3172\n",
            "[Epoch 83/100] Loss_D: 0.3868, Loss_G: 4.5959\n",
            "[Epoch 84/100] Loss_D: 0.3569, Loss_G: 4.9045\n",
            "[Epoch 85/100] Loss_D: 0.4695, Loss_G: 4.7588\n",
            "[Epoch 86/100] Loss_D: 0.4661, Loss_G: 4.6027\n",
            "[Epoch 87/100] Loss_D: 0.3948, Loss_G: 4.6063\n",
            "[Epoch 88/100] Loss_D: 0.4467, Loss_G: 4.5617\n",
            "[Epoch 89/100] Loss_D: 0.3805, Loss_G: 4.7994\n",
            "[Epoch 90/100] Loss_D: 0.4083, Loss_G: 4.7264\n",
            "[Epoch 91/100] Loss_D: 0.4223, Loss_G: 4.6761\n",
            "[Epoch 92/100] Loss_D: 0.4089, Loss_G: 4.8762\n",
            "[Epoch 93/100] Loss_D: 0.4197, Loss_G: 4.7184\n",
            "[Epoch 94/100] Loss_D: 0.3944, Loss_G: 4.8964\n",
            "[Epoch 95/100] Loss_D: 0.4481, Loss_G: 4.8267\n",
            "[Epoch 96/100] Loss_D: 0.4392, Loss_G: 4.4928\n",
            "[Epoch 97/100] Loss_D: 0.3884, Loss_G: 4.7401\n",
            "[Epoch 98/100] Loss_D: 0.3796, Loss_G: 4.7776\n",
            "[Epoch 99/100] Loss_D: 0.4646, Loss_G: 4.7256\n",
            "[Epoch 100/100] Loss_D: 0.3457, Loss_G: 4.7749\n",
            "Training completed in 133 min 53 sec.\n"
          ]
        }
      ]
    },
    {
      "cell_type": "code",
      "source": [
        "# Plot and save loss curve\n",
        "metrics_path = os.path.join(exp_path, \"metrics\", \"losses.csv\")\n",
        "loss_D_log = []\n",
        "loss_G_log = []\n",
        "\n",
        "# Load loss logs\n",
        "if os.path.exists(metrics_path):\n",
        "    import pandas as pd\n",
        "    df = pd.read_csv(metrics_path)\n",
        "    loss_D_log = list(df[\"loss_D\"])\n",
        "    loss_G_log = list(df[\"loss_G\"])\n",
        "    print(f\"Loaded loss logs for {len(loss_D_log)} epochs from {metrics_path}\")\n",
        "else:\n",
        "    print(f\"No previous loss logs found. Starting fresh.\")\n",
        "\n",
        "epochs = list(range(1, len(loss_D_log) + 1))\n",
        "plt.figure(figsize=(10, 5))\n",
        "plt.plot(epochs, loss_D_log, label=\"Discriminator Loss\")\n",
        "plt.plot(epochs, loss_G_log, label=\"Generator Loss\")\n",
        "plt.xlabel(\"Epoch\")\n",
        "plt.ylabel(\"Loss\")\n",
        "plt.title(f\"Training Loss Curve ({experiment_id})\")\n",
        "plt.legend()\n",
        "plt.grid(True)\n",
        "plt.ylim(0, 7)\n",
        "plt.tight_layout()\n",
        "\n",
        "plot_path = os.path.join(exp_path, \"metrics\", \"loss_curve.png\")\n",
        "plt.savefig(plot_path)\n",
        "plt.close()\n",
        "print(f\"Loss curve saved: {plot_path}\")"
      ],
      "metadata": {
        "colab": {
          "base_uri": "https://localhost:8080/"
        },
        "id": "LvyM483Ktovo",
        "outputId": "834b79d5-5ba0-436e-9946-9dcdb1d979d1"
      },
      "execution_count": null,
      "outputs": [
        {
          "output_type": "stream",
          "name": "stdout",
          "text": [
            "Loaded loss logs for 100 epochs from /content/drive/MyDrive/GAN_Research/E5_L2_DiscW/metrics/losses.csv\n",
            "Loss curve saved: /content/drive/MyDrive/GAN_Research/E5_L2_DiscW/metrics/loss_curve.png\n"
          ]
        }
      ]
    },
    {
      "cell_type": "code",
      "source": [
        "# Evaluation: FID & Inception Score\n",
        "eval_batch_size = 128\n",
        "num_eval_images = config[\"fid_samples\"]\n",
        "eval_image_size = config[\"image_size\"]\n",
        "real_dir = os.path.join(exp_path, \"eval_data\", \"real\")\n",
        "fake_dir = os.path.join(exp_path, \"eval_data\", \"fake\")\n",
        "\n",
        "# Clean eval folders\n",
        "for dir_ in [real_dir, fake_dir]:\n",
        "    for f in os.listdir(dir_):\n",
        "        os.remove(os.path.join(dir_, f))\n",
        "\n",
        "# Save real images\n",
        "def save_real_images():\n",
        "    transform_eval = transforms.Compose([\n",
        "        transforms.Resize(eval_image_size),\n",
        "        transforms.CenterCrop(eval_image_size),\n",
        "        transforms.ToTensor(),\n",
        "        transforms.Normalize((0.5,) * 3, (0.5,) * 3)\n",
        "    ])\n",
        "    eval_dataset = CIFAR10(root=\"./data\", train=True, download=True, transform=transform_eval)\n",
        "    eval_loader = DataLoader(eval_dataset, batch_size=eval_batch_size, shuffle=False)\n",
        "    i = 0\n",
        "    for imgs, _ in eval_loader:\n",
        "        for img in imgs:\n",
        "            save_image(img, f\"{real_dir}/{i}.png\", normalize=True)\n",
        "            i += 1\n",
        "            if i >= num_eval_images:\n",
        "                return\n",
        "\n",
        "# Save fake images\n",
        "def save_fake_images(generator):\n",
        "    generator.eval()\n",
        "    i = 0\n",
        "    with torch.no_grad():\n",
        "        for _ in tqdm(range(0, num_eval_images, eval_batch_size), desc=\"Generating fake\"):\n",
        "            curr_batch = min(eval_batch_size, num_eval_images - i)\n",
        "            noise = torch.randn(curr_batch, config[\"latent_dim\"], 1, 1, device=device)\n",
        "            fake_imgs = generator(noise).cpu()\n",
        "            for img in fake_imgs:\n",
        "                save_image(img, f\"{fake_dir}/{i}.png\", normalize=True)\n",
        "                i += 1\n",
        "                if i >= num_eval_images:\n",
        "                    return\n",
        "\n",
        "save_real_images()\n",
        "save_fake_images(G)\n",
        "\n",
        "# FID Calculation\n",
        "metrics = calculate_metrics(\n",
        "    input1=real_dir,\n",
        "    input2=fake_dir,\n",
        "    cuda=torch.cuda.is_available(),\n",
        "    isc=False,\n",
        "    fid=True,\n",
        "    kid=False,\n",
        "    verbose=False\n",
        ")\n",
        "fid = metrics[\"frechet_inception_distance\"]\n",
        "\n",
        "# Inception Score\n",
        "class PNGImageFolder(torch.utils.data.Dataset):\n",
        "    def __init__(self, folder, transform=None):\n",
        "        self.paths = [os.path.join(folder, f) for f in sorted(os.listdir(folder)) if f.endswith('.png')]\n",
        "        self.transform = transform\n",
        "    def __len__(self): return len(self.paths)\n",
        "    def __getitem__(self, idx):\n",
        "        img = Image.open(self.paths[idx]).convert(\"RGB\")\n",
        "        if self.transform: img = self.transform(img)\n",
        "        return img\n",
        "\n",
        "def compute_inception_score(image_folder, splits=10):\n",
        "    transform = transforms.Compose([\n",
        "        transforms.Resize((299, 299)),\n",
        "        transforms.ToTensor()\n",
        "    ])\n",
        "    dataset = PNGImageFolder(image_folder, transform)\n",
        "    loader = DataLoader(dataset, batch_size=64, shuffle=False)\n",
        "    model = inception_v3(pretrained=True, transform_input=False).to(device)\n",
        "    model.eval()\n",
        "    preds = []\n",
        "    for imgs in loader:\n",
        "        imgs = imgs.to(device)\n",
        "        with torch.no_grad():\n",
        "            pred = model(imgs)\n",
        "            pred = F.softmax(pred, dim=1).cpu().numpy()\n",
        "        preds.append(pred)\n",
        "    preds = np.concatenate(preds, axis=0)\n",
        "    split_scores = []\n",
        "    for k in range(splits):\n",
        "        part = preds[k * (len(preds)//splits): (k+1)*(len(preds)//splits)]\n",
        "        py = np.mean(part, axis=0)\n",
        "        scores = [entropy(p, py) for p in part]\n",
        "        split_scores.append(np.exp(np.mean(scores)))\n",
        "    return float(np.mean(split_scores)), float(np.std(split_scores))\n",
        "\n",
        "mean_is, std_is = compute_inception_score(fake_dir)\n",
        "\n",
        "with open(os.path.join(exp_path, \"metrics\", \"eval_metrics.txt\"), \"w\") as f:\n",
        "    f.write(f\"FID: {fid:.4f}\\n\")\n",
        "    f.write(f\"Inception Score: {mean_is:.4f} ± {std_is:.4f}\\n\")\n",
        "\n",
        "print(f\"\\nFID: {fid:.4f}\")\n",
        "print(f\"Inception Score: {mean_is:.4f} ± {std_is:.4f}\")"
      ],
      "metadata": {
        "colab": {
          "base_uri": "https://localhost:8080/"
        },
        "id": "Pg7hlDzBtotO",
        "outputId": "4365ba49-665e-4ec8-ea1a-8afa1b368a78"
      },
      "execution_count": null,
      "outputs": [
        {
          "output_type": "stream",
          "name": "stderr",
          "text": [
            "Generating fake:  99%|█████████▊| 78/79 [00:58<00:00,  1.34it/s]\n",
            "/usr/local/lib/python3.11/dist-packages/torchvision/models/_utils.py:208: UserWarning: The parameter 'pretrained' is deprecated since 0.13 and may be removed in the future, please use 'weights' instead.\n",
            "  warnings.warn(\n",
            "/usr/local/lib/python3.11/dist-packages/torchvision/models/_utils.py:223: UserWarning: Arguments other than a weight enum or `None` for 'weights' are deprecated since 0.13 and may be removed in the future. The current behavior is equivalent to passing `weights=Inception_V3_Weights.IMAGENET1K_V1`. You can also use `weights=Inception_V3_Weights.DEFAULT` to get the most up-to-date weights.\n",
            "  warnings.warn(msg)\n"
          ]
        },
        {
          "output_type": "stream",
          "name": "stdout",
          "text": [
            "\n",
            "FID: 47.8164\n",
            "Inception Score: 3.5081 ± 0.0778\n"
          ]
        }
      ]
    },
    {
      "cell_type": "markdown",
      "source": [
        "### E6_CGAN_Baseline"
      ],
      "metadata": {
        "id": "NB7_lq6GWomS"
      }
    },
    {
      "cell_type": "code",
      "source": [
        "# E6_CGAN_Baseline: CGAN with No Regularization\n",
        "\n",
        "# Experiment Configuration\n",
        "experiment_id = \"E6_CGAN_Baseline\"\n",
        "\n",
        "config = {\n",
        "    \"experiment_id\": experiment_id,\n",
        "    \"model\": \"CGAN\",\n",
        "    \"regularization_type\": \"None\",\n",
        "    \"regularization_lambda_L1\": 0.0,\n",
        "    \"regularization_lambda_L2\": 0.0,\n",
        "    \"regularization_placement\": \"none\",\n",
        "    \"dataset\": \"CIFAR-10\",\n",
        "    \"image_size\": 32,\n",
        "    \"latent_dim\": 100,\n",
        "    \"num_classes\": 10,\n",
        "    \"num_epochs\": 100,\n",
        "    \"batch_size\": 128,\n",
        "    \"optimizer\": \"Adam\",\n",
        "    \"learning_rate\": 0.0002,\n",
        "    \"beta1\": 0.5,\n",
        "    \"fid_samples\": 10000,\n",
        "    \"save_images_every\": 10,\n",
        "    \"timestamp\": time.strftime(\"%Y-%m-%d %H:%M:%S\"),\n",
        "    \"pytorch_version\": torch.__version__,\n",
        "    \"cuda_version\": torch.version.cuda if torch.cuda.is_available() else \"None\",\n",
        "    \"device\": torch.device(\"cuda\" if torch.cuda.is_available() else \"cpu\").type\n",
        "}"
      ],
      "metadata": {
        "id": "BVwJ2clr1KrF"
      },
      "execution_count": null,
      "outputs": []
    },
    {
      "cell_type": "code",
      "source": [
        "# Prepare experiment folders\n",
        "exp_path = os.path.join(ROOT_DIR, experiment_id)\n",
        "for sub in [\"images\", \"metrics\", \"eval_data/real\", \"eval_data/fake\"]:\n",
        "    os.makedirs(os.path.join(exp_path, sub), exist_ok=True)"
      ],
      "metadata": {
        "id": "hH1og9TY1KuA"
      },
      "execution_count": null,
      "outputs": []
    },
    {
      "cell_type": "code",
      "source": [
        "# Save config\n",
        "with open(os.path.join(exp_path, \"config_manual.txt\"), \"w\") as f:\n",
        "    for k, v in config.items():\n",
        "        f.write(f\"{k}: {v}\\n\")\n",
        "print(f\"Configuration saved: {exp_path}/config_manual.txt\")"
      ],
      "metadata": {
        "colab": {
          "base_uri": "https://localhost:8080/"
        },
        "id": "0YQvWdUN1Kwd",
        "outputId": "c037d7b5-e1b3-4c9e-a7c8-d52727fc22f9"
      },
      "execution_count": null,
      "outputs": [
        {
          "output_type": "stream",
          "name": "stdout",
          "text": [
            "Configuration saved: /content/drive/MyDrive/GAN_Research/E6_CGAN_Baseline/config_manual.txt\n"
          ]
        }
      ]
    },
    {
      "cell_type": "code",
      "source": [
        "# Prepare fixed noise and labels\n",
        "device = torch.device(config[\"device\"])\n",
        "fixed_noise = torch.randn(64, config[\"latent_dim\"], 1, 1, device=device)\n",
        "fixed_labels = torch.arange(0, 10).repeat(7)[:64].to(device)\n",
        "torch.save(fixed_noise, os.path.join(exp_path, \"fixed_noise.pt\"))\n",
        "torch.save(fixed_labels, os.path.join(exp_path, \"fixed_labels.pt\"))"
      ],
      "metadata": {
        "id": "0vjYT5OQ1Ky0"
      },
      "execution_count": null,
      "outputs": []
    },
    {
      "cell_type": "code",
      "source": [
        "# Conditional Generator and Discriminator\n",
        "class CGANGenerator(nn.Module):\n",
        "    def __init__(self, latent_dim, num_classes, feature_maps=64):\n",
        "        super().__init__()\n",
        "        self.label_emb = nn.Embedding(num_classes, num_classes)\n",
        "        self.model = nn.Sequential(\n",
        "            nn.ConvTranspose2d(latent_dim + num_classes, feature_maps * 8, 4, 1, 0, bias=False),\n",
        "            nn.BatchNorm2d(feature_maps * 8),\n",
        "            nn.ReLU(True),\n",
        "            nn.ConvTranspose2d(feature_maps * 8, feature_maps * 4, 4, 2, 1, bias=False),\n",
        "            nn.BatchNorm2d(feature_maps * 4),\n",
        "            nn.ReLU(True),\n",
        "            nn.ConvTranspose2d(feature_maps * 4, feature_maps * 2, 4, 2, 1, bias=False),\n",
        "            nn.BatchNorm2d(feature_maps * 2),\n",
        "            nn.ReLU(True),\n",
        "            nn.ConvTranspose2d(feature_maps * 2, feature_maps, 4, 2, 1, bias=False),\n",
        "            nn.BatchNorm2d(feature_maps),\n",
        "            nn.ReLU(True),\n",
        "            nn.ConvTranspose2d(feature_maps, 3, 3, 1, 1, bias=False),\n",
        "            nn.Tanh()\n",
        "        )\n",
        "\n",
        "    def forward(self, noise, labels):\n",
        "        label_embedding = self.label_emb(labels).unsqueeze(2).unsqueeze(3)\n",
        "        x = torch.cat([noise, label_embedding], dim=1)\n",
        "        return self.model(x)\n",
        "\n",
        "class CGANDiscriminator(nn.Module):\n",
        "    def __init__(self, num_classes, feature_maps=64):\n",
        "        super().__init__()\n",
        "        self.label_emb = nn.Embedding(num_classes, num_classes)\n",
        "        self.model = nn.Sequential(\n",
        "            nn.Conv2d(3 + num_classes, feature_maps, 4, 2, 1),\n",
        "            nn.LeakyReLU(0.2, inplace=True),\n",
        "            nn.Conv2d(feature_maps, feature_maps * 2, 4, 2, 1),\n",
        "            nn.BatchNorm2d(feature_maps * 2),\n",
        "            nn.LeakyReLU(0.2, inplace=True),\n",
        "            nn.Conv2d(feature_maps * 2, feature_maps * 4, 4, 2, 1),\n",
        "            nn.BatchNorm2d(feature_maps * 4),\n",
        "            nn.LeakyReLU(0.2, inplace=True),\n",
        "            nn.Conv2d(feature_maps * 4, feature_maps * 8, 4, 2, 1),\n",
        "            nn.BatchNorm2d(feature_maps * 8),\n",
        "            nn.LeakyReLU(0.2, inplace=True),\n",
        "            nn.Conv2d(feature_maps * 8, 1, 2, 1, 0),\n",
        "            nn.Sigmoid()\n",
        "        )\n",
        "\n",
        "    def forward(self, img, labels):\n",
        "        label_embedding = self.label_emb(labels).unsqueeze(2).unsqueeze(3)\n",
        "        label_embedding = label_embedding.expand(labels.size(0), config[\"num_classes\"], config[\"image_size\"], config[\"image_size\"])\n",
        "        x = torch.cat([img, label_embedding], dim=1)\n",
        "        return self.model(x)"
      ],
      "metadata": {
        "id": "xLXwWr3O1U6E"
      },
      "execution_count": null,
      "outputs": []
    },
    {
      "cell_type": "code",
      "source": [
        "# Initialize models\n",
        "G = CGANGenerator(latent_dim=config[\"latent_dim\"], num_classes=config[\"num_classes\"]).to(device)\n",
        "D = CGANDiscriminator(num_classes=config[\"num_classes\"]).to(device)\n",
        "G.apply(weights_init)\n",
        "D.apply(weights_init)\n",
        "print(\"CGAN Generator and Discriminator initialized\")"
      ],
      "metadata": {
        "colab": {
          "base_uri": "https://localhost:8080/"
        },
        "id": "8OgrHcaa1U9V",
        "outputId": "e96334fb-5b92-45d0-ae89-205e8218ab10"
      },
      "execution_count": null,
      "outputs": [
        {
          "output_type": "stream",
          "name": "stdout",
          "text": [
            "CGAN Generator and Discriminator initialized\n"
          ]
        }
      ]
    },
    {
      "cell_type": "code",
      "source": [
        "# Optimizers & Loss\n",
        "criterion = nn.BCELoss()\n",
        "optimizer_G = optim.Adam(G.parameters(), lr=config[\"learning_rate\"], betas=(config[\"beta1\"], 0.999))\n",
        "optimizer_D = optim.Adam(D.parameters(), lr=config[\"learning_rate\"], betas=(config[\"beta1\"], 0.999))"
      ],
      "metadata": {
        "id": "U7pvZ0Mv1VAM"
      },
      "execution_count": null,
      "outputs": []
    },
    {
      "cell_type": "code",
      "source": [
        "# Resume checkpoint if exists\n",
        "checkpoint_path = os.path.join(exp_path, \"checkpoint.pt\")\n",
        "start_epoch = 1\n",
        "if os.path.exists(checkpoint_path):\n",
        "    ckpt = torch.load(checkpoint_path)\n",
        "    G.load_state_dict(ckpt[\"G_state_dict\"])\n",
        "    D.load_state_dict(ckpt[\"D_state_dict\"])\n",
        "    optimizer_G.load_state_dict(ckpt[\"optimizer_G\"])\n",
        "    optimizer_D.load_state_dict(ckpt[\"optimizer_D\"])\n",
        "    start_epoch = ckpt[\"epoch\"] + 1\n",
        "    print(f\"Resumed from epoch {ckpt['epoch']}\")\n",
        "else:\n",
        "    print(\"Starting from scratch\")"
      ],
      "metadata": {
        "colab": {
          "base_uri": "https://localhost:8080/"
        },
        "id": "VOh1ERJj1VCE",
        "outputId": "5e691b60-2a29-4fab-9e1e-02342d9e5877"
      },
      "execution_count": null,
      "outputs": [
        {
          "output_type": "stream",
          "name": "stdout",
          "text": [
            "Starting from scratch\n"
          ]
        }
      ]
    },
    {
      "cell_type": "code",
      "source": [
        "# Load previous loss logs\n",
        "metrics_path = os.path.join(exp_path, \"metrics\", \"losses.csv\")\n",
        "loss_D_log, loss_G_log = [], []\n",
        "if os.path.exists(metrics_path):\n",
        "    df_prev = pd.read_csv(metrics_path)\n",
        "    loss_D_log = list(df_prev[\"loss_D\"])\n",
        "    loss_G_log = list(df_prev[\"loss_G\"])\n",
        "    print(f\"Loaded loss logs for {len(loss_D_log)} epochs.\")\n",
        "else:\n",
        "    print(\"No previous loss logs found. Starting fresh.\")\n",
        "\n",
        "# Training loop\n",
        "training_start = time.time()\n",
        "for epoch in range(start_epoch, config[\"num_epochs\"] + 1):\n",
        "    loss_D_epoch = 0.0\n",
        "    loss_G_epoch = 0.0\n",
        "    for real_imgs, real_labels in dataloader:\n",
        "        real_imgs, real_labels = real_imgs.to(device), real_labels.to(device)\n",
        "        batch_size = real_imgs.size(0)\n",
        "\n",
        "        real_targets = torch.ones(batch_size, device=device)\n",
        "        fake_targets = torch.zeros(batch_size, device=device)\n",
        "\n",
        "        # Train Discriminator\n",
        "        optimizer_D.zero_grad()\n",
        "        noise = torch.randn(batch_size, config[\"latent_dim\"], 1, 1, device=device)\n",
        "        fake_labels = torch.randint(0, config[\"num_classes\"], (batch_size,), device=device)\n",
        "        fake_imgs = G(noise, fake_labels).detach()\n",
        "        output_real = D(real_imgs, real_labels).view(-1)\n",
        "        output_fake = D(fake_imgs, fake_labels).view(-1)\n",
        "        loss_D = criterion(output_real, real_targets) + criterion(output_fake, fake_targets)\n",
        "        loss_D.backward()\n",
        "        optimizer_D.step()\n",
        "\n",
        "        # Train Generator\n",
        "        optimizer_G.zero_grad()\n",
        "        noise = torch.randn(batch_size, config[\"latent_dim\"], 1, 1, device=device)\n",
        "        fake_labels = torch.randint(0, config[\"num_classes\"], (batch_size,), device=device)\n",
        "        gen_imgs = G(noise, fake_labels)\n",
        "        output = D(gen_imgs, fake_labels).view(-1)\n",
        "        loss_G = criterion(output, real_targets)\n",
        "        loss_G.backward()\n",
        "        optimizer_G.step()\n",
        "\n",
        "        loss_D_epoch += loss_D.item()\n",
        "        loss_G_epoch += loss_G.item()\n",
        "\n",
        "    # Save images\n",
        "    if epoch % config[\"save_images_every\"] == 0 or epoch == 1:\n",
        "        with torch.no_grad():\n",
        "            sample_imgs = G(fixed_noise, fixed_labels).detach().cpu()\n",
        "            save_image(sample_imgs, os.path.join(exp_path, \"images\", f\"epoch_{epoch:03}.png\"), normalize=True, nrow=8)\n",
        "\n",
        "    # Save checkpoint\n",
        "    if epoch % 10 == 0 or epoch == config[\"num_epochs\"]:\n",
        "        torch.save({\n",
        "            \"epoch\": epoch,\n",
        "            \"G_state_dict\": G.state_dict(),\n",
        "            \"D_state_dict\": D.state_dict(),\n",
        "            \"optimizer_G\": optimizer_G.state_dict(),\n",
        "            \"optimizer_D\": optimizer_D.state_dict()\n",
        "        }, checkpoint_path)\n",
        "\n",
        "    # Log loss\n",
        "    avg_D = loss_D_epoch / len(dataloader)\n",
        "    avg_G = loss_G_epoch / len(dataloader)\n",
        "    loss_D_log.append(avg_D)\n",
        "    loss_G_log.append(avg_G)\n",
        "    print(f\"[Epoch {epoch}/{config['num_epochs']}] Loss_D: {avg_D:.4f} | Loss_G: {avg_G:.4f}\")\n",
        "\n",
        "    # Save loss log\n",
        "    with open(metrics_path, \"w\") as f:\n",
        "        f.write(\"epoch,loss_D,loss_G\\n\")\n",
        "        for i in range(len(loss_D_log)):\n",
        "            f.write(f\"{i+1},{loss_D_log[i]},{loss_G_log[i]}\\n\")\n",
        "\n",
        "# Save training time\n",
        "duration = time.time() - training_start\n",
        "mins, secs = divmod(int(duration), 60)\n",
        "with open(os.path.join(exp_path, \"training_time.txt\"), \"w\") as f:\n",
        "    f.write(f\"Training time: {mins} min {secs} sec\\n\")\n",
        "print(f\"Training complete in {mins} min {secs} sec.\")"
      ],
      "metadata": {
        "colab": {
          "base_uri": "https://localhost:8080/"
        },
        "id": "xl_SUQ_k1VEf",
        "outputId": "d6b47788-f9f8-4004-80d3-2f2ff0de758c"
      },
      "execution_count": null,
      "outputs": [
        {
          "output_type": "stream",
          "name": "stdout",
          "text": [
            "No previous loss logs found. Starting fresh.\n",
            "[Epoch 1/100] Loss_D: 1.1217 | Loss_G: 1.1649\n",
            "[Epoch 2/100] Loss_D: 1.2535 | Loss_G: 1.0771\n",
            "[Epoch 3/100] Loss_D: 1.2481 | Loss_G: 1.1583\n",
            "[Epoch 4/100] Loss_D: 1.2250 | Loss_G: 1.2524\n",
            "[Epoch 5/100] Loss_D: 1.2664 | Loss_G: 1.1215\n",
            "[Epoch 6/100] Loss_D: 1.3030 | Loss_G: 1.0184\n",
            "[Epoch 7/100] Loss_D: 1.2920 | Loss_G: 1.0208\n",
            "[Epoch 8/100] Loss_D: 1.3003 | Loss_G: 0.9857\n",
            "[Epoch 9/100] Loss_D: 1.3081 | Loss_G: 0.9506\n",
            "[Epoch 10/100] Loss_D: 1.3032 | Loss_G: 0.9487\n",
            "[Epoch 11/100] Loss_D: 1.3121 | Loss_G: 0.9415\n",
            "[Epoch 12/100] Loss_D: 1.3275 | Loss_G: 0.8913\n",
            "[Epoch 13/100] Loss_D: 1.3210 | Loss_G: 0.8802\n",
            "[Epoch 14/100] Loss_D: 1.3114 | Loss_G: 0.9116\n",
            "[Epoch 15/100] Loss_D: 1.3162 | Loss_G: 0.9030\n",
            "[Epoch 16/100] Loss_D: 1.3211 | Loss_G: 0.8813\n",
            "[Epoch 17/100] Loss_D: 1.3090 | Loss_G: 0.9111\n",
            "[Epoch 18/100] Loss_D: 1.3069 | Loss_G: 0.9208\n",
            "[Epoch 19/100] Loss_D: 1.2832 | Loss_G: 0.9333\n",
            "[Epoch 20/100] Loss_D: 1.2699 | Loss_G: 0.9740\n",
            "[Epoch 21/100] Loss_D: 1.2524 | Loss_G: 1.0169\n",
            "[Epoch 22/100] Loss_D: 1.2233 | Loss_G: 1.0527\n",
            "[Epoch 23/100] Loss_D: 1.2023 | Loss_G: 1.0850\n",
            "[Epoch 24/100] Loss_D: 1.1915 | Loss_G: 1.1170\n",
            "[Epoch 25/100] Loss_D: 1.1545 | Loss_G: 1.1647\n",
            "[Epoch 26/100] Loss_D: 1.1298 | Loss_G: 1.2194\n",
            "[Epoch 27/100] Loss_D: 1.1192 | Loss_G: 1.2724\n",
            "[Epoch 28/100] Loss_D: 1.0848 | Loss_G: 1.2700\n",
            "[Epoch 29/100] Loss_D: 1.0598 | Loss_G: 1.3403\n",
            "[Epoch 30/100] Loss_D: 1.0563 | Loss_G: 1.3687\n",
            "[Epoch 31/100] Loss_D: 1.0201 | Loss_G: 1.4126\n",
            "[Epoch 32/100] Loss_D: 1.0109 | Loss_G: 1.4068\n",
            "[Epoch 33/100] Loss_D: 0.9839 | Loss_G: 1.4588\n",
            "[Epoch 34/100] Loss_D: 0.9741 | Loss_G: 1.5124\n",
            "[Epoch 35/100] Loss_D: 0.9462 | Loss_G: 1.5389\n",
            "[Epoch 36/100] Loss_D: 0.9372 | Loss_G: 1.5602\n",
            "[Epoch 37/100] Loss_D: 0.9120 | Loss_G: 1.6095\n",
            "[Epoch 38/100] Loss_D: 0.9004 | Loss_G: 1.7032\n",
            "[Epoch 39/100] Loss_D: 0.8642 | Loss_G: 1.7290\n",
            "[Epoch 40/100] Loss_D: 0.8365 | Loss_G: 1.7852\n",
            "[Epoch 41/100] Loss_D: 0.8325 | Loss_G: 1.7984\n",
            "[Epoch 42/100] Loss_D: 0.8107 | Loss_G: 1.8305\n",
            "[Epoch 43/100] Loss_D: 0.7832 | Loss_G: 1.8926\n",
            "[Epoch 44/100] Loss_D: 0.7705 | Loss_G: 1.9472\n",
            "[Epoch 45/100] Loss_D: 0.7748 | Loss_G: 1.9350\n",
            "[Epoch 46/100] Loss_D: 0.7324 | Loss_G: 2.0305\n",
            "[Epoch 47/100] Loss_D: 0.7131 | Loss_G: 2.0754\n",
            "[Epoch 48/100] Loss_D: 0.7087 | Loss_G: 2.0966\n",
            "[Epoch 49/100] Loss_D: 0.6678 | Loss_G: 2.1212\n",
            "[Epoch 50/100] Loss_D: 0.6811 | Loss_G: 2.2565\n",
            "[Epoch 51/100] Loss_D: 0.6317 | Loss_G: 2.2541\n",
            "[Epoch 52/100] Loss_D: 0.6569 | Loss_G: 2.2866\n",
            "[Epoch 53/100] Loss_D: 0.6365 | Loss_G: 2.2771\n",
            "[Epoch 54/100] Loss_D: 0.6380 | Loss_G: 2.3515\n",
            "[Epoch 55/100] Loss_D: 0.6032 | Loss_G: 2.3513\n",
            "[Epoch 56/100] Loss_D: 0.5994 | Loss_G: 2.4768\n",
            "[Epoch 57/100] Loss_D: 0.5628 | Loss_G: 2.4968\n",
            "[Epoch 58/100] Loss_D: 0.5596 | Loss_G: 2.5678\n",
            "[Epoch 59/100] Loss_D: 0.5723 | Loss_G: 2.5626\n",
            "[Epoch 60/100] Loss_D: 0.5353 | Loss_G: 2.5661\n",
            "[Epoch 61/100] Loss_D: 0.5238 | Loss_G: 2.7258\n",
            "[Epoch 62/100] Loss_D: 0.5307 | Loss_G: 2.7285\n",
            "[Epoch 63/100] Loss_D: 0.5046 | Loss_G: 2.6932\n",
            "[Epoch 64/100] Loss_D: 0.5120 | Loss_G: 2.7229\n",
            "[Epoch 65/100] Loss_D: 0.4825 | Loss_G: 2.7573\n",
            "[Epoch 66/100] Loss_D: 0.4784 | Loss_G: 2.8188\n",
            "[Epoch 67/100] Loss_D: 0.4525 | Loss_G: 2.9790\n",
            "[Epoch 68/100] Loss_D: 0.4615 | Loss_G: 2.9293\n",
            "[Epoch 69/100] Loss_D: 0.4136 | Loss_G: 3.0171\n",
            "[Epoch 70/100] Loss_D: 0.4301 | Loss_G: 3.0684\n",
            "[Epoch 71/100] Loss_D: 0.4128 | Loss_G: 3.1648\n",
            "[Epoch 72/100] Loss_D: 0.4420 | Loss_G: 3.1497\n",
            "[Epoch 73/100] Loss_D: 0.4145 | Loss_G: 3.2205\n",
            "[Epoch 74/100] Loss_D: 0.4199 | Loss_G: 3.1425\n",
            "[Epoch 75/100] Loss_D: 0.3644 | Loss_G: 3.3123\n",
            "[Epoch 76/100] Loss_D: 0.3968 | Loss_G: 3.2276\n",
            "[Epoch 77/100] Loss_D: 0.3718 | Loss_G: 3.3366\n",
            "[Epoch 78/100] Loss_D: 0.3877 | Loss_G: 3.3482\n",
            "[Epoch 79/100] Loss_D: 0.3614 | Loss_G: 3.3420\n",
            "[Epoch 80/100] Loss_D: 0.3716 | Loss_G: 3.4409\n",
            "[Epoch 81/100] Loss_D: 0.3354 | Loss_G: 3.4114\n",
            "[Epoch 82/100] Loss_D: 0.3692 | Loss_G: 3.5903\n",
            "[Epoch 83/100] Loss_D: 0.3082 | Loss_G: 3.5204\n",
            "[Epoch 84/100] Loss_D: 0.3438 | Loss_G: 3.6726\n",
            "[Epoch 85/100] Loss_D: 0.3150 | Loss_G: 3.5706\n",
            "[Epoch 86/100] Loss_D: 0.2839 | Loss_G: 3.7351\n",
            "[Epoch 87/100] Loss_D: 0.3339 | Loss_G: 3.8854\n",
            "[Epoch 88/100] Loss_D: 0.3255 | Loss_G: 3.7418\n",
            "[Epoch 89/100] Loss_D: 0.3161 | Loss_G: 3.8300\n",
            "[Epoch 90/100] Loss_D: 0.2777 | Loss_G: 3.8521\n",
            "[Epoch 91/100] Loss_D: 0.3415 | Loss_G: 3.9817\n",
            "[Epoch 92/100] Loss_D: 0.2854 | Loss_G: 3.8060\n",
            "[Epoch 93/100] Loss_D: 0.2917 | Loss_G: 3.8258\n",
            "[Epoch 94/100] Loss_D: 0.3011 | Loss_G: 3.8494\n",
            "[Epoch 95/100] Loss_D: 0.2601 | Loss_G: 3.9792\n",
            "[Epoch 96/100] Loss_D: 0.2791 | Loss_G: 3.9061\n",
            "[Epoch 97/100] Loss_D: 0.2950 | Loss_G: 4.0154\n",
            "[Epoch 98/100] Loss_D: 0.2629 | Loss_G: 4.2098\n",
            "[Epoch 99/100] Loss_D: 0.2703 | Loss_G: 3.9733\n",
            "[Epoch 100/100] Loss_D: 0.2539 | Loss_G: 4.2085\n",
            "Training complete in 140 min 58 sec.\n"
          ]
        }
      ]
    },
    {
      "cell_type": "code",
      "source": [
        "# Plot and save loss curve\n",
        "metrics_path = os.path.join(exp_path, \"metrics\", \"losses.csv\")\n",
        "loss_D_log = []\n",
        "loss_G_log = []\n",
        "\n",
        "# Load loss logs\n",
        "if os.path.exists(metrics_path):\n",
        "    df = pd.read_csv(metrics_path)\n",
        "    loss_D_log = list(df[\"loss_D\"])\n",
        "    loss_G_log = list(df[\"loss_G\"])\n",
        "    print(f\"Loaded loss logs for {len(loss_D_log)} epochs from {metrics_path}\")\n",
        "else:\n",
        "    print(f\"No previous loss logs found. Starting fresh.\")\n",
        "\n",
        "epochs = list(range(1, len(loss_D_log) + 1))\n",
        "plt.figure(figsize=(10, 5))\n",
        "plt.plot(epochs, loss_D_log, label=\"Discriminator Loss\")\n",
        "plt.plot(epochs, loss_G_log, label=\"Generator Loss\")\n",
        "plt.xlabel(\"Epoch\")\n",
        "plt.ylabel(\"Loss\")\n",
        "plt.title(f\"Training Loss Curve ({experiment_id})\")\n",
        "plt.legend()\n",
        "plt.grid(True)\n",
        "plt.ylim(0, 7)\n",
        "plt.tight_layout()\n",
        "\n",
        "plot_path = os.path.join(exp_path, \"metrics\", \"loss_curve.png\")\n",
        "plt.savefig(plot_path)\n",
        "plt.close()\n",
        "print(f\"Loss curve saved: {plot_path}\")"
      ],
      "metadata": {
        "colab": {
          "base_uri": "https://localhost:8080/"
        },
        "id": "h59P1aGI1VGv",
        "outputId": "43f8fe03-27ea-48c7-8875-18c900498166"
      },
      "execution_count": null,
      "outputs": [
        {
          "output_type": "stream",
          "name": "stdout",
          "text": [
            "Loaded loss logs for 100 epochs from /content/drive/MyDrive/GAN_Research/E6_CGAN_Baseline/metrics/losses.csv\n",
            "Loss curve saved: /content/drive/MyDrive/GAN_Research/E6_CGAN_Baseline/metrics/loss_curve.png\n"
          ]
        }
      ]
    },
    {
      "cell_type": "code",
      "source": [
        "# Evaluation Settings\n",
        "eval_batch_size = 128\n",
        "num_eval_images = config[\"fid_samples\"]\n",
        "eval_image_size = config[\"image_size\"]\n",
        "real_dir = os.path.join(exp_path, \"eval_data\", \"real\")\n",
        "fake_dir = os.path.join(exp_path, \"eval_data\", \"fake\")\n",
        "\n",
        "# Clean eval folders\n",
        "for dir_ in [real_dir, fake_dir]:\n",
        "    for f in os.listdir(dir_):\n",
        "        os.remove(os.path.join(dir_, f))\n",
        "\n",
        "# Save real images\n",
        "def save_real_images():\n",
        "    i = 0\n",
        "    total_batches = num_eval_images // dataloader.batch_size + 1\n",
        "    for real_imgs, _ in tqdm(dataloader, desc=\"Saving real images\", total=total_batches):\n",
        "        for img in real_imgs:\n",
        "            save_image(img, f\"{real_dir}/{i}.png\", normalize=True)\n",
        "            i += 1\n",
        "            if i >= num_eval_images:\n",
        "                return\n",
        "\n",
        "# Save fake images\n",
        "def save_fake_images(generator):\n",
        "    generator.eval()\n",
        "    i = 0\n",
        "    total_batches = num_eval_images // eval_batch_size + 1\n",
        "    with torch.no_grad():\n",
        "        for _ in tqdm(range(total_batches), desc=\"Generating fake images\"):\n",
        "            curr_batch = min(eval_batch_size, num_eval_images - i)\n",
        "            noise = torch.randn(curr_batch, config[\"latent_dim\"], 1, 1, device=device)\n",
        "            labels = torch.randint(0, config[\"num_classes\"], (curr_batch,), device=device)\n",
        "            fake_imgs = generator(noise, labels).cpu()\n",
        "            for img in fake_imgs:\n",
        "                save_image(img, f\"{fake_dir}/{i}.png\", normalize=True)\n",
        "                i += 1\n",
        "                if i >= num_eval_images:\n",
        "                    return\n",
        "\n",
        "save_real_images()\n",
        "save_fake_images(G)\n",
        "\n",
        "# FID Calculation\n",
        "metrics = calculate_metrics(\n",
        "    input1=real_dir,\n",
        "    input2=fake_dir,\n",
        "    cuda=torch.cuda.is_available(),\n",
        "    isc=False,\n",
        "    fid=True,\n",
        "    kid=False,\n",
        "    verbose=False\n",
        ")\n",
        "fid = metrics[\"frechet_inception_distance\"]\n",
        "\n",
        "# Inception Score\n",
        "class PNGImageFolder(torch.utils.data.Dataset):\n",
        "    def __init__(self, folder, transform=None):\n",
        "        self.paths = [os.path.join(folder, f) for f in sorted(os.listdir(folder)) if f.endswith('.png')]\n",
        "        self.transform = transform\n",
        "\n",
        "    def __len__(self):\n",
        "        return len(self.paths)\n",
        "\n",
        "    def __getitem__(self, idx):\n",
        "        img = Image.open(self.paths[idx]).convert(\"RGB\")\n",
        "        if self.transform:\n",
        "            img = self.transform(img)\n",
        "        return img\n",
        "\n",
        "def compute_inception_score(image_folder, splits=10):\n",
        "    transform = transforms.Compose([\n",
        "        transforms.Resize((299, 299)),\n",
        "        transforms.ToTensor()\n",
        "    ])\n",
        "    dataset = PNGImageFolder(image_folder, transform)\n",
        "    loader = DataLoader(dataset, batch_size=64, shuffle=False)\n",
        "    model = inception_v3(pretrained=True, transform_input=False).to(device)\n",
        "    model.eval()\n",
        "    preds = []\n",
        "\n",
        "    for imgs in loader:\n",
        "        imgs = imgs.to(device)\n",
        "        with torch.no_grad():\n",
        "            pred = model(imgs)\n",
        "            pred = F.softmax(pred, dim=1).cpu().numpy()\n",
        "        preds.append(pred)\n",
        "\n",
        "    preds = np.concatenate(preds, axis=0)\n",
        "    split_scores = []\n",
        "\n",
        "    for k in range(splits):\n",
        "        part = preds[k * (len(preds) // splits): (k + 1) * (len(preds) // splits)]\n",
        "        py = np.mean(part, axis=0)\n",
        "        scores = [entropy(p, py) for p in part]\n",
        "        split_scores.append(np.exp(np.mean(scores)))\n",
        "\n",
        "    return float(np.mean(split_scores)), float(np.std(split_scores))\n",
        "\n",
        "mean_is, std_is = compute_inception_score(fake_dir)\n",
        "\n",
        "with open(os.path.join(exp_path, \"metrics\", \"eval_metrics.txt\"), \"w\") as f:\n",
        "    f.write(f\"FID: {fid:.4f}\\n\")\n",
        "    f.write(f\"Inception Score: {mean_is:.4f} ± {std_is:.4f}\\n\")\n",
        "\n",
        "print(f\"\\nFID: {fid:.4f}\")\n",
        "print(f\"Inception Score: {mean_is:.4f} ± {std_is:.4f}\")"
      ],
      "metadata": {
        "colab": {
          "base_uri": "https://localhost:8080/"
        },
        "id": "ONPYgp4Y1VJP",
        "outputId": "457d034f-defe-4338-a2c1-a8de1733aaf3"
      },
      "execution_count": null,
      "outputs": [
        {
          "output_type": "stream",
          "name": "stderr",
          "text": [
            "Saving real images:  99%|█████████▊| 78/79 [00:53<00:00,  1.46it/s]\n",
            "Generating fake images:  99%|█████████▊| 78/79 [00:57<00:00,  1.36it/s]\n",
            "Downloading: \"https://github.com/toshas/torch-fidelity/releases/download/v0.2.0/weights-inception-2015-12-05-6726825d.pth\" to /root/.cache/torch/hub/checkpoints/weights-inception-2015-12-05-6726825d.pth\n",
            "100%|██████████| 91.2M/91.2M [00:01<00:00, 50.5MB/s]\n",
            "/usr/local/lib/python3.11/dist-packages/torch_fidelity/datasets.py:16: UserWarning: TypedStorage is deprecated. It will be removed in the future and UntypedStorage will be the only storage class. This should only matter to you if you are using storages directly.  To access UntypedStorage directly, use tensor.untyped_storage() instead of tensor.storage()\n",
            "  img = torch.ByteTensor(torch.ByteStorage.from_buffer(img.tobytes())).view(height, width, 3)\n",
            "/usr/local/lib/python3.11/dist-packages/torchvision/models/_utils.py:208: UserWarning: The parameter 'pretrained' is deprecated since 0.13 and may be removed in the future, please use 'weights' instead.\n",
            "  warnings.warn(\n",
            "/usr/local/lib/python3.11/dist-packages/torchvision/models/_utils.py:223: UserWarning: Arguments other than a weight enum or `None` for 'weights' are deprecated since 0.13 and may be removed in the future. The current behavior is equivalent to passing `weights=Inception_V3_Weights.IMAGENET1K_V1`. You can also use `weights=Inception_V3_Weights.DEFAULT` to get the most up-to-date weights.\n",
            "  warnings.warn(msg)\n",
            "Downloading: \"https://download.pytorch.org/models/inception_v3_google-0cc3c7bd.pth\" to /root/.cache/torch/hub/checkpoints/inception_v3_google-0cc3c7bd.pth\n",
            "100%|██████████| 104M/104M [00:00<00:00, 205MB/s] \n"
          ]
        },
        {
          "output_type": "stream",
          "name": "stdout",
          "text": [
            "\n",
            "FID: 79.7459\n",
            "Inception Score: 2.7588 ± 0.0539\n"
          ]
        }
      ]
    },
    {
      "cell_type": "markdown",
      "source": [
        "### E7_CGAN_L1_DiscW"
      ],
      "metadata": {
        "id": "4tfkZYkH6cPH"
      }
    },
    {
      "cell_type": "code",
      "source": [
        "# E7_CGAN_L1_DiscW: L1 Regularization on Discriminator Weights (CGAN)\n",
        "\n",
        "# Experiment Configuration\n",
        "experiment_id = \"E7_CGAN_L1_DiscW\"\n",
        "config = config.copy()\n",
        "config.update({\n",
        "    \"experiment_id\": experiment_id,\n",
        "    \"regularization_type\": \"L1\",\n",
        "    \"regularization_lambda_L1\": 0.0001,\n",
        "    \"regularization_lambda_L2\": 0.0,\n",
        "    \"regularization_placement\": \"discriminator_weights_early\",\n",
        "})"
      ],
      "metadata": {
        "id": "o2VRgAYm1K1c"
      },
      "execution_count": null,
      "outputs": []
    },
    {
      "cell_type": "code",
      "source": [
        "# Prepare experiment folder\n",
        "exp_path = os.path.join(ROOT_DIR, experiment_id)\n",
        "for subfolder in [\"images\", \"metrics\", \"eval_data/real\", \"eval_data/fake\"]:\n",
        "    os.makedirs(os.path.join(exp_path, subfolder), exist_ok=True)"
      ],
      "metadata": {
        "id": "YUNNT3_X6aTx"
      },
      "execution_count": null,
      "outputs": []
    },
    {
      "cell_type": "code",
      "source": [
        "# Save config\n",
        "config_path = os.path.join(exp_path, \"config_manual.txt\")\n",
        "with open(config_path, \"w\") as f:\n",
        "    for k, v in config.items():\n",
        "        f.write(f\"{k}: {v}\\n\")\n",
        "print(f\"Configuration saved: {config_path}\")"
      ],
      "metadata": {
        "colab": {
          "base_uri": "https://localhost:8080/"
        },
        "id": "Bt6dXaoe6aXH",
        "outputId": "fdfd66b1-dc6f-4665-f401-d2abf4ab006f"
      },
      "execution_count": null,
      "outputs": [
        {
          "output_type": "stream",
          "name": "stdout",
          "text": [
            "Configuration saved: /content/drive/MyDrive/GAN_Research/E7_CGAN_L1_DiscW/config_manual.txt\n"
          ]
        }
      ]
    },
    {
      "cell_type": "code",
      "source": [
        "# Reload fixed noise and labels from baseline\n",
        "fixed_noise = torch.load(os.path.join(ROOT_DIR, \"E6_CGAN_Baseline\", \"fixed_noise.pt\"))\n",
        "fixed_labels = torch.load(os.path.join(ROOT_DIR, \"E6_CGAN_Baseline\", \"fixed_labels.pt\"))"
      ],
      "metadata": {
        "id": "0zZLBZuO6aaB"
      },
      "execution_count": null,
      "outputs": []
    },
    {
      "cell_type": "code",
      "source": [
        "# Initialize models\n",
        "G = CGANGenerator(latent_dim=config[\"latent_dim\"], num_classes=config[\"num_classes\"]).to(device)\n",
        "D = CGANDiscriminator(num_classes=config[\"num_classes\"]).to(device)\n",
        "G.apply(weights_init)\n",
        "D.apply(weights_init)\n",
        "print(f\"Generator and Discriminator initialized for {experiment_id}\")"
      ],
      "metadata": {
        "colab": {
          "base_uri": "https://localhost:8080/"
        },
        "id": "8EOmi3uw4ts9",
        "outputId": "20ff5dbe-c6e4-47fd-e210-78271032af0a"
      },
      "execution_count": null,
      "outputs": [
        {
          "output_type": "stream",
          "name": "stdout",
          "text": [
            "Generator and Discriminator initialized for E7_CGAN_L1_DiscW\n"
          ]
        }
      ]
    },
    {
      "cell_type": "code",
      "source": [
        "# Define loss and optimizers\n",
        "criterion = nn.BCELoss()\n",
        "optimizer_G = optim.Adam(G.parameters(), lr=config[\"learning_rate\"], betas=(config[\"beta1\"], 0.999))\n",
        "optimizer_D = optim.Adam(D.parameters(), lr=config[\"learning_rate\"], betas=(config[\"beta1\"], 0.999))"
      ],
      "metadata": {
        "id": "VNhgT8S14tqJ"
      },
      "execution_count": null,
      "outputs": []
    },
    {
      "cell_type": "code",
      "source": [
        "# Checkpointing\n",
        "checkpoint_path = os.path.join(exp_path, \"checkpoint.pt\")\n",
        "start_epoch = 1\n",
        "if os.path.exists(checkpoint_path):\n",
        "    ckpt = torch.load(checkpoint_path)\n",
        "    G.load_state_dict(ckpt[\"G_state_dict\"])\n",
        "    D.load_state_dict(ckpt[\"D_state_dict\"])\n",
        "    optimizer_G.load_state_dict(ckpt[\"optimizer_G\"])\n",
        "    optimizer_D.load_state_dict(ckpt[\"optimizer_D\"])\n",
        "    start_epoch = ckpt[\"epoch\"] + 1\n",
        "    print(f\"Resumed from checkpoint epoch {ckpt['epoch']}\")\n",
        "else:\n",
        "    print(\"Starting from scratch.\")"
      ],
      "metadata": {
        "colab": {
          "base_uri": "https://localhost:8080/"
        },
        "id": "VzH4E2p24tnp",
        "outputId": "d0d375a7-7c40-4000-a71e-d748f9cf9d59"
      },
      "execution_count": null,
      "outputs": [
        {
          "output_type": "stream",
          "name": "stdout",
          "text": [
            "Starting from scratch.\n"
          ]
        }
      ]
    },
    {
      "cell_type": "code",
      "source": [
        "# Load previous loss logs\n",
        "metrics_path = os.path.join(exp_path, \"metrics\", \"losses.csv\")\n",
        "loss_D_log = []\n",
        "loss_G_log = []\n",
        "if os.path.exists(metrics_path):\n",
        "    df_prev = pd.read_csv(metrics_path)\n",
        "    loss_D_log = list(df_prev[\"loss_D\"])\n",
        "    loss_G_log = list(df_prev[\"loss_G\"])\n",
        "    print(f\"Loaded previous loss logs for {len(loss_D_log)} epochs.\")\n",
        "else:\n",
        "    print(\"No previous loss logs found. Starting fresh.\")\n",
        "\n",
        "# Training Loop\n",
        "training_start_time = time.time()\n",
        "\n",
        "for epoch in range(start_epoch, config[\"num_epochs\"] + 1):\n",
        "    loss_D_epoch = 0.0\n",
        "    loss_G_epoch = 0.0\n",
        "\n",
        "    for real_imgs, real_labels in dataloader:\n",
        "        real_imgs, real_labels = real_imgs.to(device), real_labels.to(device)\n",
        "        batch_size = real_imgs.size(0)\n",
        "        real_targets = torch.ones(batch_size, device=device)\n",
        "        fake_targets = torch.zeros(batch_size, device=device)\n",
        "\n",
        "        # Train Discriminator\n",
        "        optimizer_D.zero_grad()\n",
        "        noise = torch.randn(batch_size, config[\"latent_dim\"], 1, 1, device=device)\n",
        "        fake_labels = torch.randint(0, config[\"num_classes\"], (batch_size,), device=device)\n",
        "        fake_imgs = G(noise, fake_labels).detach()\n",
        "\n",
        "        output_real = D(real_imgs, real_labels).view(-1)\n",
        "        output_fake = D(fake_imgs, fake_labels).view(-1)\n",
        "        loss_D = criterion(output_real, real_targets) + criterion(output_fake, fake_targets)\n",
        "\n",
        "        # Add L1 regularization on early discriminator convolutional layers\n",
        "        # Penalize absolute values of weights in the first two Conv2d layers of D\n",
        "        if config[\"regularization_type\"] == \"L1\" and config[\"regularization_placement\"] == \"discriminator_weights_early\":\n",
        "            l1_reg = torch.tensor(0., device=device)\n",
        "            conv_count = 0\n",
        "            for module in D.modules():\n",
        "                if isinstance(module, nn.Conv2d):\n",
        "                    l1_reg += torch.sum(torch.abs(module.weight))\n",
        "                    conv_count += 1\n",
        "                    if conv_count == 2:\n",
        "                        break\n",
        "            loss_D += config[\"regularization_lambda_L1\"] * l1_reg\n",
        "\n",
        "        loss_D.backward()\n",
        "        optimizer_D.step()\n",
        "\n",
        "        # Train Generator\n",
        "        optimizer_G.zero_grad()\n",
        "        noise = torch.randn(batch_size, config[\"latent_dim\"], 1, 1, device=device)\n",
        "        fake_labels = torch.randint(0, config[\"num_classes\"], (batch_size,), device=device)\n",
        "        gen_imgs = G(noise, fake_labels)\n",
        "        output = D(gen_imgs, fake_labels).view(-1)\n",
        "        loss_G = criterion(output, real_targets)\n",
        "        loss_G.backward()\n",
        "        optimizer_G.step()\n",
        "\n",
        "        loss_D_epoch += loss_D.item()\n",
        "        loss_G_epoch += loss_G.item()\n",
        "\n",
        "    # Logging\n",
        "    avg_D = loss_D_epoch / len(dataloader)\n",
        "    avg_G = loss_G_epoch / len(dataloader)\n",
        "    loss_D_log.append(avg_D)\n",
        "    loss_G_log.append(avg_G)\n",
        "    print(f\"[Epoch {epoch}/{config['num_epochs']}] Loss_D: {avg_D:.4f}, Loss_G: {avg_G:.4f}\")\n",
        "\n",
        "    # Save sample image\n",
        "    if epoch % config[\"save_images_every\"] == 0 or epoch == 1:\n",
        "        with torch.no_grad():\n",
        "            samples = G(fixed_noise, fixed_labels).detach().cpu()\n",
        "            img_path = os.path.join(exp_path, \"images\", f\"epoch_{epoch:03}.png\")\n",
        "            save_image(samples, img_path, normalize=True, nrow=8)\n",
        "\n",
        "    # Save checkpoint\n",
        "    if epoch % 10 == 0 or epoch == config[\"num_epochs\"]:\n",
        "        torch.save({\n",
        "            \"epoch\": epoch,\n",
        "            \"G_state_dict\": G.state_dict(),\n",
        "            \"D_state_dict\": D.state_dict(),\n",
        "            \"optimizer_G\": optimizer_G.state_dict(),\n",
        "            \"optimizer_D\": optimizer_D.state_dict(),\n",
        "        }, checkpoint_path)\n",
        "\n",
        "    # Save loss CSV\n",
        "    with open(metrics_path, \"w\") as f:\n",
        "        f.write(\"epoch,loss_D,loss_G\\n\")\n",
        "        for i in range(len(loss_D_log)):\n",
        "            f.write(f\"{i+1},{loss_D_log[i]},{loss_G_log[i]}\\n\")\n",
        "\n",
        "# Training Time\n",
        "total_sec = time.time() - training_start_time\n",
        "mins, secs = int(total_sec // 60), int(total_sec % 60)\n",
        "with open(os.path.join(exp_path, \"training_time.txt\"), \"w\") as f:\n",
        "    f.write(f\"Total training time: {mins} min {secs} sec\\n\")\n",
        "print(f\"Training completed in {mins} min {secs} sec.\")"
      ],
      "metadata": {
        "colab": {
          "base_uri": "https://localhost:8080/"
        },
        "id": "zZMnEpD-4tii",
        "outputId": "3359e478-69ef-4b72-e81e-a48aa2852c9e"
      },
      "execution_count": null,
      "outputs": [
        {
          "output_type": "stream",
          "name": "stdout",
          "text": [
            "No previous loss logs found. Starting fresh.\n",
            "[Epoch 1/100] Loss_D: 1.3052, Loss_G: 1.1755\n",
            "[Epoch 2/100] Loss_D: 1.3716, Loss_G: 1.1904\n",
            "[Epoch 3/100] Loss_D: 1.3814, Loss_G: 1.2336\n",
            "[Epoch 4/100] Loss_D: 1.4020, Loss_G: 1.2338\n",
            "[Epoch 5/100] Loss_D: 1.4046, Loss_G: 1.2355\n",
            "[Epoch 6/100] Loss_D: 1.4190, Loss_G: 1.1531\n",
            "[Epoch 7/100] Loss_D: 1.4150, Loss_G: 1.1076\n",
            "[Epoch 8/100] Loss_D: 1.4284, Loss_G: 1.0872\n",
            "[Epoch 9/100] Loss_D: 1.4207, Loss_G: 1.1047\n",
            "[Epoch 10/100] Loss_D: 1.4307, Loss_G: 1.1070\n",
            "[Epoch 11/100] Loss_D: 1.4320, Loss_G: 1.0807\n",
            "[Epoch 12/100] Loss_D: 1.4239, Loss_G: 1.0294\n",
            "[Epoch 13/100] Loss_D: 1.4376, Loss_G: 1.0352\n",
            "[Epoch 14/100] Loss_D: 1.4150, Loss_G: 1.0405\n",
            "[Epoch 15/100] Loss_D: 1.4178, Loss_G: 1.0939\n",
            "[Epoch 16/100] Loss_D: 1.4064, Loss_G: 1.0743\n",
            "[Epoch 17/100] Loss_D: 1.3914, Loss_G: 1.0917\n",
            "[Epoch 18/100] Loss_D: 1.3647, Loss_G: 1.1619\n",
            "[Epoch 19/100] Loss_D: 1.3448, Loss_G: 1.1853\n",
            "[Epoch 20/100] Loss_D: 1.3333, Loss_G: 1.2229\n",
            "[Epoch 21/100] Loss_D: 1.3037, Loss_G: 1.2577\n",
            "[Epoch 22/100] Loss_D: 1.2797, Loss_G: 1.3526\n",
            "[Epoch 23/100] Loss_D: 1.2497, Loss_G: 1.3688\n",
            "[Epoch 24/100] Loss_D: 1.2278, Loss_G: 1.4089\n",
            "[Epoch 25/100] Loss_D: 1.2243, Loss_G: 1.4486\n",
            "[Epoch 26/100] Loss_D: 1.2028, Loss_G: 1.4643\n",
            "[Epoch 27/100] Loss_D: 1.1873, Loss_G: 1.4906\n",
            "[Epoch 28/100] Loss_D: 1.1831, Loss_G: 1.5395\n",
            "[Epoch 29/100] Loss_D: 1.1789, Loss_G: 1.5443\n",
            "[Epoch 30/100] Loss_D: 1.1566, Loss_G: 1.5874\n",
            "[Epoch 31/100] Loss_D: 1.1454, Loss_G: 1.5728\n",
            "[Epoch 32/100] Loss_D: 1.1005, Loss_G: 1.6482\n",
            "[Epoch 33/100] Loss_D: 1.1053, Loss_G: 1.6615\n",
            "[Epoch 34/100] Loss_D: 1.0823, Loss_G: 1.7321\n",
            "[Epoch 35/100] Loss_D: 1.0651, Loss_G: 1.8258\n",
            "[Epoch 36/100] Loss_D: 1.0476, Loss_G: 1.7926\n",
            "[Epoch 37/100] Loss_D: 0.9991, Loss_G: 1.9158\n",
            "[Epoch 38/100] Loss_D: 0.9997, Loss_G: 1.9768\n",
            "[Epoch 39/100] Loss_D: 0.9704, Loss_G: 1.9856\n",
            "[Epoch 40/100] Loss_D: 0.9550, Loss_G: 2.1060\n",
            "[Epoch 41/100] Loss_D: 0.9453, Loss_G: 2.0783\n",
            "[Epoch 42/100] Loss_D: 0.9235, Loss_G: 2.1658\n",
            "[Epoch 43/100] Loss_D: 0.8936, Loss_G: 2.1473\n",
            "[Epoch 44/100] Loss_D: 0.8900, Loss_G: 2.2596\n",
            "[Epoch 45/100] Loss_D: 0.8756, Loss_G: 2.2949\n",
            "[Epoch 46/100] Loss_D: 0.8509, Loss_G: 2.3866\n",
            "[Epoch 47/100] Loss_D: 0.8474, Loss_G: 2.3757\n",
            "[Epoch 48/100] Loss_D: 0.8552, Loss_G: 2.4333\n",
            "[Epoch 49/100] Loss_D: 0.8090, Loss_G: 2.5277\n",
            "[Epoch 50/100] Loss_D: 0.8378, Loss_G: 2.4493\n",
            "[Epoch 51/100] Loss_D: 0.7734, Loss_G: 2.5091\n",
            "[Epoch 52/100] Loss_D: 0.8156, Loss_G: 2.6015\n",
            "[Epoch 53/100] Loss_D: 0.7658, Loss_G: 2.6974\n",
            "[Epoch 54/100] Loss_D: 0.7591, Loss_G: 2.6787\n",
            "[Epoch 55/100] Loss_D: 0.7642, Loss_G: 2.7683\n",
            "[Epoch 56/100] Loss_D: 0.7542, Loss_G: 2.8589\n",
            "[Epoch 57/100] Loss_D: 0.7356, Loss_G: 2.8840\n",
            "[Epoch 58/100] Loss_D: 0.7095, Loss_G: 2.9310\n",
            "[Epoch 59/100] Loss_D: 0.7473, Loss_G: 2.8793\n",
            "[Epoch 60/100] Loss_D: 0.7256, Loss_G: 2.9351\n",
            "[Epoch 61/100] Loss_D: 0.6861, Loss_G: 2.8949\n",
            "[Epoch 62/100] Loss_D: 0.7099, Loss_G: 3.0078\n",
            "[Epoch 63/100] Loss_D: 0.7095, Loss_G: 2.9859\n",
            "[Epoch 64/100] Loss_D: 0.7084, Loss_G: 2.9832\n",
            "[Epoch 65/100] Loss_D: 0.6664, Loss_G: 3.0373\n",
            "[Epoch 66/100] Loss_D: 0.6375, Loss_G: 3.1893\n",
            "[Epoch 67/100] Loss_D: 0.6718, Loss_G: 3.1419\n",
            "[Epoch 68/100] Loss_D: 0.6452, Loss_G: 3.1483\n",
            "[Epoch 69/100] Loss_D: 0.6329, Loss_G: 3.3371\n",
            "[Epoch 70/100] Loss_D: 0.6573, Loss_G: 3.2485\n",
            "[Epoch 71/100] Loss_D: 0.6227, Loss_G: 3.3398\n",
            "[Epoch 72/100] Loss_D: 0.6093, Loss_G: 3.3201\n",
            "[Epoch 73/100] Loss_D: 0.6746, Loss_G: 3.4441\n",
            "[Epoch 74/100] Loss_D: 0.6267, Loss_G: 3.3185\n",
            "[Epoch 75/100] Loss_D: 0.5779, Loss_G: 3.5424\n",
            "[Epoch 76/100] Loss_D: 0.6319, Loss_G: 3.4101\n",
            "[Epoch 77/100] Loss_D: 0.6355, Loss_G: 3.4630\n",
            "[Epoch 78/100] Loss_D: 0.5747, Loss_G: 3.4727\n",
            "[Epoch 79/100] Loss_D: 0.6006, Loss_G: 3.4932\n",
            "[Epoch 80/100] Loss_D: 0.6242, Loss_G: 3.4637\n",
            "[Epoch 81/100] Loss_D: 0.5500, Loss_G: 3.7069\n",
            "[Epoch 82/100] Loss_D: 0.5769, Loss_G: 3.6342\n",
            "[Epoch 83/100] Loss_D: 0.5659, Loss_G: 3.6777\n",
            "[Epoch 84/100] Loss_D: 0.5566, Loss_G: 3.8434\n",
            "[Epoch 85/100] Loss_D: 0.5653, Loss_G: 3.8399\n",
            "[Epoch 86/100] Loss_D: 0.5806, Loss_G: 3.8073\n",
            "[Epoch 87/100] Loss_D: 0.5295, Loss_G: 3.8076\n",
            "[Epoch 88/100] Loss_D: 0.5429, Loss_G: 3.8717\n",
            "[Epoch 89/100] Loss_D: 0.5684, Loss_G: 3.9661\n",
            "[Epoch 90/100] Loss_D: 0.5192, Loss_G: 4.0586\n",
            "[Epoch 91/100] Loss_D: 0.5315, Loss_G: 4.0126\n",
            "[Epoch 92/100] Loss_D: 0.5328, Loss_G: 4.0590\n",
            "[Epoch 93/100] Loss_D: 0.5197, Loss_G: 4.0180\n",
            "[Epoch 94/100] Loss_D: 0.5524, Loss_G: 3.9440\n",
            "[Epoch 95/100] Loss_D: 0.5033, Loss_G: 4.1580\n",
            "[Epoch 96/100] Loss_D: 0.5303, Loss_G: 4.2032\n",
            "[Epoch 97/100] Loss_D: 0.5041, Loss_G: 4.1393\n",
            "[Epoch 98/100] Loss_D: 0.5844, Loss_G: 4.0619\n",
            "[Epoch 99/100] Loss_D: 0.4957, Loss_G: 4.0118\n",
            "[Epoch 100/100] Loss_D: 0.4492, Loss_G: 4.3525\n",
            "Training completed in 139 min 55 sec.\n"
          ]
        }
      ]
    },
    {
      "cell_type": "code",
      "source": [
        "# Plot and Save Loss Curve\n",
        "metrics_path = os.path.join(exp_path, \"metrics\", \"losses.csv\")\n",
        "loss_D_log = []\n",
        "loss_G_log = []\n",
        "\n",
        "# Load loss logs\n",
        "if os.path.exists(metrics_path):\n",
        "    df = pd.read_csv(metrics_path)\n",
        "    loss_D_log = list(df[\"loss_D\"])\n",
        "    loss_G_log = list(df[\"loss_G\"])\n",
        "    print(f\"Loaded loss logs for {len(loss_D_log)} epochs from {metrics_path}\")\n",
        "else:\n",
        "    print(\"No previous loss logs found. Starting fresh.\")\n",
        "\n",
        "epochs = list(range(1, len(loss_D_log) + 1))\n",
        "plt.figure(figsize=(10, 5))\n",
        "plt.plot(epochs, loss_D_log, label=\"Discriminator Loss\")\n",
        "plt.plot(epochs, loss_G_log, label=\"Generator Loss\")\n",
        "plt.xlabel(\"Epoch\", fontsize=12)\n",
        "plt.ylabel(\"Loss\", fontsize=12)\n",
        "plt.title(f\"Training Loss Curve ({experiment_id})\")\n",
        "plt.legend()\n",
        "plt.grid(True)\n",
        "plt.ylim(0, 7)\n",
        "plt.tight_layout()\n",
        "\n",
        "plot_path = os.path.join(exp_path, \"metrics\", \"loss_curve.png\")\n",
        "plt.savefig(plot_path)\n",
        "plt.close()\n",
        "print(f\"Loss curve saved: {plot_path}\")"
      ],
      "metadata": {
        "colab": {
          "base_uri": "https://localhost:8080/"
        },
        "id": "N8CSI0XT4tf4",
        "outputId": "1644e040-da77-4ac4-b593-6f0075df218a"
      },
      "execution_count": null,
      "outputs": [
        {
          "output_type": "stream",
          "name": "stdout",
          "text": [
            "Loaded loss logs for 100 epochs from /content/drive/MyDrive/GAN_Research/E7_CGAN_L1_DiscW/metrics/losses.csv\n",
            "Loss curve saved: /content/drive/MyDrive/GAN_Research/E7_CGAN_L1_DiscW/metrics/loss_curve.png\n"
          ]
        }
      ]
    },
    {
      "cell_type": "code",
      "source": [
        "# Evaluation: FID and Inception Score\n",
        "eval_batch_size = 128\n",
        "num_eval_images = config[\"fid_samples\"]\n",
        "eval_image_size = config[\"image_size\"]\n",
        "real_dir = os.path.join(exp_path, \"eval_data\", \"real\")\n",
        "fake_dir = os.path.join(exp_path, \"eval_data\", \"fake\")\n",
        "\n",
        "# Clean eval folders\n",
        "for dir_ in [real_dir, fake_dir]:\n",
        "    for f in os.listdir(dir_):\n",
        "        os.remove(os.path.join(dir_, f))\n",
        "\n",
        "# Save real images\n",
        "def save_real_images():\n",
        "    transform_eval = transforms.Compose([\n",
        "        transforms.Resize(eval_image_size),\n",
        "        transforms.CenterCrop(eval_image_size),\n",
        "        transforms.ToTensor(),\n",
        "        transforms.Normalize((0.5,) * 3, (0.5,) * 3)\n",
        "    ])\n",
        "    dataset = datasets.CIFAR10(root=\"./data\", train=True, download=True, transform=transform_eval)\n",
        "    loader = DataLoader(dataset, batch_size=eval_batch_size, shuffle=False)\n",
        "\n",
        "    i = 0\n",
        "    for imgs, _ in loader:\n",
        "        for img in imgs:\n",
        "            save_image(img, f\"{real_dir}/{i}.png\", normalize=True)\n",
        "            i += 1\n",
        "            if i >= num_eval_images:\n",
        "                return\n",
        "\n",
        "# Save fake images\n",
        "def save_fake_images(generator):\n",
        "    generator.eval()\n",
        "    i = 0\n",
        "    with torch.no_grad():\n",
        "        for _ in tqdm(range(0, num_eval_images, eval_batch_size), desc=\"Generating fake\"):\n",
        "            curr_batch = min(eval_batch_size, num_eval_images - i)\n",
        "            noise = torch.randn(curr_batch, config[\"latent_dim\"], 1, 1, device=device)\n",
        "            labels = torch.randint(0, config[\"num_classes\"], (curr_batch,), device=device)\n",
        "            fake_imgs = generator(noise, labels).cpu()\n",
        "            for img in fake_imgs:\n",
        "                save_image(img, f\"{fake_dir}/{i}.png\", normalize=True)\n",
        "                i += 1\n",
        "                if i >= num_eval_images:\n",
        "                    return\n",
        "\n",
        "save_real_images()\n",
        "save_fake_images(G)\n",
        "\n",
        "# FID Calculation\n",
        "metrics = calculate_metrics(\n",
        "    input1=real_dir,\n",
        "    input2=fake_dir,\n",
        "    cuda=torch.cuda.is_available(),\n",
        "    isc=False,\n",
        "    fid=True,\n",
        "    kid=False,\n",
        "    verbose=False\n",
        ")\n",
        "fid = metrics['frechet_inception_distance']\n",
        "\n",
        "# Inception Score\n",
        "class PNGImageFolder(torch.utils.data.Dataset):\n",
        "    def __init__(self, folder, transform=None):\n",
        "        self.paths = [os.path.join(folder, f) for f in sorted(os.listdir(folder)) if f.endswith('.png')]\n",
        "        self.transform = transform\n",
        "\n",
        "    def __len__(self): return len(self.paths)\n",
        "\n",
        "    def __getitem__(self, idx):\n",
        "        img = Image.open(self.paths[idx]).convert(\"RGB\")\n",
        "        if self.transform:\n",
        "            img = self.transform(img)\n",
        "        return img\n",
        "\n",
        "def compute_inception_score(image_folder, splits=10):\n",
        "    transform = transforms.Compose([\n",
        "        transforms.Resize((299, 299)),\n",
        "        transforms.ToTensor()\n",
        "    ])\n",
        "    dataset = PNGImageFolder(image_folder, transform)\n",
        "    loader = DataLoader(dataset, batch_size=64, shuffle=False)\n",
        "    model = inception_v3(pretrained=True, transform_input=False).to(device)\n",
        "    model.eval()\n",
        "    preds = []\n",
        "\n",
        "    for imgs in loader:\n",
        "        imgs = imgs.to(device)\n",
        "        with torch.no_grad():\n",
        "            pred = model(imgs)\n",
        "            pred = F.softmax(pred, dim=1).cpu().numpy()\n",
        "        preds.append(pred)\n",
        "\n",
        "    preds = np.concatenate(preds, axis=0)\n",
        "    split_scores = []\n",
        "    for k in range(splits):\n",
        "        part = preds[k * (len(preds)//splits): (k+1)*(len(preds)//splits)]\n",
        "        py = np.mean(part, axis=0)\n",
        "        scores = [entropy(p, py) for p in part]\n",
        "        split_scores.append(np.exp(np.mean(scores)))\n",
        "\n",
        "    return float(np.mean(split_scores)), float(np.std(split_scores))\n",
        "\n",
        "mean_is, std_is = compute_inception_score(fake_dir)\n",
        "\n",
        "metrics_path = os.path.join(exp_path, \"metrics\", \"eval_metrics.txt\")\n",
        "with open(metrics_path, \"w\") as f:\n",
        "    f.write(f\"FID: {fid:.4f}\\n\")\n",
        "    f.write(f\"Inception Score: {mean_is:.4f} ± {std_is:.4f}\\n\")\n",
        "\n",
        "print(f\"\\nFID: {fid:.4f}\")\n",
        "print(f\"Inception Score: {mean_is:.4f} ± {std_is:.4f}\")"
      ],
      "metadata": {
        "colab": {
          "base_uri": "https://localhost:8080/"
        },
        "id": "qDlLn52I4tdg",
        "outputId": "01e61e3a-dd4b-4336-88eb-5c15cac76b68"
      },
      "execution_count": null,
      "outputs": [
        {
          "output_type": "stream",
          "name": "stderr",
          "text": [
            "Generating fake:  99%|█████████▊| 78/79 [00:59<00:00,  1.31it/s]\n",
            "Downloading: \"https://github.com/toshas/torch-fidelity/releases/download/v0.2.0/weights-inception-2015-12-05-6726825d.pth\" to /root/.cache/torch/hub/checkpoints/weights-inception-2015-12-05-6726825d.pth\n",
            "100%|██████████| 91.2M/91.2M [00:02<00:00, 32.2MB/s]\n",
            "/usr/local/lib/python3.11/dist-packages/torch_fidelity/datasets.py:16: UserWarning: TypedStorage is deprecated. It will be removed in the future and UntypedStorage will be the only storage class. This should only matter to you if you are using storages directly.  To access UntypedStorage directly, use tensor.untyped_storage() instead of tensor.storage()\n",
            "  img = torch.ByteTensor(torch.ByteStorage.from_buffer(img.tobytes())).view(height, width, 3)\n",
            "/usr/local/lib/python3.11/dist-packages/torchvision/models/_utils.py:208: UserWarning: The parameter 'pretrained' is deprecated since 0.13 and may be removed in the future, please use 'weights' instead.\n",
            "  warnings.warn(\n",
            "/usr/local/lib/python3.11/dist-packages/torchvision/models/_utils.py:223: UserWarning: Arguments other than a weight enum or `None` for 'weights' are deprecated since 0.13 and may be removed in the future. The current behavior is equivalent to passing `weights=Inception_V3_Weights.IMAGENET1K_V1`. You can also use `weights=Inception_V3_Weights.DEFAULT` to get the most up-to-date weights.\n",
            "  warnings.warn(msg)\n",
            "Downloading: \"https://download.pytorch.org/models/inception_v3_google-0cc3c7bd.pth\" to /root/.cache/torch/hub/checkpoints/inception_v3_google-0cc3c7bd.pth\n",
            "100%|██████████| 104M/104M [00:00<00:00, 238MB/s] \n"
          ]
        },
        {
          "output_type": "stream",
          "name": "stdout",
          "text": [
            "\n",
            "FID: 73.6611\n",
            "Inception Score: 3.0467 ± 0.0596\n"
          ]
        }
      ]
    },
    {
      "cell_type": "markdown",
      "source": [
        "### Results Visualization: FID and IS Scores"
      ],
      "metadata": {
        "id": "RkbqZs1IdGOR"
      }
    },
    {
      "cell_type": "code",
      "source": [
        "# FID data\n",
        "fid_data = {\n",
        "    'Experiment': ['E5_L1_DiscW', 'E2_L2_GenOut', 'E1_Baseline', 'E5_L2_DiscW',\n",
        "                   'E3_L2_DiscIn', 'E4_L2_GenW', 'E2_L1_GenOut', 'E3_L1_DiscIn',\n",
        "                   'E4_L1_GenW', 'E7_CGAN_L1_DiscW', 'E6_CGAN_Baseline'],\n",
        "    'FID Score': [44.51, 45.57, 47.63, 47.82, 49.56, 49.59, 50.28, 50.93,\n",
        "                  54.24, 73.66, 79.75]\n",
        "}\n",
        "\n",
        "df_fid = pd.DataFrame(fid_data).sort_values('FID Score')\n",
        "\n",
        "# Plot\n",
        "plt.figure(figsize=(10, 6))\n",
        "bars = plt.bar(df_fid['Experiment'], df_fid['FID Score'], color='skyblue')\n",
        "plt.xticks(rotation=45, ha='right')\n",
        "plt.title('FID Scores by Experiment (Lower is Better)', fontsize=14)\n",
        "plt.ylabel('FID Score')\n",
        "plt.grid(axis='y', linestyle='--', alpha=0.7)\n",
        "\n",
        "for bar in bars:\n",
        "    yval = bar.get_height()\n",
        "    plt.text(bar.get_x() + bar.get_width()/2, yval + 0.5, f'{yval:.2f}', ha='center', fontsize=9)\n",
        "\n",
        "plt.tight_layout()\n",
        "plt.show()"
      ],
      "metadata": {
        "colab": {
          "base_uri": "https://localhost:8080/",
          "height": 607
        },
        "id": "PGOvhjuMgyPF",
        "outputId": "3a06c9cf-b649-46d2-a7b9-9bbe0aea26c0"
      },
      "execution_count": null,
      "outputs": [
        {
          "output_type": "display_data",
          "data": {
            "text/plain": [
              "<Figure size 1000x600 with 1 Axes>"
            ],
            "image/png": "[encoded data removed]"
          },
          "metadata": {}
        }
      ]
    },
    {
      "cell_type": "code",
      "source": [
        "# IS data\n",
        "is_data = {\n",
        "    'Experiment': ['E3_L2_DiscIn', 'E4_L1_GenW', 'E1_Baseline', 'E5_L2_DiscW',\n",
        "                   'E2_L2_GenOut', 'E4_L2_GenW', 'E5_L1_DiscW', 'E2_L1_GenOut',\n",
        "                   'E3_L1_DiscIn', 'E7_CGAN_L1_DiscW', 'E6_CGAN_Baseline'],\n",
        "    'IS Score': [3.5425, 3.5390, 3.5376, 3.5081, 3.4781, 3.4440, 3.4408,\n",
        "                 3.4228, 3.3823, 3.0467, 2.7588]\n",
        "}\n",
        "\n",
        "df_is = pd.DataFrame(is_data).sort_values('IS Score', ascending=False)\n",
        "\n",
        "# Plot\n",
        "plt.figure(figsize=(10, 6))\n",
        "bars = plt.bar(df_is['Experiment'], df_is['IS Score'], color='mediumseagreen')\n",
        "plt.xticks(rotation=45, ha='right')\n",
        "plt.title('Inception Scores by Experiment (Higher is Better)', fontsize=14)\n",
        "plt.ylabel('Inception Score')\n",
        "plt.grid(axis='y', linestyle='--', alpha=0.7)\n",
        "\n",
        "for bar in bars:\n",
        "    yval = bar.get_height()\n",
        "    plt.text(bar.get_x() + bar.get_width()/2, yval + 0.02, f'{yval:.4f}', ha='center', fontsize=9)\n",
        "\n",
        "plt.tight_layout()\n",
        "plt.show()"
      ],
      "metadata": {
        "colab": {
          "base_uri": "https://localhost:8080/",
          "height": 607
        },
        "id": "-SWi5QRSg0jD",
        "outputId": "f8b6c804-3a63-43cd-8d47-2b2956525591"
      },
      "execution_count": null,
      "outputs": [
        {
          "output_type": "display_data",
          "data": {
            "text/plain": [
              "<Figure size 1000x600 with 1 Axes>"
            ],
            "image/png": "[encoded data removed]"
          },
          "metadata": {}
        }
      ]
    }
  ]
}